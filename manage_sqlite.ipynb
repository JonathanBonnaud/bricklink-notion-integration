{
 "cells": [
  {
   "cell_type": "markdown",
   "source": [
    "# Query DB in sqlite3"
   ],
   "metadata": {
    "collapsed": false
   },
   "id": "7830483549181cdf"
  },
  {
   "cell_type": "code",
   "execution_count": 1,
   "outputs": [],
   "source": [
    "import sqlite3"
   ],
   "metadata": {
    "collapsed": false,
    "ExecuteTime": {
     "end_time": "2023-09-06T11:00:29.303025Z",
     "start_time": "2023-09-06T11:00:29.299388Z"
    }
   },
   "id": "7c816feec8cdbb69"
  },
  {
   "cell_type": "markdown",
   "source": [
    "## Manage `notion_mapping` table"
   ],
   "metadata": {
    "collapsed": false
   },
   "id": "24155551f392bd87"
  },
  {
   "cell_type": "code",
   "execution_count": 2,
   "outputs": [],
   "source": [
    "conn = sqlite3.connect('data/lego.db')\n",
    "cursor = conn.cursor()\n",
    "cursor.execute(\"DROP TABLE notion_mapping;\")\n",
    "conn.commit()\n",
    "conn.close()"
   ],
   "metadata": {
    "collapsed": false,
    "ExecuteTime": {
     "end_time": "2023-09-05T12:03:25.288823Z",
     "start_time": "2023-09-05T12:03:25.276434Z"
    }
   },
   "id": "515199a02c046f38"
  },
  {
   "cell_type": "markdown",
   "source": [
    "# Manage `minifigs` table"
   ],
   "metadata": {
    "collapsed": false
   },
   "id": "f3c57ac98e50307c"
  },
  {
   "cell_type": "code",
   "execution_count": 5,
   "outputs": [],
   "source": [
    "conn = sqlite3.connect('data/lego.db')\n",
    "cursor = conn.cursor()\n",
    "cursor.execute(\"DROP TABLE minifigs;\")\n",
    "conn.commit()\n",
    "conn.close()"
   ],
   "metadata": {
    "collapsed": false,
    "ExecuteTime": {
     "end_time": "2023-09-06T11:59:26.470591Z",
     "start_time": "2023-09-06T11:59:26.465406Z"
    }
   },
   "id": "cfcc9b5f4bed1ffc"
  },
  {
   "cell_type": "code",
   "execution_count": 6,
   "outputs": [],
   "source": [
    "conn = sqlite3.connect('data/lego.db')\n",
    "cursor = conn.cursor()\n",
    "cursor.execute(\"DELETE FROM minifigs WHERE avg_price_raw = 'None';\")\n",
    "conn.commit()\n",
    "conn.close()"
   ],
   "metadata": {
    "collapsed": false,
    "ExecuteTime": {
     "end_time": "2023-09-06T15:07:59.623493Z",
     "start_time": "2023-09-06T15:07:59.607537Z"
    }
   },
   "id": "bbafe24bf9f84b46"
  },
  {
   "cell_type": "code",
   "execution_count": null,
   "outputs": [],
   "source": [],
   "metadata": {
    "collapsed": false
   },
   "id": "9ea11eb46e481186"
  }
 ],
 "metadata": {
  "kernelspec": {
   "display_name": "Python 3",
   "language": "python",
   "name": "python3"
  },
  "language_info": {
   "codemirror_mode": {
    "name": "ipython",
    "version": 2
   },
   "file_extension": ".py",
   "mimetype": "text/x-python",
   "name": "python",
   "nbconvert_exporter": "python",
   "pygments_lexer": "ipython2",
   "version": "2.7.6"
  }
 },
 "nbformat": 4,
 "nbformat_minor": 5
}
