{
 "cells": [
  {
   "cell_type": "code",
   "execution_count": 2,
   "id": "initial_id",
   "metadata": {
    "collapsed": true,
    "ExecuteTime": {
     "end_time": "2023-09-08T09:54:58.619287Z",
     "start_time": "2023-09-08T09:54:58.226280Z"
    }
   },
   "outputs": [],
   "source": [
    "import sqlite3\n",
    "\n",
    "import pandas as pd"
   ]
  },
  {
   "cell_type": "code",
   "execution_count": 92,
   "outputs": [],
   "source": [
    "conn = sqlite3.connect('data/lego.db')\n",
    "# df = pd.read_sql_query(\"SELECT * FROM minifigs WHERE category = 'Super Heroes'\", conn)\n",
    "df = pd.read_sql_query(\"SELECT * FROM minifigs\", conn)"
   ],
   "metadata": {
    "collapsed": false,
    "ExecuteTime": {
     "end_time": "2023-09-08T14:17:19.931223Z",
     "start_time": "2023-09-08T14:17:19.773348Z"
    }
   },
   "id": "3b1a7c8a60eb4a4b"
  },
  {
   "cell_type": "code",
   "execution_count": 93,
   "outputs": [
    {
     "name": "stdout",
     "output_type": "stream",
     "text": [
      "<class 'pandas.core.frame.DataFrame'>\n",
      "RangeIndex: 3053 entries, 0 to 3052\n",
      "Data columns (total 11 columns):\n",
      " #   Column         Non-Null Count  Dtype  \n",
      "---  ------         --------------  -----  \n",
      " 0   id             3053 non-null   object \n",
      " 1   name           3053 non-null   object \n",
      " 2   category       3053 non-null   object \n",
      " 3   sub_category   2984 non-null   object \n",
      " 4   image          3053 non-null   object \n",
      " 5   appears_in     396 non-null    object \n",
      " 6   avg_price_raw  129 non-null    object \n",
      " 7   avg_price_pln  129 non-null    float64\n",
      " 8   avg_price_eur  129 non-null    float64\n",
      " 9   bricklink      3053 non-null   object \n",
      " 10  release_year   3029 non-null   float64\n",
      "dtypes: float64(3), object(8)\n",
      "memory usage: 262.5+ KB\n"
     ]
    }
   ],
   "source": [
    "df.info()"
   ],
   "metadata": {
    "collapsed": false,
    "ExecuteTime": {
     "end_time": "2023-09-08T14:17:20.360662Z",
     "start_time": "2023-09-08T14:17:20.168164Z"
    }
   },
   "id": "9550c132d56a0a6c"
  },
  {
   "cell_type": "code",
   "execution_count": 75,
   "outputs": [
    {
     "name": "stdout",
     "output_type": "stream",
     "text": [
      "(0, 11)\n",
      "(0, 11)\n",
      "(69, 11)\n"
     ]
    }
   ],
   "source": [
    "column_name = \"sub_category\"\n",
    "print(df[df[column_name] == \"None\"].shape)\n",
    "print(df[df[column_name] == \"\"].shape)\n",
    "# df[df[\"appears_in\"] == \"[]\"].shape\n",
    "print(df[df[column_name].isnull()].shape)"
   ],
   "metadata": {
    "collapsed": false,
    "ExecuteTime": {
     "end_time": "2023-09-08T13:50:35.518155Z",
     "start_time": "2023-09-08T13:50:35.512590Z"
    }
   },
   "id": "4f4d833887ac1244"
  },
  {
   "cell_type": "code",
   "execution_count": 77,
   "outputs": [
    {
     "data": {
      "text/plain": "             id                                               name  \\\n26       sw0028                             Astromech Droid, R2-D2   \n27       sw0029  Astromech Droid, R5-D4, Short Red Stripes on Dome   \n53       sw0051                                  Yoda - Sand Green   \n74       sw0063  Droideka (Destroyer Droid) - Brown, Light Gray...   \n97      sw0011a                          Chewbacca (Reddish Brown)   \n...         ...                                                ...   \n2323    col024b                             Collectible Minifigure   \n2324    col027b                             Collectible Minifigure   \n2325    col032b                             Collectible Minifigure   \n2348  col056old                             Collectible Minifigure   \n2662     col271                             Collectible Minifigure   \n\n                     category sub_category  \\\n26                  Star Wars         None   \n27                  Star Wars         None   \n53                  Star Wars         None   \n74                  Star Wars         None   \n97                  Star Wars         None   \n...                       ...          ...   \n2323  Collectible Minifigures         None   \n2324  Collectible Minifigures         None   \n2325  Collectible Minifigures         None   \n2348  Collectible Minifigures         None   \n2662  Collectible Minifigures         None   \n\n                                                  image  \\\n26    https://img.bricklink.com/ItemImage/MN/0/sw002...   \n27    https://img.bricklink.com/ItemImage/MN/0/sw002...   \n53    https://img.bricklink.com/ItemImage/MN/0/sw005...   \n74    https://img.bricklink.com/ItemImage/MN/0/sw006...   \n97    https://img.bricklink.com/ItemImage/MN/0/sw001...   \n...                                                 ...   \n2323  https://img.bricklink.com/ItemImage/MN/0/col02...   \n2324  https://img.bricklink.com/ItemImage/MN/0/col02...   \n2325  https://img.bricklink.com/ItemImage/MN/0/col03...   \n2348  https://img.bricklink.com/ItemImage/MN/0/col05...   \n2662  https://img.bricklink.com/ItemImage/MN/0/col27...   \n\n                                             appears_in avg_price_raw  \\\n26    7669-1,7669-2,7106-1,4475-1,7190-1,7171-1,7141...     PLN 14.27   \n27                                                 None          None   \n53                          7103-1,7260-1,4502-1,4502-2     EUR 14.52   \n74                                                 None          None   \n97                                                 None          None   \n...                                                 ...           ...   \n2323                                               None          None   \n2324                                               None          None   \n2325                                               None          None   \n2348                                               None          None   \n2662                                               None          None   \n\n      avg_price_pln  avg_price_eur  \\\n26            14.27           3.18   \n27              NaN            NaN   \n53            65.18          14.52   \n74              NaN            NaN   \n97              NaN            NaN   \n...             ...            ...   \n2323            NaN            NaN   \n2324            NaN            NaN   \n2325            NaN            NaN   \n2348            NaN            NaN   \n2662            NaN            NaN   \n\n                                              bricklink  release_year  \n26    https://www.bricklink.com/v2/catalog/catalogit...        1999.0  \n27    https://www.bricklink.com/v2/catalog/catalogit...        1999.0  \n53    https://www.bricklink.com/v2/catalog/catalogit...        2002.0  \n74    https://www.bricklink.com/v2/catalog/catalogit...        2002.0  \n97    https://www.bricklink.com/v2/catalog/catalogit...        2004.0  \n...                                                 ...           ...  \n2323  https://www.bricklink.com/v2/catalog/catalogit...           NaN  \n2324  https://www.bricklink.com/v2/catalog/catalogit...           NaN  \n2325  https://www.bricklink.com/v2/catalog/catalogit...           NaN  \n2348  https://www.bricklink.com/v2/catalog/catalogit...           NaN  \n2662  https://www.bricklink.com/v2/catalog/catalogit...           NaN  \n\n[69 rows x 11 columns]",
      "text/html": "<div>\n<style scoped>\n    .dataframe tbody tr th:only-of-type {\n        vertical-align: middle;\n    }\n\n    .dataframe tbody tr th {\n        vertical-align: top;\n    }\n\n    .dataframe thead th {\n        text-align: right;\n    }\n</style>\n<table border=\"1\" class=\"dataframe\">\n  <thead>\n    <tr style=\"text-align: right;\">\n      <th></th>\n      <th>id</th>\n      <th>name</th>\n      <th>category</th>\n      <th>sub_category</th>\n      <th>image</th>\n      <th>appears_in</th>\n      <th>avg_price_raw</th>\n      <th>avg_price_pln</th>\n      <th>avg_price_eur</th>\n      <th>bricklink</th>\n      <th>release_year</th>\n    </tr>\n  </thead>\n  <tbody>\n    <tr>\n      <th>26</th>\n      <td>sw0028</td>\n      <td>Astromech Droid, R2-D2</td>\n      <td>Star Wars</td>\n      <td>None</td>\n      <td>https://img.bricklink.com/ItemImage/MN/0/sw002...</td>\n      <td>7669-1,7669-2,7106-1,4475-1,7190-1,7171-1,7141...</td>\n      <td>PLN 14.27</td>\n      <td>14.27</td>\n      <td>3.18</td>\n      <td>https://www.bricklink.com/v2/catalog/catalogit...</td>\n      <td>1999.0</td>\n    </tr>\n    <tr>\n      <th>27</th>\n      <td>sw0029</td>\n      <td>Astromech Droid, R5-D4, Short Red Stripes on Dome</td>\n      <td>Star Wars</td>\n      <td>None</td>\n      <td>https://img.bricklink.com/ItemImage/MN/0/sw002...</td>\n      <td>None</td>\n      <td>None</td>\n      <td>NaN</td>\n      <td>NaN</td>\n      <td>https://www.bricklink.com/v2/catalog/catalogit...</td>\n      <td>1999.0</td>\n    </tr>\n    <tr>\n      <th>53</th>\n      <td>sw0051</td>\n      <td>Yoda - Sand Green</td>\n      <td>Star Wars</td>\n      <td>None</td>\n      <td>https://img.bricklink.com/ItemImage/MN/0/sw005...</td>\n      <td>7103-1,7260-1,4502-1,4502-2</td>\n      <td>EUR 14.52</td>\n      <td>65.18</td>\n      <td>14.52</td>\n      <td>https://www.bricklink.com/v2/catalog/catalogit...</td>\n      <td>2002.0</td>\n    </tr>\n    <tr>\n      <th>74</th>\n      <td>sw0063</td>\n      <td>Droideka (Destroyer Droid) - Brown, Light Gray...</td>\n      <td>Star Wars</td>\n      <td>None</td>\n      <td>https://img.bricklink.com/ItemImage/MN/0/sw006...</td>\n      <td>None</td>\n      <td>None</td>\n      <td>NaN</td>\n      <td>NaN</td>\n      <td>https://www.bricklink.com/v2/catalog/catalogit...</td>\n      <td>2002.0</td>\n    </tr>\n    <tr>\n      <th>97</th>\n      <td>sw0011a</td>\n      <td>Chewbacca (Reddish Brown)</td>\n      <td>Star Wars</td>\n      <td>None</td>\n      <td>https://img.bricklink.com/ItemImage/MN/0/sw001...</td>\n      <td>None</td>\n      <td>None</td>\n      <td>NaN</td>\n      <td>NaN</td>\n      <td>https://www.bricklink.com/v2/catalog/catalogit...</td>\n      <td>2004.0</td>\n    </tr>\n    <tr>\n      <th>...</th>\n      <td>...</td>\n      <td>...</td>\n      <td>...</td>\n      <td>...</td>\n      <td>...</td>\n      <td>...</td>\n      <td>...</td>\n      <td>...</td>\n      <td>...</td>\n      <td>...</td>\n      <td>...</td>\n    </tr>\n    <tr>\n      <th>2323</th>\n      <td>col024b</td>\n      <td>Collectible Minifigure</td>\n      <td>Collectible Minifigures</td>\n      <td>None</td>\n      <td>https://img.bricklink.com/ItemImage/MN/0/col02...</td>\n      <td>None</td>\n      <td>None</td>\n      <td>NaN</td>\n      <td>NaN</td>\n      <td>https://www.bricklink.com/v2/catalog/catalogit...</td>\n      <td>NaN</td>\n    </tr>\n    <tr>\n      <th>2324</th>\n      <td>col027b</td>\n      <td>Collectible Minifigure</td>\n      <td>Collectible Minifigures</td>\n      <td>None</td>\n      <td>https://img.bricklink.com/ItemImage/MN/0/col02...</td>\n      <td>None</td>\n      <td>None</td>\n      <td>NaN</td>\n      <td>NaN</td>\n      <td>https://www.bricklink.com/v2/catalog/catalogit...</td>\n      <td>NaN</td>\n    </tr>\n    <tr>\n      <th>2325</th>\n      <td>col032b</td>\n      <td>Collectible Minifigure</td>\n      <td>Collectible Minifigures</td>\n      <td>None</td>\n      <td>https://img.bricklink.com/ItemImage/MN/0/col03...</td>\n      <td>None</td>\n      <td>None</td>\n      <td>NaN</td>\n      <td>NaN</td>\n      <td>https://www.bricklink.com/v2/catalog/catalogit...</td>\n      <td>NaN</td>\n    </tr>\n    <tr>\n      <th>2348</th>\n      <td>col056old</td>\n      <td>Collectible Minifigure</td>\n      <td>Collectible Minifigures</td>\n      <td>None</td>\n      <td>https://img.bricklink.com/ItemImage/MN/0/col05...</td>\n      <td>None</td>\n      <td>None</td>\n      <td>NaN</td>\n      <td>NaN</td>\n      <td>https://www.bricklink.com/v2/catalog/catalogit...</td>\n      <td>NaN</td>\n    </tr>\n    <tr>\n      <th>2662</th>\n      <td>col271</td>\n      <td>Collectible Minifigure</td>\n      <td>Collectible Minifigures</td>\n      <td>None</td>\n      <td>https://img.bricklink.com/ItemImage/MN/0/col27...</td>\n      <td>None</td>\n      <td>None</td>\n      <td>NaN</td>\n      <td>NaN</td>\n      <td>https://www.bricklink.com/v2/catalog/catalogit...</td>\n      <td>NaN</td>\n    </tr>\n  </tbody>\n</table>\n<p>69 rows × 11 columns</p>\n</div>"
     },
     "execution_count": 77,
     "metadata": {},
     "output_type": "execute_result"
    }
   ],
   "source": [
    "df[df[\"sub_category\"].isnull()]"
   ],
   "metadata": {
    "collapsed": false,
    "ExecuteTime": {
     "end_time": "2023-09-08T14:00:51.085521Z",
     "start_time": "2023-09-08T14:00:51.005154Z"
    }
   },
   "id": "6af773e647d8928d"
  },
  {
   "cell_type": "code",
   "execution_count": 88,
   "outputs": [
    {
     "data": {
      "text/plain": "          id                                               name   category  \\\n3047  sw1254  Obi-Wan Kenobi (Old) - Tattered Cape (Watch 90...  Star Wars   \n\n                 sub_category  \\\n3047  Star Wars Episode 4/5/6   \n\n                                                  image appears_in  \\\n3047  https://img.bricklink.com/ItemImage/MN/0/sw125...       None   \n\n     avg_price_raw  avg_price_pln  avg_price_eur  \\\n3047          None            NaN            NaN   \n\n                                              bricklink  release_year  \n3047  https://www.bricklink.com/v2/catalog/catalogit...           NaN  ",
      "text/html": "<div>\n<style scoped>\n    .dataframe tbody tr th:only-of-type {\n        vertical-align: middle;\n    }\n\n    .dataframe tbody tr th {\n        vertical-align: top;\n    }\n\n    .dataframe thead th {\n        text-align: right;\n    }\n</style>\n<table border=\"1\" class=\"dataframe\">\n  <thead>\n    <tr style=\"text-align: right;\">\n      <th></th>\n      <th>id</th>\n      <th>name</th>\n      <th>category</th>\n      <th>sub_category</th>\n      <th>image</th>\n      <th>appears_in</th>\n      <th>avg_price_raw</th>\n      <th>avg_price_pln</th>\n      <th>avg_price_eur</th>\n      <th>bricklink</th>\n      <th>release_year</th>\n    </tr>\n  </thead>\n  <tbody>\n    <tr>\n      <th>3047</th>\n      <td>sw1254</td>\n      <td>Obi-Wan Kenobi (Old) - Tattered Cape (Watch 90...</td>\n      <td>Star Wars</td>\n      <td>Star Wars Episode 4/5/6</td>\n      <td>https://img.bricklink.com/ItemImage/MN/0/sw125...</td>\n      <td>None</td>\n      <td>None</td>\n      <td>NaN</td>\n      <td>NaN</td>\n      <td>https://www.bricklink.com/v2/catalog/catalogit...</td>\n      <td>NaN</td>\n    </tr>\n  </tbody>\n</table>\n</div>"
     },
     "execution_count": 88,
     "metadata": {},
     "output_type": "execute_result"
    }
   ],
   "source": [
    "df[df[\"id\"] == \"sw1254\"]"
   ],
   "metadata": {
    "collapsed": false,
    "ExecuteTime": {
     "end_time": "2023-09-08T14:13:18.402180Z",
     "start_time": "2023-09-08T14:13:18.388863Z"
    }
   },
   "id": "79b3b96a53e97852"
  },
  {
   "cell_type": "code",
   "execution_count": 56,
   "outputs": [
    {
     "name": "stdout",
     "output_type": "stream",
     "text": [
      "{'EUR 4.54', 'EUR 7.23', 'PLN 49.56', 'PLN 163.00', 'PLN 14.27', 'PLN 100.56', 'PLN 67.26', 'PLN 46.89', 'PLN 52.76', 'PLN 31.24', 'PLN 129.75', 'PLN 357.74', 'PLN 64.42', 'EUR 131.64', 'PLN 32.24', 'EUR 4.73', 'PLN 162.79', 'EUR 7.64', 'EUR 6.88', 'PLN 28.03', 'PLN 36.23', 'EUR 14.52', 'EUR 11.30', 'PLN 53.94', 'EUR 4.69', 'EUR 5.67', 'PLN 51.38', 'PLN 297.56', 'EUR 13.00', 'EUR 1.72', 'PLN 46.19', 'PLN 135.79', 'PLN 72.16', 'EUR 7.93', 'PLN 41.58', 'EUR 3.30', 'PLN 42.45', 'PLN 14.53', 'PLN 32.04', 'PLN 207.19', 'EUR 10.78', 'EUR 16.91', 'PLN 23.59', 'PLN 40.51', 'EUR 35.68', 'PLN 24.22', 'PLN 50.69', 'PLN 135.46', 'PLN 32.03', 'PLN 41.42', 'EUR 3.49', 'EUR 103.66', 'EUR 3.56', 'EUR 6.37', None, 'PLN 83.78', 'PLN 47.83', 'EUR 31.57', 'PLN 30.43', 'PLN 41.14', 'PLN 25.00', 'EUR 7.17', 'EUR 24.07', 'PLN 89.15', 'PLN 22.16', 'PLN 198.77', 'PLN 24.62', 'PLN 42.34', 'PLN 112.89', 'PLN 25.13', 'PLN 107.91', 'PLN 31.22', 'PLN 660.10', 'PLN 35.41', 'PLN 18.66', 'PLN 121.71', 'PLN 67.16', 'PLN 64.21', 'PLN 43.31', 'PLN 30.97', 'PLN 30.23', 'PLN 105.96', 'PLN 47.61', 'PLN 58.19', 'EUR 88.52', 'PLN 30.12', 'PLN 23.31', 'PLN 23.45', 'PLN 42.27', 'PLN 62.83', 'PLN 14.39', 'PLN 45.41', 'PLN 22.30', 'EUR 9.20', 'PLN 88.56', 'PLN 31.03', 'PLN 11.85', 'EUR 8.54', 'PLN 38.67', 'PLN 22.62', 'EUR 39.87', 'PLN 34.89'}\n"
     ]
    }
   ],
   "source": [
    "print(set(df[\"avg_price_raw\"].tolist()))"
   ],
   "metadata": {
    "collapsed": false,
    "ExecuteTime": {
     "end_time": "2023-09-08T10:47:59.995596Z",
     "start_time": "2023-09-08T10:47:59.979076Z"
    }
   },
   "id": "7a4fe3c7d10c9b58"
  },
  {
   "cell_type": "code",
   "execution_count": 18,
   "outputs": [],
   "source": [
    "conn = sqlite3.connect('data/lego.db')\n",
    "df = pd.read_sql_query(\"SELECT * FROM notion_mapping\", conn)"
   ],
   "metadata": {
    "collapsed": false,
    "ExecuteTime": {
     "end_time": "2023-09-07T15:48:36.776407Z",
     "start_time": "2023-09-07T15:48:36.770436Z"
    }
   },
   "id": "cec0cbd1a034b2d7"
  },
  {
   "cell_type": "code",
   "execution_count": 19,
   "outputs": [
    {
     "data": {
      "text/plain": "                                 page_id    bl_id\n0   3795de29-bb69-4ad2-962f-866407f4b7a2   hfw002\n1   9cffc595-cc42-427d-a9d9-a6f965478be3   hfw001\n2   ee223296-a8a4-4f73-87f1-162959b257d0  76989-1\n3   9a35f79b-7c09-47d4-8d8e-b6e45ed2d0a6   avt027\n4   5b34994f-ef70-42d9-a91c-779faf66e595   avt026\n5   3156cbcb-2075-4553-9506-fb1df1a1f0cb   avt025\n6   44c44a22-d927-472c-b0d9-5bc72f3bff38   avt024\n7   fa3c4aa0-7e7d-479f-9316-a540a0acacaf   avt023\n8   4b2c6d89-52d9-4b9b-8708-601f5498c93a   avt022\n9   6fdcef1e-ddbd-40d1-a14e-4b8ac4625c37   avt021\n10  80fda8fb-3db9-42a3-8822-c494e4ef6b14   avt020\n11  01b80366-0adc-4734-9001-e80206a9edfc   avt019\n12  a0b4e896-b1ae-4226-8119-9e8d15b9e6b9   avt018\n13  80ea46b7-3d2d-4df9-9748-a65c4b22f651   avt017\n14  50fd55e2-984d-4c5b-a748-1abe0e8b9f57   avt016\n15  77cd75f0-0fcd-4f17-ac9f-74d0e3af6d6a   avt015\n16  f5cf53dd-f665-4966-8710-c05d03c3e876   avt014\n17  b3277d12-76bb-4b5c-b3f2-3801f8f0d285   avt013\n18  4d8e2f05-e5e1-4144-8990-f920811fa298   avt012\n19  875de285-1869-49d4-b1dd-bcf3f0ee3332   avt011\n20  e83ff4ee-7293-4fc6-a2b4-fa0dd22604a9   avt010\n21  bc4a3cd5-237e-41c9-84df-568ac2c5b50b   avt009\n22  93b57a27-ef96-434a-a2fb-9659c964bbe7   avt008\n23  4b0d4e77-26d6-4517-a661-89e7723a4479   avt007\n24  e5282706-7ac0-496a-9117-3381fb084c7b   avt006\n25  1cfdcd24-ddd6-4ed0-83e1-c21a6c031350   avt005\n26  25aed8e9-318a-4c13-a9f3-c2ce81ad8456   avt004\n27  9a10cfd4-2206-4840-bed6-f2ec189a5fd4   avt003\n28  80591ae0-1ccc-480c-8343-7f6fbeb96e5f   avt002\n29  2cffc6b2-da2f-4945-b0c6-5e036683d905   avt001\n30  b597136d-fb54-409b-91a5-465f1715f909  75579-1\n31  d10346c1-e9d2-4e13-8b2f-d67bddf75f2e  75578-1\n32  469f96b0-9054-4c4b-826d-34241bfd3e3c  75577-1\n33  8e54c728-005c-48a9-b4b5-b07553b59990  75576-1\n34  3d486676-960d-4ce9-a061-9b6939cb2f54  75575-1\n35  7f6a8086-12d2-4f67-9311-ce3bc39d1315  75574-1\n36  299f3e73-f358-4d53-bb6c-f7e6654009f7  75573-1\n37  8c4871e7-62f9-4d57-9658-5c712bf1ade9  75572-1\n38  6dcc948d-50df-4939-acff-f90980afe3e8  75571-1",
      "text/html": "<div>\n<style scoped>\n    .dataframe tbody tr th:only-of-type {\n        vertical-align: middle;\n    }\n\n    .dataframe tbody tr th {\n        vertical-align: top;\n    }\n\n    .dataframe thead th {\n        text-align: right;\n    }\n</style>\n<table border=\"1\" class=\"dataframe\">\n  <thead>\n    <tr style=\"text-align: right;\">\n      <th></th>\n      <th>page_id</th>\n      <th>bl_id</th>\n    </tr>\n  </thead>\n  <tbody>\n    <tr>\n      <th>0</th>\n      <td>3795de29-bb69-4ad2-962f-866407f4b7a2</td>\n      <td>hfw002</td>\n    </tr>\n    <tr>\n      <th>1</th>\n      <td>9cffc595-cc42-427d-a9d9-a6f965478be3</td>\n      <td>hfw001</td>\n    </tr>\n    <tr>\n      <th>2</th>\n      <td>ee223296-a8a4-4f73-87f1-162959b257d0</td>\n      <td>76989-1</td>\n    </tr>\n    <tr>\n      <th>3</th>\n      <td>9a35f79b-7c09-47d4-8d8e-b6e45ed2d0a6</td>\n      <td>avt027</td>\n    </tr>\n    <tr>\n      <th>4</th>\n      <td>5b34994f-ef70-42d9-a91c-779faf66e595</td>\n      <td>avt026</td>\n    </tr>\n    <tr>\n      <th>5</th>\n      <td>3156cbcb-2075-4553-9506-fb1df1a1f0cb</td>\n      <td>avt025</td>\n    </tr>\n    <tr>\n      <th>6</th>\n      <td>44c44a22-d927-472c-b0d9-5bc72f3bff38</td>\n      <td>avt024</td>\n    </tr>\n    <tr>\n      <th>7</th>\n      <td>fa3c4aa0-7e7d-479f-9316-a540a0acacaf</td>\n      <td>avt023</td>\n    </tr>\n    <tr>\n      <th>8</th>\n      <td>4b2c6d89-52d9-4b9b-8708-601f5498c93a</td>\n      <td>avt022</td>\n    </tr>\n    <tr>\n      <th>9</th>\n      <td>6fdcef1e-ddbd-40d1-a14e-4b8ac4625c37</td>\n      <td>avt021</td>\n    </tr>\n    <tr>\n      <th>10</th>\n      <td>80fda8fb-3db9-42a3-8822-c494e4ef6b14</td>\n      <td>avt020</td>\n    </tr>\n    <tr>\n      <th>11</th>\n      <td>01b80366-0adc-4734-9001-e80206a9edfc</td>\n      <td>avt019</td>\n    </tr>\n    <tr>\n      <th>12</th>\n      <td>a0b4e896-b1ae-4226-8119-9e8d15b9e6b9</td>\n      <td>avt018</td>\n    </tr>\n    <tr>\n      <th>13</th>\n      <td>80ea46b7-3d2d-4df9-9748-a65c4b22f651</td>\n      <td>avt017</td>\n    </tr>\n    <tr>\n      <th>14</th>\n      <td>50fd55e2-984d-4c5b-a748-1abe0e8b9f57</td>\n      <td>avt016</td>\n    </tr>\n    <tr>\n      <th>15</th>\n      <td>77cd75f0-0fcd-4f17-ac9f-74d0e3af6d6a</td>\n      <td>avt015</td>\n    </tr>\n    <tr>\n      <th>16</th>\n      <td>f5cf53dd-f665-4966-8710-c05d03c3e876</td>\n      <td>avt014</td>\n    </tr>\n    <tr>\n      <th>17</th>\n      <td>b3277d12-76bb-4b5c-b3f2-3801f8f0d285</td>\n      <td>avt013</td>\n    </tr>\n    <tr>\n      <th>18</th>\n      <td>4d8e2f05-e5e1-4144-8990-f920811fa298</td>\n      <td>avt012</td>\n    </tr>\n    <tr>\n      <th>19</th>\n      <td>875de285-1869-49d4-b1dd-bcf3f0ee3332</td>\n      <td>avt011</td>\n    </tr>\n    <tr>\n      <th>20</th>\n      <td>e83ff4ee-7293-4fc6-a2b4-fa0dd22604a9</td>\n      <td>avt010</td>\n    </tr>\n    <tr>\n      <th>21</th>\n      <td>bc4a3cd5-237e-41c9-84df-568ac2c5b50b</td>\n      <td>avt009</td>\n    </tr>\n    <tr>\n      <th>22</th>\n      <td>93b57a27-ef96-434a-a2fb-9659c964bbe7</td>\n      <td>avt008</td>\n    </tr>\n    <tr>\n      <th>23</th>\n      <td>4b0d4e77-26d6-4517-a661-89e7723a4479</td>\n      <td>avt007</td>\n    </tr>\n    <tr>\n      <th>24</th>\n      <td>e5282706-7ac0-496a-9117-3381fb084c7b</td>\n      <td>avt006</td>\n    </tr>\n    <tr>\n      <th>25</th>\n      <td>1cfdcd24-ddd6-4ed0-83e1-c21a6c031350</td>\n      <td>avt005</td>\n    </tr>\n    <tr>\n      <th>26</th>\n      <td>25aed8e9-318a-4c13-a9f3-c2ce81ad8456</td>\n      <td>avt004</td>\n    </tr>\n    <tr>\n      <th>27</th>\n      <td>9a10cfd4-2206-4840-bed6-f2ec189a5fd4</td>\n      <td>avt003</td>\n    </tr>\n    <tr>\n      <th>28</th>\n      <td>80591ae0-1ccc-480c-8343-7f6fbeb96e5f</td>\n      <td>avt002</td>\n    </tr>\n    <tr>\n      <th>29</th>\n      <td>2cffc6b2-da2f-4945-b0c6-5e036683d905</td>\n      <td>avt001</td>\n    </tr>\n    <tr>\n      <th>30</th>\n      <td>b597136d-fb54-409b-91a5-465f1715f909</td>\n      <td>75579-1</td>\n    </tr>\n    <tr>\n      <th>31</th>\n      <td>d10346c1-e9d2-4e13-8b2f-d67bddf75f2e</td>\n      <td>75578-1</td>\n    </tr>\n    <tr>\n      <th>32</th>\n      <td>469f96b0-9054-4c4b-826d-34241bfd3e3c</td>\n      <td>75577-1</td>\n    </tr>\n    <tr>\n      <th>33</th>\n      <td>8e54c728-005c-48a9-b4b5-b07553b59990</td>\n      <td>75576-1</td>\n    </tr>\n    <tr>\n      <th>34</th>\n      <td>3d486676-960d-4ce9-a061-9b6939cb2f54</td>\n      <td>75575-1</td>\n    </tr>\n    <tr>\n      <th>35</th>\n      <td>7f6a8086-12d2-4f67-9311-ce3bc39d1315</td>\n      <td>75574-1</td>\n    </tr>\n    <tr>\n      <th>36</th>\n      <td>299f3e73-f358-4d53-bb6c-f7e6654009f7</td>\n      <td>75573-1</td>\n    </tr>\n    <tr>\n      <th>37</th>\n      <td>8c4871e7-62f9-4d57-9658-5c712bf1ade9</td>\n      <td>75572-1</td>\n    </tr>\n    <tr>\n      <th>38</th>\n      <td>6dcc948d-50df-4939-acff-f90980afe3e8</td>\n      <td>75571-1</td>\n    </tr>\n  </tbody>\n</table>\n</div>"
     },
     "execution_count": 19,
     "metadata": {},
     "output_type": "execute_result"
    }
   ],
   "source": [
    "df"
   ],
   "metadata": {
    "collapsed": false,
    "ExecuteTime": {
     "end_time": "2023-09-07T15:48:37.531537Z",
     "start_time": "2023-09-07T15:48:37.526578Z"
    }
   },
   "id": "9f4cd73aaff9a31"
  }
 ],
 "metadata": {
  "kernelspec": {
   "display_name": "Python 3",
   "language": "python",
   "name": "python3"
  },
  "language_info": {
   "codemirror_mode": {
    "name": "ipython",
    "version": 2
   },
   "file_extension": ".py",
   "mimetype": "text/x-python",
   "name": "python",
   "nbconvert_exporter": "python",
   "pygments_lexer": "ipython2",
   "version": "2.7.6"
  }
 },
 "nbformat": 4,
 "nbformat_minor": 5
}
