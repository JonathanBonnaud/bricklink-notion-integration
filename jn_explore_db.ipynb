{
 "cells": [
  {
   "cell_type": "code",
   "execution_count": 1,
   "id": "initial_id",
   "metadata": {
    "collapsed": true,
    "ExecuteTime": {
     "end_time": "2023-09-12T10:51:36.072144Z",
     "start_time": "2023-09-12T10:51:33.929091Z"
    }
   },
   "outputs": [],
   "source": [
    "import sqlite3\n",
    "\n",
    "import pandas as pd"
   ]
  },
  {
   "cell_type": "markdown",
   "source": [
    "# Read minifigs"
   ],
   "metadata": {
    "collapsed": false
   },
   "id": "4e126c80ada27fac"
  },
  {
   "cell_type": "code",
   "execution_count": 43,
   "outputs": [],
   "source": [
    "conn = sqlite3.connect('data/lego.db')\n",
    "# df = pd.read_sql_query(\"SELECT * FROM minifigs WHERE category = 'Super Heroes'\", conn)\n",
    "df = pd.read_sql_query(\"SELECT * FROM minifigs\", conn)"
   ],
   "metadata": {
    "collapsed": false,
    "ExecuteTime": {
     "end_time": "2023-09-12T14:14:01.454516Z",
     "start_time": "2023-09-12T14:14:01.400209Z"
    }
   },
   "id": "3b1a7c8a60eb4a4b"
  },
  {
   "cell_type": "code",
   "execution_count": 44,
   "outputs": [
    {
     "name": "stdout",
     "output_type": "stream",
     "text": [
      "<class 'pandas.core.frame.DataFrame'>\n",
      "RangeIndex: 3053 entries, 0 to 3052\n",
      "Data columns (total 11 columns):\n",
      " #   Column         Non-Null Count  Dtype  \n",
      "---  ------         --------------  -----  \n",
      " 0   id             3053 non-null   object \n",
      " 1   name           3053 non-null   object \n",
      " 2   category       3053 non-null   object \n",
      " 3   sub_category   2984 non-null   object \n",
      " 4   image          3053 non-null   object \n",
      " 5   appears_in     1340 non-null   object \n",
      " 6   avg_price_raw  220 non-null    object \n",
      " 7   avg_price_pln  220 non-null    float64\n",
      " 8   avg_price_eur  220 non-null    float64\n",
      " 9   bricklink      3053 non-null   object \n",
      " 10  release_year   3029 non-null   float64\n",
      "dtypes: float64(3), object(8)\n",
      "memory usage: 262.5+ KB\n"
     ]
    }
   ],
   "source": [
    "df.info()"
   ],
   "metadata": {
    "collapsed": false,
    "ExecuteTime": {
     "end_time": "2023-09-12T14:14:01.744454Z",
     "start_time": "2023-09-12T14:14:01.738641Z"
    }
   },
   "id": "9550c132d56a0a6c"
  },
  {
   "cell_type": "code",
   "execution_count": 21,
   "outputs": [
    {
     "name": "stdout",
     "output_type": "stream",
     "text": [
      "(0, 11)\n",
      "(0, 11)\n",
      "(1779, 11)\n"
     ]
    }
   ],
   "source": [
    "column_name = \"appears_in\"\n",
    "print(df[df[column_name] == \"None\"].shape)\n",
    "print(df[df[column_name] == \"\"].shape)\n",
    "print(df[df[column_name].isnull()].shape)"
   ],
   "metadata": {
    "collapsed": false,
    "ExecuteTime": {
     "end_time": "2023-09-12T12:14:36.807631Z",
     "start_time": "2023-09-12T12:14:36.791082Z"
    }
   },
   "id": "4f4d833887ac1244"
  },
  {
   "cell_type": "code",
   "execution_count": 23,
   "outputs": [
    {
     "data": {
      "text/plain": "          id                               name   category  \\\n1081  sw1035  Captain Antilles (Dark Tan Shirt)  Star Wars   \n\n                 sub_category  \\\n1081  Star Wars Episode 4/5/6   \n\n                                                  image appears_in  \\\n1081  https://img.bricklink.com/ItemImage/MN/0/sw103...    75244-1   \n\n     avg_price_raw  avg_price_pln  avg_price_eur  \\\n1081          None            NaN            NaN   \n\n                                              bricklink  release_year  \n1081  https://www.bricklink.com/v2/catalog/catalogit...        2019.0  ",
      "text/html": "<div>\n<style scoped>\n    .dataframe tbody tr th:only-of-type {\n        vertical-align: middle;\n    }\n\n    .dataframe tbody tr th {\n        vertical-align: top;\n    }\n\n    .dataframe thead th {\n        text-align: right;\n    }\n</style>\n<table border=\"1\" class=\"dataframe\">\n  <thead>\n    <tr style=\"text-align: right;\">\n      <th></th>\n      <th>id</th>\n      <th>name</th>\n      <th>category</th>\n      <th>sub_category</th>\n      <th>image</th>\n      <th>appears_in</th>\n      <th>avg_price_raw</th>\n      <th>avg_price_pln</th>\n      <th>avg_price_eur</th>\n      <th>bricklink</th>\n      <th>release_year</th>\n    </tr>\n  </thead>\n  <tbody>\n    <tr>\n      <th>1081</th>\n      <td>sw1035</td>\n      <td>Captain Antilles (Dark Tan Shirt)</td>\n      <td>Star Wars</td>\n      <td>Star Wars Episode 4/5/6</td>\n      <td>https://img.bricklink.com/ItemImage/MN/0/sw103...</td>\n      <td>75244-1</td>\n      <td>None</td>\n      <td>NaN</td>\n      <td>NaN</td>\n      <td>https://www.bricklink.com/v2/catalog/catalogit...</td>\n      <td>2019.0</td>\n    </tr>\n  </tbody>\n</table>\n</div>"
     },
     "execution_count": 23,
     "metadata": {},
     "output_type": "execute_result"
    }
   ],
   "source": [
    "df[df[\"id\"] == \"sw1035\"]"
   ],
   "metadata": {
    "collapsed": false,
    "ExecuteTime": {
     "end_time": "2023-09-12T12:14:49.944568Z",
     "start_time": "2023-09-12T12:14:49.853919Z"
    }
   },
   "id": "6af773e647d8928d"
  },
  {
   "cell_type": "code",
   "execution_count": 45,
   "outputs": [
    {
     "data": {
      "text/plain": "          id                             name   category         sub_category  \\\n1103  sw1052  Astromech Droid, Dark Turquoise  Star Wars  Star Wars Episode 9   \n\n                                                  image appears_in  \\\n1103  https://img.bricklink.com/ItemImage/MN/0/sw105...    75249-1   \n\n     avg_price_raw  avg_price_pln  avg_price_eur  \\\n1103          None            NaN            NaN   \n\n                                              bricklink  release_year  \n1103  https://www.bricklink.com/v2/catalog/catalogit...        2019.0  ",
      "text/html": "<div>\n<style scoped>\n    .dataframe tbody tr th:only-of-type {\n        vertical-align: middle;\n    }\n\n    .dataframe tbody tr th {\n        vertical-align: top;\n    }\n\n    .dataframe thead th {\n        text-align: right;\n    }\n</style>\n<table border=\"1\" class=\"dataframe\">\n  <thead>\n    <tr style=\"text-align: right;\">\n      <th></th>\n      <th>id</th>\n      <th>name</th>\n      <th>category</th>\n      <th>sub_category</th>\n      <th>image</th>\n      <th>appears_in</th>\n      <th>avg_price_raw</th>\n      <th>avg_price_pln</th>\n      <th>avg_price_eur</th>\n      <th>bricklink</th>\n      <th>release_year</th>\n    </tr>\n  </thead>\n  <tbody>\n    <tr>\n      <th>1103</th>\n      <td>sw1052</td>\n      <td>Astromech Droid, Dark Turquoise</td>\n      <td>Star Wars</td>\n      <td>Star Wars Episode 9</td>\n      <td>https://img.bricklink.com/ItemImage/MN/0/sw105...</td>\n      <td>75249-1</td>\n      <td>None</td>\n      <td>NaN</td>\n      <td>NaN</td>\n      <td>https://www.bricklink.com/v2/catalog/catalogit...</td>\n      <td>2019.0</td>\n    </tr>\n  </tbody>\n</table>\n</div>"
     },
     "execution_count": 45,
     "metadata": {},
     "output_type": "execute_result"
    }
   ],
   "source": [
    "df[df[\"id\"] == \"sw1052\"]"
   ],
   "metadata": {
    "collapsed": false,
    "ExecuteTime": {
     "end_time": "2023-09-12T14:14:06.594100Z",
     "start_time": "2023-09-12T14:14:06.585477Z"
    }
   },
   "id": "79b3b96a53e97852"
  },
  {
   "cell_type": "markdown",
   "source": [
    "# Read sets"
   ],
   "metadata": {
    "collapsed": false
   },
   "id": "7a9556fe39d7f9c4"
  },
  {
   "cell_type": "code",
   "execution_count": 24,
   "outputs": [],
   "source": [
    "conn = sqlite3.connect('data/lego.db')\n",
    "sets_df = pd.read_sql_query(\"SELECT * FROM sets WHERE category = 'Star Wars'\", conn)"
   ],
   "metadata": {
    "collapsed": false,
    "ExecuteTime": {
     "end_time": "2023-09-12T12:29:49.881815Z",
     "start_time": "2023-09-12T12:29:49.850403Z"
    }
   },
   "id": "d77aa3a5669fb145"
  },
  {
   "cell_type": "code",
   "execution_count": 25,
   "outputs": [
    {
     "name": "stdout",
     "output_type": "stream",
     "text": [
      "<class 'pandas.core.frame.DataFrame'>\n",
      "RangeIndex: 466 entries, 0 to 465\n",
      "Data columns (total 11 columns):\n",
      " #   Column             Non-Null Count  Dtype \n",
      "---  ------             --------------  ----- \n",
      " 0   id                 466 non-null    object\n",
      " 1   name               466 non-null    object\n",
      " 2   category           466 non-null    object\n",
      " 3   sub_category       466 non-null    object\n",
      " 4   image              466 non-null    object\n",
      " 5   minifigs_included  466 non-null    object\n",
      " 6   avg_price_raw      0 non-null      object\n",
      " 7   avg_price_pln      0 non-null      object\n",
      " 8   avg_price_eur      0 non-null      object\n",
      " 9   bricklink          466 non-null    object\n",
      " 10  release_year       466 non-null    int64 \n",
      "dtypes: int64(1), object(10)\n",
      "memory usage: 40.2+ KB\n"
     ]
    }
   ],
   "source": [
    "sets_df.info()"
   ],
   "metadata": {
    "collapsed": false,
    "ExecuteTime": {
     "end_time": "2023-09-12T12:29:50.039812Z",
     "start_time": "2023-09-12T12:29:50.028314Z"
    }
   },
   "id": "e4e22d196542e25a"
  },
  {
   "cell_type": "code",
   "execution_count": 42,
   "outputs": [
    {
     "data": {
      "text/plain": "          id          name   category               sub_category  \\\n362  75254-1  AT-ST Raider  Star Wars  Star Wars The Mandalorian   \n\n                                                 image minifigs_included  \\\n362  https://img.bricklink.com/ItemImage/ON/0/75254...               TBD   \n\n    avg_price_raw avg_price_pln avg_price_eur  \\\n362          None          None          None   \n\n                                             bricklink  release_year  \n362  https://www.bricklink.com/v2/catalog/catalogit...          2019  ",
      "text/html": "<div>\n<style scoped>\n    .dataframe tbody tr th:only-of-type {\n        vertical-align: middle;\n    }\n\n    .dataframe tbody tr th {\n        vertical-align: top;\n    }\n\n    .dataframe thead th {\n        text-align: right;\n    }\n</style>\n<table border=\"1\" class=\"dataframe\">\n  <thead>\n    <tr style=\"text-align: right;\">\n      <th></th>\n      <th>id</th>\n      <th>name</th>\n      <th>category</th>\n      <th>sub_category</th>\n      <th>image</th>\n      <th>minifigs_included</th>\n      <th>avg_price_raw</th>\n      <th>avg_price_pln</th>\n      <th>avg_price_eur</th>\n      <th>bricklink</th>\n      <th>release_year</th>\n    </tr>\n  </thead>\n  <tbody>\n    <tr>\n      <th>362</th>\n      <td>75254-1</td>\n      <td>AT-ST Raider</td>\n      <td>Star Wars</td>\n      <td>Star Wars The Mandalorian</td>\n      <td>https://img.bricklink.com/ItemImage/ON/0/75254...</td>\n      <td>TBD</td>\n      <td>None</td>\n      <td>None</td>\n      <td>None</td>\n      <td>https://www.bricklink.com/v2/catalog/catalogit...</td>\n      <td>2019</td>\n    </tr>\n  </tbody>\n</table>\n</div>"
     },
     "execution_count": 42,
     "metadata": {},
     "output_type": "execute_result"
    }
   ],
   "source": [
    "sets_df[sets_df[\"id\"] == \"75254-1\"]"
   ],
   "metadata": {
    "collapsed": false,
    "ExecuteTime": {
     "end_time": "2023-09-12T14:13:34.535076Z",
     "start_time": "2023-09-12T14:13:34.527598Z"
    }
   },
   "id": "88d57808fd748acf"
  },
  {
   "cell_type": "markdown",
   "source": [
    "# Read notion_mapping"
   ],
   "metadata": {
    "collapsed": false
   },
   "id": "7a01a9c6cb1d9d69"
  },
  {
   "cell_type": "code",
   "execution_count": 40,
   "outputs": [],
   "source": [
    "conn = sqlite3.connect('data/lego.db')\n",
    "df_notion = pd.read_sql_query(\"SELECT * FROM notion_mapping WHERE account_name = 'VI'\", conn)"
   ],
   "metadata": {
    "collapsed": false,
    "ExecuteTime": {
     "end_time": "2023-09-12T14:13:29.814968Z",
     "start_time": "2023-09-12T14:13:29.795626Z"
    }
   },
   "id": "cec0cbd1a034b2d7"
  },
  {
   "cell_type": "code",
   "execution_count": 41,
   "outputs": [
    {
     "data": {
      "text/plain": "                                  page_id    bl_id account_name\n0    1dfd7e30-d17c-48af-b616-c7b4c0d2eaea  76266-1           VI\n1    2965c8c3-013d-46ed-a9dc-a64841d285d4  75371-1           VI\n2    c2e7100e-25ed-4a82-9504-1c58d1e335cb  75370-1           VI\n3    a20e6dcb-d417-4f94-ad54-7368be6c8a92  75369-1           VI\n4    ef81054d-26c7-4199-bc2f-812b4b01c283  75368-1           VI\n..                                    ...      ...          ...\n707  b2b057f1-9525-4582-bdac-e8cf10a39a29   sw1040           VI\n708  f77c7ed5-d1ce-4542-894d-030063d91555   sw1039           VI\n709  064d326b-b2d2-4ebf-b99a-96620ba2d5f6   sw1038           VI\n710  6ef6ee5e-8cd8-43df-a62d-b801611c0b0c   sw1037           VI\n711  1e0f60e0-8a56-4715-80ba-95ee14c01491   sw1036           VI\n\n[712 rows x 3 columns]",
      "text/html": "<div>\n<style scoped>\n    .dataframe tbody tr th:only-of-type {\n        vertical-align: middle;\n    }\n\n    .dataframe tbody tr th {\n        vertical-align: top;\n    }\n\n    .dataframe thead th {\n        text-align: right;\n    }\n</style>\n<table border=\"1\" class=\"dataframe\">\n  <thead>\n    <tr style=\"text-align: right;\">\n      <th></th>\n      <th>page_id</th>\n      <th>bl_id</th>\n      <th>account_name</th>\n    </tr>\n  </thead>\n  <tbody>\n    <tr>\n      <th>0</th>\n      <td>1dfd7e30-d17c-48af-b616-c7b4c0d2eaea</td>\n      <td>76266-1</td>\n      <td>VI</td>\n    </tr>\n    <tr>\n      <th>1</th>\n      <td>2965c8c3-013d-46ed-a9dc-a64841d285d4</td>\n      <td>75371-1</td>\n      <td>VI</td>\n    </tr>\n    <tr>\n      <th>2</th>\n      <td>c2e7100e-25ed-4a82-9504-1c58d1e335cb</td>\n      <td>75370-1</td>\n      <td>VI</td>\n    </tr>\n    <tr>\n      <th>3</th>\n      <td>a20e6dcb-d417-4f94-ad54-7368be6c8a92</td>\n      <td>75369-1</td>\n      <td>VI</td>\n    </tr>\n    <tr>\n      <th>4</th>\n      <td>ef81054d-26c7-4199-bc2f-812b4b01c283</td>\n      <td>75368-1</td>\n      <td>VI</td>\n    </tr>\n    <tr>\n      <th>...</th>\n      <td>...</td>\n      <td>...</td>\n      <td>...</td>\n    </tr>\n    <tr>\n      <th>707</th>\n      <td>b2b057f1-9525-4582-bdac-e8cf10a39a29</td>\n      <td>sw1040</td>\n      <td>VI</td>\n    </tr>\n    <tr>\n      <th>708</th>\n      <td>f77c7ed5-d1ce-4542-894d-030063d91555</td>\n      <td>sw1039</td>\n      <td>VI</td>\n    </tr>\n    <tr>\n      <th>709</th>\n      <td>064d326b-b2d2-4ebf-b99a-96620ba2d5f6</td>\n      <td>sw1038</td>\n      <td>VI</td>\n    </tr>\n    <tr>\n      <th>710</th>\n      <td>6ef6ee5e-8cd8-43df-a62d-b801611c0b0c</td>\n      <td>sw1037</td>\n      <td>VI</td>\n    </tr>\n    <tr>\n      <th>711</th>\n      <td>1e0f60e0-8a56-4715-80ba-95ee14c01491</td>\n      <td>sw1036</td>\n      <td>VI</td>\n    </tr>\n  </tbody>\n</table>\n<p>712 rows × 3 columns</p>\n</div>"
     },
     "execution_count": 41,
     "metadata": {},
     "output_type": "execute_result"
    }
   ],
   "source": [
    "df_notion"
   ],
   "metadata": {
    "collapsed": false,
    "ExecuteTime": {
     "end_time": "2023-09-12T14:13:29.979585Z",
     "start_time": "2023-09-12T14:13:29.974129Z"
    }
   },
   "id": "9f4cd73aaff9a31"
  },
  {
   "cell_type": "code",
   "execution_count": null,
   "outputs": [],
   "source": [],
   "metadata": {
    "collapsed": false
   },
   "id": "282c722db5b1068b"
  }
 ],
 "metadata": {
  "kernelspec": {
   "display_name": "Python 3",
   "language": "python",
   "name": "python3"
  },
  "language_info": {
   "codemirror_mode": {
    "name": "ipython",
    "version": 2
   },
   "file_extension": ".py",
   "mimetype": "text/x-python",
   "name": "python",
   "nbconvert_exporter": "python",
   "pygments_lexer": "ipython2",
   "version": "2.7.6"
  }
 },
 "nbformat": 4,
 "nbformat_minor": 5
}
