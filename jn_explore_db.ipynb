{
 "cells": [
  {
   "cell_type": "code",
   "execution_count": 1,
   "id": "initial_id",
   "metadata": {
    "collapsed": true,
    "ExecuteTime": {
     "end_time": "2023-09-14T14:20:31.269253Z",
     "start_time": "2023-09-14T14:20:30.826399Z"
    }
   },
   "outputs": [],
   "source": [
    "import sqlite3\n",
    "\n",
    "import pandas as pd"
   ]
  },
  {
   "cell_type": "markdown",
   "source": [
    "# Read minifigs"
   ],
   "metadata": {
    "collapsed": false
   },
   "id": "4e126c80ada27fac"
  },
  {
   "cell_type": "code",
   "execution_count": 40,
   "outputs": [],
   "source": [
    "conn = sqlite3.connect('data/lego.db')\n",
    "df = pd.read_sql_query(\"SELECT * FROM minifigs WHERE category = 'Star Wars'\", conn)\n",
    "# df = pd.read_sql_query(\"SELECT * FROM minifigs\", conn)"
   ],
   "metadata": {
    "collapsed": false,
    "ExecuteTime": {
     "end_time": "2023-09-14T16:13:21.508665Z",
     "start_time": "2023-09-14T16:13:21.488964Z"
    }
   },
   "id": "3b1a7c8a60eb4a4b"
  },
  {
   "cell_type": "code",
   "execution_count": 41,
   "outputs": [
    {
     "name": "stdout",
     "output_type": "stream",
     "text": [
      "<class 'pandas.core.frame.DataFrame'>\n",
      "RangeIndex: 1366 entries, 0 to 1365\n",
      "Data columns (total 11 columns):\n",
      " #   Column         Non-Null Count  Dtype  \n",
      "---  ------         --------------  -----  \n",
      " 0   id             1366 non-null   object \n",
      " 1   name           1366 non-null   object \n",
      " 2   category       1366 non-null   object \n",
      " 3   sub_category   1327 non-null   object \n",
      " 4   image          1366 non-null   object \n",
      " 5   appears_in     1309 non-null   object \n",
      " 6   avg_price_raw  171 non-null    object \n",
      " 7   avg_price_pln  171 non-null    float64\n",
      " 8   avg_price_eur  171 non-null    float64\n",
      " 9   bricklink      1366 non-null   object \n",
      " 10  release_year   1052 non-null   float64\n",
      "dtypes: float64(3), object(8)\n",
      "memory usage: 117.5+ KB\n"
     ]
    }
   ],
   "source": [
    "df.info()"
   ],
   "metadata": {
    "collapsed": false,
    "ExecuteTime": {
     "end_time": "2023-09-14T16:13:21.759557Z",
     "start_time": "2023-09-14T16:13:21.752821Z"
    }
   },
   "id": "9550c132d56a0a6c"
  },
  {
   "cell_type": "code",
   "execution_count": 42,
   "outputs": [
    {
     "name": "stdout",
     "output_type": "stream",
     "text": [
      "(0, 11)\n",
      "(0, 11)\n",
      "(57, 11)\n",
      "Not null: (1309, 11)\n"
     ]
    }
   ],
   "source": [
    "column_name = \"appears_in\"\n",
    "print(df[df[column_name] == \"None\"].shape)\n",
    "print(df[df[column_name] == \"\"].shape)\n",
    "print(df[df[column_name].isnull()].shape)\n",
    "print(f\"Not null: {df[~df[column_name].isnull()].shape}\")"
   ],
   "metadata": {
    "collapsed": false,
    "ExecuteTime": {
     "end_time": "2023-09-14T16:13:22.143813Z",
     "start_time": "2023-09-14T16:13:22.133256Z"
    }
   },
   "id": "4f4d833887ac1244"
  },
  {
   "cell_type": "code",
   "execution_count": 12,
   "outputs": [
    {
     "data": {
      "text/plain": "          id                                               name      category  \\\n0     sw0002                          Boba Fett - Classic Grays     Star Wars   \n1     sw0003                                         Darth Maul     Star Wars   \n2     sw0004                      Darth Vader (Light Gray Head)     Star Wars   \n3     sw0005  Imperial Scout Trooper - Yellow Head, Dark Gra...     Star Wars   \n4     sw0006                                        Aldar Beedo     Star Wars   \n...      ...                                                ...           ...   \n3069   sh497               Iron Man Mark 50 Armor, Neck Bracket  Super Heroes   \n3070   sh585  Nick Fury - Gray Sweater and Black Trench Coat...  Super Heroes   \n3071   sh905                     Spider-Man - Christmas Sweater  Super Heroes   \n3072   sh614                Spider-Man Noir (Undetermined Type)  Super Heroes   \n3073   sh903  The Joker - Medium Lavender Suit, Dark Green V...  Super Heroes   \n\n                  sub_category  \\\n0      Star Wars Episode 4/5/6   \n1          Star Wars Episode 1   \n2      Star Wars Episode 4/5/6   \n3      Star Wars Episode 4/5/6   \n4          Star Wars Episode 1   \n...                        ...   \n3069     Avengers Infinity War   \n3070  Spider-Man Far From Home   \n3071                  Avengers   \n3072                Spider-Man   \n3073                 Batman II   \n\n                                                  image appears_in  \\\n0     https://img.bricklink.com/ItemImage/MN/0/sw000...       None   \n1     https://img.bricklink.com/ItemImage/MN/0/sw000...       None   \n2     https://img.bricklink.com/ItemImage/MN/0/sw000...       None   \n3     https://img.bricklink.com/ItemImage/MN/0/sw000...       None   \n4     https://img.bricklink.com/ItemImage/MN/0/sw000...       None   \n...                                                 ...        ...   \n3069  https://img.bricklink.com/ItemImage/MN/0/sh497...       None   \n3070  https://img.bricklink.com/ItemImage/MN/0/sh585...       None   \n3071  https://img.bricklink.com/ItemImage/MN/0/sh905...       None   \n3072  https://img.bricklink.com/ItemImage/MN/0/sh614...       None   \n3073  https://img.bricklink.com/ItemImage/MN/0/sh903...       None   \n\n     avg_price_raw  avg_price_pln  avg_price_eur  \\\n0             None            NaN            NaN   \n1             None            NaN            NaN   \n2             None            NaN            NaN   \n3             None            NaN            NaN   \n4             None            NaN            NaN   \n...            ...            ...            ...   \n3069          None            NaN            NaN   \n3070          None            NaN            NaN   \n3071          None            NaN            NaN   \n3072          None            NaN            NaN   \n3073          None            NaN            NaN   \n\n                                              bricklink  release_year  \n0     https://www.bricklink.com/v2/catalog/catalogit...        2000.0  \n1     https://www.bricklink.com/v2/catalog/catalogit...        1999.0  \n2     https://www.bricklink.com/v2/catalog/catalogit...        1999.0  \n3     https://www.bricklink.com/v2/catalog/catalogit...        1999.0  \n4     https://www.bricklink.com/v2/catalog/catalogit...        2000.0  \n...                                                 ...           ...  \n3069  https://www.bricklink.com/v2/catalog/catalogit...           NaN  \n3070  https://www.bricklink.com/v2/catalog/catalogit...           NaN  \n3071  https://www.bricklink.com/v2/catalog/catalogit...           NaN  \n3072  https://www.bricklink.com/v2/catalog/catalogit...           NaN  \n3073  https://www.bricklink.com/v2/catalog/catalogit...           NaN  \n\n[3074 rows x 11 columns]",
      "text/html": "<div>\n<style scoped>\n    .dataframe tbody tr th:only-of-type {\n        vertical-align: middle;\n    }\n\n    .dataframe tbody tr th {\n        vertical-align: top;\n    }\n\n    .dataframe thead th {\n        text-align: right;\n    }\n</style>\n<table border=\"1\" class=\"dataframe\">\n  <thead>\n    <tr style=\"text-align: right;\">\n      <th></th>\n      <th>id</th>\n      <th>name</th>\n      <th>category</th>\n      <th>sub_category</th>\n      <th>image</th>\n      <th>appears_in</th>\n      <th>avg_price_raw</th>\n      <th>avg_price_pln</th>\n      <th>avg_price_eur</th>\n      <th>bricklink</th>\n      <th>release_year</th>\n    </tr>\n  </thead>\n  <tbody>\n    <tr>\n      <th>0</th>\n      <td>sw0002</td>\n      <td>Boba Fett - Classic Grays</td>\n      <td>Star Wars</td>\n      <td>Star Wars Episode 4/5/6</td>\n      <td>https://img.bricklink.com/ItemImage/MN/0/sw000...</td>\n      <td>None</td>\n      <td>None</td>\n      <td>NaN</td>\n      <td>NaN</td>\n      <td>https://www.bricklink.com/v2/catalog/catalogit...</td>\n      <td>2000.0</td>\n    </tr>\n    <tr>\n      <th>1</th>\n      <td>sw0003</td>\n      <td>Darth Maul</td>\n      <td>Star Wars</td>\n      <td>Star Wars Episode 1</td>\n      <td>https://img.bricklink.com/ItemImage/MN/0/sw000...</td>\n      <td>None</td>\n      <td>None</td>\n      <td>NaN</td>\n      <td>NaN</td>\n      <td>https://www.bricklink.com/v2/catalog/catalogit...</td>\n      <td>1999.0</td>\n    </tr>\n    <tr>\n      <th>2</th>\n      <td>sw0004</td>\n      <td>Darth Vader (Light Gray Head)</td>\n      <td>Star Wars</td>\n      <td>Star Wars Episode 4/5/6</td>\n      <td>https://img.bricklink.com/ItemImage/MN/0/sw000...</td>\n      <td>None</td>\n      <td>None</td>\n      <td>NaN</td>\n      <td>NaN</td>\n      <td>https://www.bricklink.com/v2/catalog/catalogit...</td>\n      <td>1999.0</td>\n    </tr>\n    <tr>\n      <th>3</th>\n      <td>sw0005</td>\n      <td>Imperial Scout Trooper - Yellow Head, Dark Gra...</td>\n      <td>Star Wars</td>\n      <td>Star Wars Episode 4/5/6</td>\n      <td>https://img.bricklink.com/ItemImage/MN/0/sw000...</td>\n      <td>None</td>\n      <td>None</td>\n      <td>NaN</td>\n      <td>NaN</td>\n      <td>https://www.bricklink.com/v2/catalog/catalogit...</td>\n      <td>1999.0</td>\n    </tr>\n    <tr>\n      <th>4</th>\n      <td>sw0006</td>\n      <td>Aldar Beedo</td>\n      <td>Star Wars</td>\n      <td>Star Wars Episode 1</td>\n      <td>https://img.bricklink.com/ItemImage/MN/0/sw000...</td>\n      <td>None</td>\n      <td>None</td>\n      <td>NaN</td>\n      <td>NaN</td>\n      <td>https://www.bricklink.com/v2/catalog/catalogit...</td>\n      <td>2000.0</td>\n    </tr>\n    <tr>\n      <th>...</th>\n      <td>...</td>\n      <td>...</td>\n      <td>...</td>\n      <td>...</td>\n      <td>...</td>\n      <td>...</td>\n      <td>...</td>\n      <td>...</td>\n      <td>...</td>\n      <td>...</td>\n      <td>...</td>\n    </tr>\n    <tr>\n      <th>3069</th>\n      <td>sh497</td>\n      <td>Iron Man Mark 50 Armor, Neck Bracket</td>\n      <td>Super Heroes</td>\n      <td>Avengers Infinity War</td>\n      <td>https://img.bricklink.com/ItemImage/MN/0/sh497...</td>\n      <td>None</td>\n      <td>None</td>\n      <td>NaN</td>\n      <td>NaN</td>\n      <td>https://www.bricklink.com/v2/catalog/catalogit...</td>\n      <td>NaN</td>\n    </tr>\n    <tr>\n      <th>3070</th>\n      <td>sh585</td>\n      <td>Nick Fury - Gray Sweater and Black Trench Coat...</td>\n      <td>Super Heroes</td>\n      <td>Spider-Man Far From Home</td>\n      <td>https://img.bricklink.com/ItemImage/MN/0/sh585...</td>\n      <td>None</td>\n      <td>None</td>\n      <td>NaN</td>\n      <td>NaN</td>\n      <td>https://www.bricklink.com/v2/catalog/catalogit...</td>\n      <td>NaN</td>\n    </tr>\n    <tr>\n      <th>3071</th>\n      <td>sh905</td>\n      <td>Spider-Man - Christmas Sweater</td>\n      <td>Super Heroes</td>\n      <td>Avengers</td>\n      <td>https://img.bricklink.com/ItemImage/MN/0/sh905...</td>\n      <td>None</td>\n      <td>None</td>\n      <td>NaN</td>\n      <td>NaN</td>\n      <td>https://www.bricklink.com/v2/catalog/catalogit...</td>\n      <td>NaN</td>\n    </tr>\n    <tr>\n      <th>3072</th>\n      <td>sh614</td>\n      <td>Spider-Man Noir (Undetermined Type)</td>\n      <td>Super Heroes</td>\n      <td>Spider-Man</td>\n      <td>https://img.bricklink.com/ItemImage/MN/0/sh614...</td>\n      <td>None</td>\n      <td>None</td>\n      <td>NaN</td>\n      <td>NaN</td>\n      <td>https://www.bricklink.com/v2/catalog/catalogit...</td>\n      <td>NaN</td>\n    </tr>\n    <tr>\n      <th>3073</th>\n      <td>sh903</td>\n      <td>The Joker - Medium Lavender Suit, Dark Green V...</td>\n      <td>Super Heroes</td>\n      <td>Batman II</td>\n      <td>https://img.bricklink.com/ItemImage/MN/0/sh903...</td>\n      <td>None</td>\n      <td>None</td>\n      <td>NaN</td>\n      <td>NaN</td>\n      <td>https://www.bricklink.com/v2/catalog/catalogit...</td>\n      <td>NaN</td>\n    </tr>\n  </tbody>\n</table>\n<p>3074 rows × 11 columns</p>\n</div>"
     },
     "execution_count": 12,
     "metadata": {},
     "output_type": "execute_result"
    }
   ],
   "source": [
    "df"
   ],
   "metadata": {
    "collapsed": false,
    "ExecuteTime": {
     "end_time": "2023-09-14T14:32:20.822195Z",
     "start_time": "2023-09-14T14:32:20.735403Z"
    }
   },
   "id": "d888bb8d720f1f1e"
  },
  {
   "cell_type": "code",
   "execution_count": 8,
   "outputs": [
    {
     "data": {
      "text/plain": "          id                    name   category      sub_category  \\\n3051  sw1289  Captain Porter (75364)  Star Wars  Star Wars Ahsoka   \n\n                                                  image appears_in  \\\n3051  https://img.bricklink.com/ItemImage/MN/0/sw128...       None   \n\n     avg_price_raw  avg_price_pln  avg_price_eur  \\\n3051          None            NaN            NaN   \n\n                                              bricklink  release_year  \n3051  https://www.bricklink.com/v2/catalog/catalogit...           NaN  ",
      "text/html": "<div>\n<style scoped>\n    .dataframe tbody tr th:only-of-type {\n        vertical-align: middle;\n    }\n\n    .dataframe tbody tr th {\n        vertical-align: top;\n    }\n\n    .dataframe thead th {\n        text-align: right;\n    }\n</style>\n<table border=\"1\" class=\"dataframe\">\n  <thead>\n    <tr style=\"text-align: right;\">\n      <th></th>\n      <th>id</th>\n      <th>name</th>\n      <th>category</th>\n      <th>sub_category</th>\n      <th>image</th>\n      <th>appears_in</th>\n      <th>avg_price_raw</th>\n      <th>avg_price_pln</th>\n      <th>avg_price_eur</th>\n      <th>bricklink</th>\n      <th>release_year</th>\n    </tr>\n  </thead>\n  <tbody>\n    <tr>\n      <th>3051</th>\n      <td>sw1289</td>\n      <td>Captain Porter (75364)</td>\n      <td>Star Wars</td>\n      <td>Star Wars Ahsoka</td>\n      <td>https://img.bricklink.com/ItemImage/MN/0/sw128...</td>\n      <td>None</td>\n      <td>None</td>\n      <td>NaN</td>\n      <td>NaN</td>\n      <td>https://www.bricklink.com/v2/catalog/catalogit...</td>\n      <td>NaN</td>\n    </tr>\n  </tbody>\n</table>\n</div>"
     },
     "execution_count": 8,
     "metadata": {},
     "output_type": "execute_result"
    }
   ],
   "source": [
    "df[df[\"id\"] == \"sw1289\"]"
   ],
   "metadata": {
    "collapsed": false,
    "ExecuteTime": {
     "end_time": "2023-09-14T14:28:43.167607Z",
     "start_time": "2023-09-14T14:28:43.086893Z"
    }
   },
   "id": "6af773e647d8928d"
  },
  {
   "cell_type": "code",
   "execution_count": 45,
   "outputs": [
    {
     "data": {
      "text/plain": "          id                             name   category         sub_category  \\\n1103  sw1052  Astromech Droid, Dark Turquoise  Star Wars  Star Wars Episode 9   \n\n                                                  image appears_in  \\\n1103  https://img.bricklink.com/ItemImage/MN/0/sw105...    75249-1   \n\n     avg_price_raw  avg_price_pln  avg_price_eur  \\\n1103          None            NaN            NaN   \n\n                                              bricklink  release_year  \n1103  https://www.bricklink.com/v2/catalog/catalogit...        2019.0  ",
      "text/html": "<div>\n<style scoped>\n    .dataframe tbody tr th:only-of-type {\n        vertical-align: middle;\n    }\n\n    .dataframe tbody tr th {\n        vertical-align: top;\n    }\n\n    .dataframe thead th {\n        text-align: right;\n    }\n</style>\n<table border=\"1\" class=\"dataframe\">\n  <thead>\n    <tr style=\"text-align: right;\">\n      <th></th>\n      <th>id</th>\n      <th>name</th>\n      <th>category</th>\n      <th>sub_category</th>\n      <th>image</th>\n      <th>appears_in</th>\n      <th>avg_price_raw</th>\n      <th>avg_price_pln</th>\n      <th>avg_price_eur</th>\n      <th>bricklink</th>\n      <th>release_year</th>\n    </tr>\n  </thead>\n  <tbody>\n    <tr>\n      <th>1103</th>\n      <td>sw1052</td>\n      <td>Astromech Droid, Dark Turquoise</td>\n      <td>Star Wars</td>\n      <td>Star Wars Episode 9</td>\n      <td>https://img.bricklink.com/ItemImage/MN/0/sw105...</td>\n      <td>75249-1</td>\n      <td>None</td>\n      <td>NaN</td>\n      <td>NaN</td>\n      <td>https://www.bricklink.com/v2/catalog/catalogit...</td>\n      <td>2019.0</td>\n    </tr>\n  </tbody>\n</table>\n</div>"
     },
     "execution_count": 45,
     "metadata": {},
     "output_type": "execute_result"
    }
   ],
   "source": [
    "df[df[\"id\"] == \"sw1052\"]"
   ],
   "metadata": {
    "collapsed": false,
    "ExecuteTime": {
     "end_time": "2023-09-12T14:14:06.594100Z",
     "start_time": "2023-09-12T14:14:06.585477Z"
    }
   },
   "id": "79b3b96a53e97852"
  },
  {
   "cell_type": "markdown",
   "source": [
    "# Read sets"
   ],
   "metadata": {
    "collapsed": false
   },
   "id": "7a9556fe39d7f9c4"
  },
  {
   "cell_type": "code",
   "execution_count": 13,
   "outputs": [],
   "source": [
    "conn = sqlite3.connect('data/lego.db')\n",
    "sets_df = pd.read_sql_query(\"SELECT * FROM sets WHERE category = 'Star Wars'\", conn)"
   ],
   "metadata": {
    "collapsed": false,
    "ExecuteTime": {
     "end_time": "2023-09-14T14:37:32.729973Z",
     "start_time": "2023-09-14T14:37:32.607553Z"
    }
   },
   "id": "d77aa3a5669fb145"
  },
  {
   "cell_type": "code",
   "execution_count": 14,
   "outputs": [
    {
     "name": "stdout",
     "output_type": "stream",
     "text": [
      "<class 'pandas.core.frame.DataFrame'>\n",
      "RangeIndex: 908 entries, 0 to 907\n",
      "Data columns (total 11 columns):\n",
      " #   Column             Non-Null Count  Dtype  \n",
      "---  ------             --------------  -----  \n",
      " 0   id                 908 non-null    object \n",
      " 1   name               908 non-null    object \n",
      " 2   category           908 non-null    object \n",
      " 3   sub_category       908 non-null    object \n",
      " 4   image              908 non-null    object \n",
      " 5   minifigs_included  466 non-null    object \n",
      " 6   avg_price_raw      0 non-null      object \n",
      " 7   avg_price_pln      0 non-null      object \n",
      " 8   avg_price_eur      0 non-null      object \n",
      " 9   bricklink          908 non-null    object \n",
      " 10  release_year       466 non-null    float64\n",
      "dtypes: float64(1), object(10)\n",
      "memory usage: 78.2+ KB\n"
     ]
    }
   ],
   "source": [
    "sets_df.info()"
   ],
   "metadata": {
    "collapsed": false,
    "ExecuteTime": {
     "end_time": "2023-09-14T14:37:34.501413Z",
     "start_time": "2023-09-14T14:37:34.379380Z"
    }
   },
   "id": "e4e22d196542e25a"
  },
  {
   "cell_type": "code",
   "execution_count": 18,
   "outputs": [
    {
     "data": {
      "text/plain": "Empty DataFrame\nColumns: [id, name, category, sub_category, image, minifigs_included, avg_price_raw, avg_price_pln, avg_price_eur, bricklink, release_year]\nIndex: []",
      "text/html": "<div>\n<style scoped>\n    .dataframe tbody tr th:only-of-type {\n        vertical-align: middle;\n    }\n\n    .dataframe tbody tr th {\n        vertical-align: top;\n    }\n\n    .dataframe thead th {\n        text-align: right;\n    }\n</style>\n<table border=\"1\" class=\"dataframe\">\n  <thead>\n    <tr style=\"text-align: right;\">\n      <th></th>\n      <th>id</th>\n      <th>name</th>\n      <th>category</th>\n      <th>sub_category</th>\n      <th>image</th>\n      <th>minifigs_included</th>\n      <th>avg_price_raw</th>\n      <th>avg_price_pln</th>\n      <th>avg_price_eur</th>\n      <th>bricklink</th>\n      <th>release_year</th>\n    </tr>\n  </thead>\n  <tbody>\n  </tbody>\n</table>\n</div>"
     },
     "execution_count": 18,
     "metadata": {},
     "output_type": "execute_result"
    }
   ],
   "source": [
    "sets_df[sets_df[\"id\"] == \"76196-1\"]"
   ],
   "metadata": {
    "collapsed": false,
    "ExecuteTime": {
     "end_time": "2023-09-14T14:39:49.199446Z",
     "start_time": "2023-09-14T14:39:49.130675Z"
    }
   },
   "id": "88d57808fd748acf"
  },
  {
   "cell_type": "code",
   "execution_count": 16,
   "outputs": [
    {
     "data": {
      "text/plain": "              id                                               name  \\\n0         7101-1                                    Lightsaber Duel   \n1         7104-1                                       Desert Skiff   \n2         7110-1                                        Landspeeder   \n3         7111-1                                      Droid Fighter   \n4         7115-1                                      Gungan Patrol   \n..           ...                                                ...   \n903         VP-8  Star Wars Bundle Pack, Value Pack (Copack of S...   \n904        VP-10  Star Wars Value Pack with Free LEGO Backpack (...   \n905        VP-11  Star Wars Bundle Pack (Copack of Sets 7101, 71...   \n906        VP-12                  Star Wars Value Pack (7121, 7151)   \n907  yodachron-1  Holocron Chamber - The Yoda Chronicles Promoti...   \n\n      category               sub_category  \\\n0    Star Wars        Star Wars Episode 1   \n1    Star Wars    Star Wars Episode 4/5/6   \n2    Star Wars    Star Wars Episode 4/5/6   \n3    Star Wars        Star Wars Episode 1   \n4    Star Wars        Star Wars Episode 1   \n..         ...                        ...   \n903  Star Wars    Star Wars Episode 4/5/6   \n904  Star Wars            Star Wars Other   \n905  Star Wars        Star Wars Episode 1   \n906  Star Wars        Star Wars Episode 1   \n907  Star Wars  Star Wars Yoda Chronicles   \n\n                                                 image minifigs_included  \\\n0    https://img.bricklink.com/ItemImage/ON/0/7101-...               TBD   \n1    https://img.bricklink.com/ItemImage/ON/0/7104-...               TBD   \n2    https://img.bricklink.com/ItemImage/ON/0/7110-...               TBD   \n3    https://img.bricklink.com/ItemImage/ON/0/7111-...               TBD   \n4    https://img.bricklink.com/ItemImage/ON/0/7115-...               TBD   \n..                                                 ...               ...   \n903  https://img.bricklink.com/ItemImage/ON/0/VP-8.png              None   \n904  https://img.bricklink.com/ItemImage/ON/0/VP-10...              None   \n905  https://img.bricklink.com/ItemImage/ON/0/VP-11...              None   \n906  https://img.bricklink.com/ItemImage/ON/0/VP-12...              None   \n907  https://img.bricklink.com/ItemImage/ON/0/yodac...              None   \n\n    avg_price_raw avg_price_pln avg_price_eur  \\\n0            None          None          None   \n1            None          None          None   \n2            None          None          None   \n3            None          None          None   \n4            None          None          None   \n..            ...           ...           ...   \n903          None          None          None   \n904          None          None          None   \n905          None          None          None   \n906          None          None          None   \n907          None          None          None   \n\n                                             bricklink  release_year  \n0    https://www.bricklink.com/v2/catalog/catalogit...        1999.0  \n1    https://www.bricklink.com/v2/catalog/catalogit...        2000.0  \n2    https://www.bricklink.com/v2/catalog/catalogit...        1999.0  \n3    https://www.bricklink.com/v2/catalog/catalogit...        1999.0  \n4    https://www.bricklink.com/v2/catalog/catalogit...        2000.0  \n..                                                 ...           ...  \n903  https://www.bricklink.com/v2/catalog/catalogit...           NaN  \n904  https://www.bricklink.com/v2/catalog/catalogit...           NaN  \n905  https://www.bricklink.com/v2/catalog/catalogit...           NaN  \n906  https://www.bricklink.com/v2/catalog/catalogit...           NaN  \n907  https://www.bricklink.com/v2/catalog/catalogit...           NaN  \n\n[908 rows x 11 columns]",
      "text/html": "<div>\n<style scoped>\n    .dataframe tbody tr th:only-of-type {\n        vertical-align: middle;\n    }\n\n    .dataframe tbody tr th {\n        vertical-align: top;\n    }\n\n    .dataframe thead th {\n        text-align: right;\n    }\n</style>\n<table border=\"1\" class=\"dataframe\">\n  <thead>\n    <tr style=\"text-align: right;\">\n      <th></th>\n      <th>id</th>\n      <th>name</th>\n      <th>category</th>\n      <th>sub_category</th>\n      <th>image</th>\n      <th>minifigs_included</th>\n      <th>avg_price_raw</th>\n      <th>avg_price_pln</th>\n      <th>avg_price_eur</th>\n      <th>bricklink</th>\n      <th>release_year</th>\n    </tr>\n  </thead>\n  <tbody>\n    <tr>\n      <th>0</th>\n      <td>7101-1</td>\n      <td>Lightsaber Duel</td>\n      <td>Star Wars</td>\n      <td>Star Wars Episode 1</td>\n      <td>https://img.bricklink.com/ItemImage/ON/0/7101-...</td>\n      <td>TBD</td>\n      <td>None</td>\n      <td>None</td>\n      <td>None</td>\n      <td>https://www.bricklink.com/v2/catalog/catalogit...</td>\n      <td>1999.0</td>\n    </tr>\n    <tr>\n      <th>1</th>\n      <td>7104-1</td>\n      <td>Desert Skiff</td>\n      <td>Star Wars</td>\n      <td>Star Wars Episode 4/5/6</td>\n      <td>https://img.bricklink.com/ItemImage/ON/0/7104-...</td>\n      <td>TBD</td>\n      <td>None</td>\n      <td>None</td>\n      <td>None</td>\n      <td>https://www.bricklink.com/v2/catalog/catalogit...</td>\n      <td>2000.0</td>\n    </tr>\n    <tr>\n      <th>2</th>\n      <td>7110-1</td>\n      <td>Landspeeder</td>\n      <td>Star Wars</td>\n      <td>Star Wars Episode 4/5/6</td>\n      <td>https://img.bricklink.com/ItemImage/ON/0/7110-...</td>\n      <td>TBD</td>\n      <td>None</td>\n      <td>None</td>\n      <td>None</td>\n      <td>https://www.bricklink.com/v2/catalog/catalogit...</td>\n      <td>1999.0</td>\n    </tr>\n    <tr>\n      <th>3</th>\n      <td>7111-1</td>\n      <td>Droid Fighter</td>\n      <td>Star Wars</td>\n      <td>Star Wars Episode 1</td>\n      <td>https://img.bricklink.com/ItemImage/ON/0/7111-...</td>\n      <td>TBD</td>\n      <td>None</td>\n      <td>None</td>\n      <td>None</td>\n      <td>https://www.bricklink.com/v2/catalog/catalogit...</td>\n      <td>1999.0</td>\n    </tr>\n    <tr>\n      <th>4</th>\n      <td>7115-1</td>\n      <td>Gungan Patrol</td>\n      <td>Star Wars</td>\n      <td>Star Wars Episode 1</td>\n      <td>https://img.bricklink.com/ItemImage/ON/0/7115-...</td>\n      <td>TBD</td>\n      <td>None</td>\n      <td>None</td>\n      <td>None</td>\n      <td>https://www.bricklink.com/v2/catalog/catalogit...</td>\n      <td>2000.0</td>\n    </tr>\n    <tr>\n      <th>...</th>\n      <td>...</td>\n      <td>...</td>\n      <td>...</td>\n      <td>...</td>\n      <td>...</td>\n      <td>...</td>\n      <td>...</td>\n      <td>...</td>\n      <td>...</td>\n      <td>...</td>\n      <td>...</td>\n    </tr>\n    <tr>\n      <th>903</th>\n      <td>VP-8</td>\n      <td>Star Wars Bundle Pack, Value Pack (Copack of S...</td>\n      <td>Star Wars</td>\n      <td>Star Wars Episode 4/5/6</td>\n      <td>https://img.bricklink.com/ItemImage/ON/0/VP-8.png</td>\n      <td>None</td>\n      <td>None</td>\n      <td>None</td>\n      <td>None</td>\n      <td>https://www.bricklink.com/v2/catalog/catalogit...</td>\n      <td>NaN</td>\n    </tr>\n    <tr>\n      <th>904</th>\n      <td>VP-10</td>\n      <td>Star Wars Value Pack with Free LEGO Backpack (...</td>\n      <td>Star Wars</td>\n      <td>Star Wars Other</td>\n      <td>https://img.bricklink.com/ItemImage/ON/0/VP-10...</td>\n      <td>None</td>\n      <td>None</td>\n      <td>None</td>\n      <td>None</td>\n      <td>https://www.bricklink.com/v2/catalog/catalogit...</td>\n      <td>NaN</td>\n    </tr>\n    <tr>\n      <th>905</th>\n      <td>VP-11</td>\n      <td>Star Wars Bundle Pack (Copack of Sets 7101, 71...</td>\n      <td>Star Wars</td>\n      <td>Star Wars Episode 1</td>\n      <td>https://img.bricklink.com/ItemImage/ON/0/VP-11...</td>\n      <td>None</td>\n      <td>None</td>\n      <td>None</td>\n      <td>None</td>\n      <td>https://www.bricklink.com/v2/catalog/catalogit...</td>\n      <td>NaN</td>\n    </tr>\n    <tr>\n      <th>906</th>\n      <td>VP-12</td>\n      <td>Star Wars Value Pack (7121, 7151)</td>\n      <td>Star Wars</td>\n      <td>Star Wars Episode 1</td>\n      <td>https://img.bricklink.com/ItemImage/ON/0/VP-12...</td>\n      <td>None</td>\n      <td>None</td>\n      <td>None</td>\n      <td>None</td>\n      <td>https://www.bricklink.com/v2/catalog/catalogit...</td>\n      <td>NaN</td>\n    </tr>\n    <tr>\n      <th>907</th>\n      <td>yodachron-1</td>\n      <td>Holocron Chamber - The Yoda Chronicles Promoti...</td>\n      <td>Star Wars</td>\n      <td>Star Wars Yoda Chronicles</td>\n      <td>https://img.bricklink.com/ItemImage/ON/0/yodac...</td>\n      <td>None</td>\n      <td>None</td>\n      <td>None</td>\n      <td>None</td>\n      <td>https://www.bricklink.com/v2/catalog/catalogit...</td>\n      <td>NaN</td>\n    </tr>\n  </tbody>\n</table>\n<p>908 rows × 11 columns</p>\n</div>"
     },
     "execution_count": 16,
     "metadata": {},
     "output_type": "execute_result"
    }
   ],
   "source": [
    "sets_df"
   ],
   "metadata": {
    "collapsed": false,
    "ExecuteTime": {
     "end_time": "2023-09-14T14:38:42.723646Z",
     "start_time": "2023-09-14T14:38:42.619368Z"
    }
   },
   "id": "780f34b1457a4d09"
  },
  {
   "cell_type": "markdown",
   "source": [
    "# Read notion_mapping"
   ],
   "metadata": {
    "collapsed": false
   },
   "id": "7a01a9c6cb1d9d69"
  },
  {
   "cell_type": "code",
   "execution_count": 40,
   "outputs": [],
   "source": [
    "conn = sqlite3.connect('data/lego.db')\n",
    "df_notion = pd.read_sql_query(\"SELECT * FROM notion_mapping WHERE account_name = 'VI'\", conn)"
   ],
   "metadata": {
    "collapsed": false,
    "ExecuteTime": {
     "end_time": "2023-09-12T14:13:29.814968Z",
     "start_time": "2023-09-12T14:13:29.795626Z"
    }
   },
   "id": "cec0cbd1a034b2d7"
  },
  {
   "cell_type": "code",
   "execution_count": 41,
   "outputs": [
    {
     "data": {
      "text/plain": "                                  page_id    bl_id account_name\n0    1dfd7e30-d17c-48af-b616-c7b4c0d2eaea  76266-1           VI\n1    2965c8c3-013d-46ed-a9dc-a64841d285d4  75371-1           VI\n2    c2e7100e-25ed-4a82-9504-1c58d1e335cb  75370-1           VI\n3    a20e6dcb-d417-4f94-ad54-7368be6c8a92  75369-1           VI\n4    ef81054d-26c7-4199-bc2f-812b4b01c283  75368-1           VI\n..                                    ...      ...          ...\n707  b2b057f1-9525-4582-bdac-e8cf10a39a29   sw1040           VI\n708  f77c7ed5-d1ce-4542-894d-030063d91555   sw1039           VI\n709  064d326b-b2d2-4ebf-b99a-96620ba2d5f6   sw1038           VI\n710  6ef6ee5e-8cd8-43df-a62d-b801611c0b0c   sw1037           VI\n711  1e0f60e0-8a56-4715-80ba-95ee14c01491   sw1036           VI\n\n[712 rows x 3 columns]",
      "text/html": "<div>\n<style scoped>\n    .dataframe tbody tr th:only-of-type {\n        vertical-align: middle;\n    }\n\n    .dataframe tbody tr th {\n        vertical-align: top;\n    }\n\n    .dataframe thead th {\n        text-align: right;\n    }\n</style>\n<table border=\"1\" class=\"dataframe\">\n  <thead>\n    <tr style=\"text-align: right;\">\n      <th></th>\n      <th>page_id</th>\n      <th>bl_id</th>\n      <th>account_name</th>\n    </tr>\n  </thead>\n  <tbody>\n    <tr>\n      <th>0</th>\n      <td>1dfd7e30-d17c-48af-b616-c7b4c0d2eaea</td>\n      <td>76266-1</td>\n      <td>VI</td>\n    </tr>\n    <tr>\n      <th>1</th>\n      <td>2965c8c3-013d-46ed-a9dc-a64841d285d4</td>\n      <td>75371-1</td>\n      <td>VI</td>\n    </tr>\n    <tr>\n      <th>2</th>\n      <td>c2e7100e-25ed-4a82-9504-1c58d1e335cb</td>\n      <td>75370-1</td>\n      <td>VI</td>\n    </tr>\n    <tr>\n      <th>3</th>\n      <td>a20e6dcb-d417-4f94-ad54-7368be6c8a92</td>\n      <td>75369-1</td>\n      <td>VI</td>\n    </tr>\n    <tr>\n      <th>4</th>\n      <td>ef81054d-26c7-4199-bc2f-812b4b01c283</td>\n      <td>75368-1</td>\n      <td>VI</td>\n    </tr>\n    <tr>\n      <th>...</th>\n      <td>...</td>\n      <td>...</td>\n      <td>...</td>\n    </tr>\n    <tr>\n      <th>707</th>\n      <td>b2b057f1-9525-4582-bdac-e8cf10a39a29</td>\n      <td>sw1040</td>\n      <td>VI</td>\n    </tr>\n    <tr>\n      <th>708</th>\n      <td>f77c7ed5-d1ce-4542-894d-030063d91555</td>\n      <td>sw1039</td>\n      <td>VI</td>\n    </tr>\n    <tr>\n      <th>709</th>\n      <td>064d326b-b2d2-4ebf-b99a-96620ba2d5f6</td>\n      <td>sw1038</td>\n      <td>VI</td>\n    </tr>\n    <tr>\n      <th>710</th>\n      <td>6ef6ee5e-8cd8-43df-a62d-b801611c0b0c</td>\n      <td>sw1037</td>\n      <td>VI</td>\n    </tr>\n    <tr>\n      <th>711</th>\n      <td>1e0f60e0-8a56-4715-80ba-95ee14c01491</td>\n      <td>sw1036</td>\n      <td>VI</td>\n    </tr>\n  </tbody>\n</table>\n<p>712 rows × 3 columns</p>\n</div>"
     },
     "execution_count": 41,
     "metadata": {},
     "output_type": "execute_result"
    }
   ],
   "source": [
    "df_notion"
   ],
   "metadata": {
    "collapsed": false,
    "ExecuteTime": {
     "end_time": "2023-09-12T14:13:29.979585Z",
     "start_time": "2023-09-12T14:13:29.974129Z"
    }
   },
   "id": "9f4cd73aaff9a31"
  },
  {
   "cell_type": "code",
   "execution_count": null,
   "outputs": [],
   "source": [],
   "metadata": {
    "collapsed": false
   },
   "id": "282c722db5b1068b"
  }
 ],
 "metadata": {
  "kernelspec": {
   "display_name": "Python 3",
   "language": "python",
   "name": "python3"
  },
  "language_info": {
   "codemirror_mode": {
    "name": "ipython",
    "version": 2
   },
   "file_extension": ".py",
   "mimetype": "text/x-python",
   "name": "python",
   "nbconvert_exporter": "python",
   "pygments_lexer": "ipython2",
   "version": "2.7.6"
  }
 },
 "nbformat": 4,
 "nbformat_minor": 5
}
