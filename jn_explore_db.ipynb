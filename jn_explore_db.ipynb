{
 "cells": [
  {
   "cell_type": "code",
   "execution_count": 1,
   "id": "initial_id",
   "metadata": {
    "collapsed": true,
    "ExecuteTime": {
     "end_time": "2023-09-12T10:51:36.072144Z",
     "start_time": "2023-09-12T10:51:33.929091Z"
    }
   },
   "outputs": [],
   "source": [
    "import sqlite3\n",
    "\n",
    "import pandas as pd"
   ]
  },
  {
   "cell_type": "markdown",
   "source": [
    "# Read minifigs"
   ],
   "metadata": {
    "collapsed": false
   },
   "id": "4e126c80ada27fac"
  },
  {
   "cell_type": "code",
   "execution_count": 19,
   "outputs": [],
   "source": [
    "conn = sqlite3.connect('data/lego.db')\n",
    "# df = pd.read_sql_query(\"SELECT * FROM minifigs WHERE category = 'Super Heroes'\", conn)\n",
    "df = pd.read_sql_query(\"SELECT * FROM minifigs\", conn)"
   ],
   "metadata": {
    "collapsed": false,
    "ExecuteTime": {
     "end_time": "2023-09-12T12:14:33.430935Z",
     "start_time": "2023-09-12T12:14:33.387139Z"
    }
   },
   "id": "3b1a7c8a60eb4a4b"
  },
  {
   "cell_type": "code",
   "execution_count": 20,
   "outputs": [
    {
     "name": "stdout",
     "output_type": "stream",
     "text": [
      "<class 'pandas.core.frame.DataFrame'>\n",
      "RangeIndex: 3053 entries, 0 to 3052\n",
      "Data columns (total 11 columns):\n",
      " #   Column         Non-Null Count  Dtype  \n",
      "---  ------         --------------  -----  \n",
      " 0   id             3053 non-null   object \n",
      " 1   name           3053 non-null   object \n",
      " 2   category       3053 non-null   object \n",
      " 3   sub_category   2984 non-null   object \n",
      " 4   image          3053 non-null   object \n",
      " 5   appears_in     1274 non-null   object \n",
      " 6   avg_price_raw  224 non-null    object \n",
      " 7   avg_price_pln  224 non-null    float64\n",
      " 8   avg_price_eur  224 non-null    float64\n",
      " 9   bricklink      3053 non-null   object \n",
      " 10  release_year   3029 non-null   float64\n",
      "dtypes: float64(3), object(8)\n",
      "memory usage: 262.5+ KB\n"
     ]
    }
   ],
   "source": [
    "df.info()"
   ],
   "metadata": {
    "collapsed": false,
    "ExecuteTime": {
     "end_time": "2023-09-12T12:14:33.803018Z",
     "start_time": "2023-09-12T12:14:33.794386Z"
    }
   },
   "id": "9550c132d56a0a6c"
  },
  {
   "cell_type": "code",
   "execution_count": 21,
   "outputs": [
    {
     "name": "stdout",
     "output_type": "stream",
     "text": [
      "(0, 11)\n",
      "(0, 11)\n",
      "(1779, 11)\n"
     ]
    }
   ],
   "source": [
    "column_name = \"appears_in\"\n",
    "print(df[df[column_name] == \"None\"].shape)\n",
    "print(df[df[column_name] == \"\"].shape)\n",
    "print(df[df[column_name].isnull()].shape)"
   ],
   "metadata": {
    "collapsed": false,
    "ExecuteTime": {
     "end_time": "2023-09-12T12:14:36.807631Z",
     "start_time": "2023-09-12T12:14:36.791082Z"
    }
   },
   "id": "4f4d833887ac1244"
  },
  {
   "cell_type": "code",
   "execution_count": 23,
   "outputs": [
    {
     "data": {
      "text/plain": "          id                               name   category  \\\n1081  sw1035  Captain Antilles (Dark Tan Shirt)  Star Wars   \n\n                 sub_category  \\\n1081  Star Wars Episode 4/5/6   \n\n                                                  image appears_in  \\\n1081  https://img.bricklink.com/ItemImage/MN/0/sw103...    75244-1   \n\n     avg_price_raw  avg_price_pln  avg_price_eur  \\\n1081          None            NaN            NaN   \n\n                                              bricklink  release_year  \n1081  https://www.bricklink.com/v2/catalog/catalogit...        2019.0  ",
      "text/html": "<div>\n<style scoped>\n    .dataframe tbody tr th:only-of-type {\n        vertical-align: middle;\n    }\n\n    .dataframe tbody tr th {\n        vertical-align: top;\n    }\n\n    .dataframe thead th {\n        text-align: right;\n    }\n</style>\n<table border=\"1\" class=\"dataframe\">\n  <thead>\n    <tr style=\"text-align: right;\">\n      <th></th>\n      <th>id</th>\n      <th>name</th>\n      <th>category</th>\n      <th>sub_category</th>\n      <th>image</th>\n      <th>appears_in</th>\n      <th>avg_price_raw</th>\n      <th>avg_price_pln</th>\n      <th>avg_price_eur</th>\n      <th>bricklink</th>\n      <th>release_year</th>\n    </tr>\n  </thead>\n  <tbody>\n    <tr>\n      <th>1081</th>\n      <td>sw1035</td>\n      <td>Captain Antilles (Dark Tan Shirt)</td>\n      <td>Star Wars</td>\n      <td>Star Wars Episode 4/5/6</td>\n      <td>https://img.bricklink.com/ItemImage/MN/0/sw103...</td>\n      <td>75244-1</td>\n      <td>None</td>\n      <td>NaN</td>\n      <td>NaN</td>\n      <td>https://www.bricklink.com/v2/catalog/catalogit...</td>\n      <td>2019.0</td>\n    </tr>\n  </tbody>\n</table>\n</div>"
     },
     "execution_count": 23,
     "metadata": {},
     "output_type": "execute_result"
    }
   ],
   "source": [
    "df[df[\"id\"] == \"sw1035\"]"
   ],
   "metadata": {
    "collapsed": false,
    "ExecuteTime": {
     "end_time": "2023-09-12T12:14:49.944568Z",
     "start_time": "2023-09-12T12:14:49.853919Z"
    }
   },
   "id": "6af773e647d8928d"
  },
  {
   "cell_type": "code",
   "execution_count": 14,
   "outputs": [
    {
     "data": {
      "text/plain": "          id                                               name   category  \\\n3047  sw1254  Obi-Wan Kenobi (Old) - Tattered Cape (Watch 90...  Star Wars   \n\n                 sub_category  \\\n3047  Star Wars Episode 4/5/6   \n\n                                                  image appears_in  \\\n3047  https://img.bricklink.com/ItemImage/MN/0/sw125...              \n\n     avg_price_raw  avg_price_pln  avg_price_eur  \\\n3047          None            NaN            NaN   \n\n                                              bricklink  release_year  \n3047  https://www.bricklink.com/v2/catalog/catalogit...           NaN  ",
      "text/html": "<div>\n<style scoped>\n    .dataframe tbody tr th:only-of-type {\n        vertical-align: middle;\n    }\n\n    .dataframe tbody tr th {\n        vertical-align: top;\n    }\n\n    .dataframe thead th {\n        text-align: right;\n    }\n</style>\n<table border=\"1\" class=\"dataframe\">\n  <thead>\n    <tr style=\"text-align: right;\">\n      <th></th>\n      <th>id</th>\n      <th>name</th>\n      <th>category</th>\n      <th>sub_category</th>\n      <th>image</th>\n      <th>appears_in</th>\n      <th>avg_price_raw</th>\n      <th>avg_price_pln</th>\n      <th>avg_price_eur</th>\n      <th>bricklink</th>\n      <th>release_year</th>\n    </tr>\n  </thead>\n  <tbody>\n    <tr>\n      <th>3047</th>\n      <td>sw1254</td>\n      <td>Obi-Wan Kenobi (Old) - Tattered Cape (Watch 90...</td>\n      <td>Star Wars</td>\n      <td>Star Wars Episode 4/5/6</td>\n      <td>https://img.bricklink.com/ItemImage/MN/0/sw125...</td>\n      <td></td>\n      <td>None</td>\n      <td>NaN</td>\n      <td>NaN</td>\n      <td>https://www.bricklink.com/v2/catalog/catalogit...</td>\n      <td>NaN</td>\n    </tr>\n  </tbody>\n</table>\n</div>"
     },
     "execution_count": 14,
     "metadata": {},
     "output_type": "execute_result"
    }
   ],
   "source": [
    "df[df[\"id\"] == \"sw1254\"]"
   ],
   "metadata": {
    "collapsed": false,
    "ExecuteTime": {
     "end_time": "2023-09-11T13:47:16.678273Z",
     "start_time": "2023-09-11T13:47:16.625487Z"
    }
   },
   "id": "79b3b96a53e97852"
  },
  {
   "cell_type": "markdown",
   "source": [
    "# Read sets"
   ],
   "metadata": {
    "collapsed": false
   },
   "id": "7a9556fe39d7f9c4"
  },
  {
   "cell_type": "code",
   "execution_count": 24,
   "outputs": [],
   "source": [
    "conn = sqlite3.connect('data/lego.db')\n",
    "sets_df = pd.read_sql_query(\"SELECT * FROM sets WHERE category = 'Star Wars'\", conn)"
   ],
   "metadata": {
    "collapsed": false,
    "ExecuteTime": {
     "end_time": "2023-09-12T12:29:49.881815Z",
     "start_time": "2023-09-12T12:29:49.850403Z"
    }
   },
   "id": "d77aa3a5669fb145"
  },
  {
   "cell_type": "code",
   "execution_count": 25,
   "outputs": [
    {
     "name": "stdout",
     "output_type": "stream",
     "text": [
      "<class 'pandas.core.frame.DataFrame'>\n",
      "RangeIndex: 466 entries, 0 to 465\n",
      "Data columns (total 11 columns):\n",
      " #   Column             Non-Null Count  Dtype \n",
      "---  ------             --------------  ----- \n",
      " 0   id                 466 non-null    object\n",
      " 1   name               466 non-null    object\n",
      " 2   category           466 non-null    object\n",
      " 3   sub_category       466 non-null    object\n",
      " 4   image              466 non-null    object\n",
      " 5   minifigs_included  466 non-null    object\n",
      " 6   avg_price_raw      0 non-null      object\n",
      " 7   avg_price_pln      0 non-null      object\n",
      " 8   avg_price_eur      0 non-null      object\n",
      " 9   bricklink          466 non-null    object\n",
      " 10  release_year       466 non-null    int64 \n",
      "dtypes: int64(1), object(10)\n",
      "memory usage: 40.2+ KB\n"
     ]
    }
   ],
   "source": [
    "sets_df.info()"
   ],
   "metadata": {
    "collapsed": false,
    "ExecuteTime": {
     "end_time": "2023-09-12T12:29:50.039812Z",
     "start_time": "2023-09-12T12:29:50.028314Z"
    }
   },
   "id": "e4e22d196542e25a"
  },
  {
   "cell_type": "code",
   "execution_count": 8,
   "outputs": [
    {
     "data": {
      "text/plain": "          id          name   category               sub_category  \\\n362  75254-1  AT-ST Raider  Star Wars  Star Wars The Mandalorian   \n\n                                                 image minifigs_included  \\\n362  https://img.bricklink.com/ItemImage/ON/0/75254...               TBD   \n\n    avg_price_raw avg_price_pln avg_price_eur  \\\n362          None          None          None   \n\n                                             bricklink  release_year  \n362  https://www.bricklink.com/v2/catalog/catalogit...          2019  ",
      "text/html": "<div>\n<style scoped>\n    .dataframe tbody tr th:only-of-type {\n        vertical-align: middle;\n    }\n\n    .dataframe tbody tr th {\n        vertical-align: top;\n    }\n\n    .dataframe thead th {\n        text-align: right;\n    }\n</style>\n<table border=\"1\" class=\"dataframe\">\n  <thead>\n    <tr style=\"text-align: right;\">\n      <th></th>\n      <th>id</th>\n      <th>name</th>\n      <th>category</th>\n      <th>sub_category</th>\n      <th>image</th>\n      <th>minifigs_included</th>\n      <th>avg_price_raw</th>\n      <th>avg_price_pln</th>\n      <th>avg_price_eur</th>\n      <th>bricklink</th>\n      <th>release_year</th>\n    </tr>\n  </thead>\n  <tbody>\n    <tr>\n      <th>362</th>\n      <td>75254-1</td>\n      <td>AT-ST Raider</td>\n      <td>Star Wars</td>\n      <td>Star Wars The Mandalorian</td>\n      <td>https://img.bricklink.com/ItemImage/ON/0/75254...</td>\n      <td>TBD</td>\n      <td>None</td>\n      <td>None</td>\n      <td>None</td>\n      <td>https://www.bricklink.com/v2/catalog/catalogit...</td>\n      <td>2019</td>\n    </tr>\n  </tbody>\n</table>\n</div>"
     },
     "execution_count": 8,
     "metadata": {},
     "output_type": "execute_result"
    }
   ],
   "source": [
    "sets_df[sets_df[\"id\"] == \"75254-1\"]"
   ],
   "metadata": {
    "collapsed": false,
    "ExecuteTime": {
     "end_time": "2023-09-11T13:31:32.785571Z",
     "start_time": "2023-09-11T13:31:32.776493Z"
    }
   },
   "id": "88d57808fd748acf"
  },
  {
   "cell_type": "markdown",
   "source": [
    "# Read notion_mapping"
   ],
   "metadata": {
    "collapsed": false
   },
   "id": "7a01a9c6cb1d9d69"
  },
  {
   "cell_type": "code",
   "execution_count": 34,
   "outputs": [],
   "source": [
    "conn = sqlite3.connect('data/lego.db')\n",
    "df = pd.read_sql_query(\"SELECT * FROM notion_mapping WHERE account_name = 'JO'\", conn)"
   ],
   "metadata": {
    "collapsed": false,
    "ExecuteTime": {
     "end_time": "2023-09-12T13:50:02.784274Z",
     "start_time": "2023-09-12T13:50:02.597225Z"
    }
   },
   "id": "cec0cbd1a034b2d7"
  },
  {
   "cell_type": "code",
   "execution_count": 35,
   "outputs": [
    {
     "data": {
      "text/plain": "                                   page_id    bl_id account_name\n0     3795de29-bb69-4ad2-962f-866407f4b7a2   hfw002           JO\n1     9cffc595-cc42-427d-a9d9-a6f965478be3   hfw001           JO\n2     ee223296-a8a4-4f73-87f1-162959b257d0  76989-1           JO\n3     9a35f79b-7c09-47d4-8d8e-b6e45ed2d0a6   avt027           JO\n4     5b34994f-ef70-42d9-a91c-779faf66e595   avt026           JO\n...                                    ...      ...          ...\n3189  1ceabb7e-7907-4092-a199-caf52e1b0799   sw0216           JO\n3190  0c5138c7-3bb4-4d4f-a63a-50b9577fa4ed   sw0202           JO\n3191  c2cf815a-d4ec-44fa-b6ba-255aba64ecd3   sw0166           JO\n3192  22fb9dae-62ea-42df-b1e2-9c282791c9d7   sw0112           JO\n3193  11a125be-3e69-4691-a0ce-12a2643614f6  sw0106a           JO\n\n[3194 rows x 3 columns]",
      "text/html": "<div>\n<style scoped>\n    .dataframe tbody tr th:only-of-type {\n        vertical-align: middle;\n    }\n\n    .dataframe tbody tr th {\n        vertical-align: top;\n    }\n\n    .dataframe thead th {\n        text-align: right;\n    }\n</style>\n<table border=\"1\" class=\"dataframe\">\n  <thead>\n    <tr style=\"text-align: right;\">\n      <th></th>\n      <th>page_id</th>\n      <th>bl_id</th>\n      <th>account_name</th>\n    </tr>\n  </thead>\n  <tbody>\n    <tr>\n      <th>0</th>\n      <td>3795de29-bb69-4ad2-962f-866407f4b7a2</td>\n      <td>hfw002</td>\n      <td>JO</td>\n    </tr>\n    <tr>\n      <th>1</th>\n      <td>9cffc595-cc42-427d-a9d9-a6f965478be3</td>\n      <td>hfw001</td>\n      <td>JO</td>\n    </tr>\n    <tr>\n      <th>2</th>\n      <td>ee223296-a8a4-4f73-87f1-162959b257d0</td>\n      <td>76989-1</td>\n      <td>JO</td>\n    </tr>\n    <tr>\n      <th>3</th>\n      <td>9a35f79b-7c09-47d4-8d8e-b6e45ed2d0a6</td>\n      <td>avt027</td>\n      <td>JO</td>\n    </tr>\n    <tr>\n      <th>4</th>\n      <td>5b34994f-ef70-42d9-a91c-779faf66e595</td>\n      <td>avt026</td>\n      <td>JO</td>\n    </tr>\n    <tr>\n      <th>...</th>\n      <td>...</td>\n      <td>...</td>\n      <td>...</td>\n    </tr>\n    <tr>\n      <th>3189</th>\n      <td>1ceabb7e-7907-4092-a199-caf52e1b0799</td>\n      <td>sw0216</td>\n      <td>JO</td>\n    </tr>\n    <tr>\n      <th>3190</th>\n      <td>0c5138c7-3bb4-4d4f-a63a-50b9577fa4ed</td>\n      <td>sw0202</td>\n      <td>JO</td>\n    </tr>\n    <tr>\n      <th>3191</th>\n      <td>c2cf815a-d4ec-44fa-b6ba-255aba64ecd3</td>\n      <td>sw0166</td>\n      <td>JO</td>\n    </tr>\n    <tr>\n      <th>3192</th>\n      <td>22fb9dae-62ea-42df-b1e2-9c282791c9d7</td>\n      <td>sw0112</td>\n      <td>JO</td>\n    </tr>\n    <tr>\n      <th>3193</th>\n      <td>11a125be-3e69-4691-a0ce-12a2643614f6</td>\n      <td>sw0106a</td>\n      <td>JO</td>\n    </tr>\n  </tbody>\n</table>\n<p>3194 rows × 3 columns</p>\n</div>"
     },
     "execution_count": 35,
     "metadata": {},
     "output_type": "execute_result"
    }
   ],
   "source": [
    "df"
   ],
   "metadata": {
    "collapsed": false,
    "ExecuteTime": {
     "end_time": "2023-09-12T13:50:04.786941Z",
     "start_time": "2023-09-12T13:50:04.649705Z"
    }
   },
   "id": "9f4cd73aaff9a31"
  },
  {
   "cell_type": "code",
   "execution_count": null,
   "outputs": [],
   "source": [],
   "metadata": {
    "collapsed": false
   },
   "id": "282c722db5b1068b"
  }
 ],
 "metadata": {
  "kernelspec": {
   "display_name": "Python 3",
   "language": "python",
   "name": "python3"
  },
  "language_info": {
   "codemirror_mode": {
    "name": "ipython",
    "version": 2
   },
   "file_extension": ".py",
   "mimetype": "text/x-python",
   "name": "python",
   "nbconvert_exporter": "python",
   "pygments_lexer": "ipython2",
   "version": "2.7.6"
  }
 },
 "nbformat": 4,
 "nbformat_minor": 5
}
