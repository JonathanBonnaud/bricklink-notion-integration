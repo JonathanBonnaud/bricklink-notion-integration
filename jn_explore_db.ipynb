{
 "cells": [
  {
   "cell_type": "code",
   "execution_count": 1,
   "id": "initial_id",
   "metadata": {
    "collapsed": true,
    "ExecuteTime": {
     "end_time": "2023-09-18T11:06:56.291855Z",
     "start_time": "2023-09-18T11:06:55.922036Z"
    }
   },
   "outputs": [],
   "source": [
    "import sqlite3\n",
    "\n",
    "import pandas as pd"
   ]
  },
  {
   "cell_type": "markdown",
   "source": [
    "# Read minifigs"
   ],
   "metadata": {
    "collapsed": false
   },
   "id": "4e126c80ada27fac"
  },
  {
   "cell_type": "code",
   "execution_count": 39,
   "outputs": [],
   "source": [
    "conn = sqlite3.connect('data/lego.db')\n",
    "df = pd.read_sql_query(\"SELECT * FROM minifigs WHERE category = 'Super Heroes'\", conn)\n",
    "# df = pd.read_sql_query(\"SELECT * FROM minifigs\", conn)"
   ],
   "metadata": {
    "collapsed": false,
    "ExecuteTime": {
     "end_time": "2023-09-15T16:17:05.697392Z",
     "start_time": "2023-09-15T16:17:05.549081Z"
    }
   },
   "id": "3b1a7c8a60eb4a4b"
  },
  {
   "cell_type": "code",
   "execution_count": 40,
   "outputs": [
    {
     "name": "stdout",
     "output_type": "stream",
     "text": [
      "<class 'pandas.core.frame.DataFrame'>\n",
      "RangeIndex: 926 entries, 0 to 925\n",
      "Data columns (total 11 columns):\n",
      " #   Column         Non-Null Count  Dtype  \n",
      "---  ------         --------------  -----  \n",
      " 0   id             926 non-null    object \n",
      " 1   name           926 non-null    object \n",
      " 2   category       926 non-null    object \n",
      " 3   sub_category   920 non-null    object \n",
      " 4   image          926 non-null    object \n",
      " 5   appears_in     257 non-null    object \n",
      " 6   avg_price_raw  36 non-null     object \n",
      " 7   avg_price_pln  30 non-null     float64\n",
      " 8   avg_price_eur  30 non-null     float64\n",
      " 9   bricklink      926 non-null    object \n",
      " 10  release_year   918 non-null    float64\n",
      "dtypes: float64(3), object(8)\n",
      "memory usage: 79.7+ KB\n"
     ]
    }
   ],
   "source": [
    "df.info()"
   ],
   "metadata": {
    "collapsed": false,
    "ExecuteTime": {
     "end_time": "2023-09-15T16:17:05.908606Z",
     "start_time": "2023-09-15T16:17:05.852452Z"
    }
   },
   "id": "9550c132d56a0a6c"
  },
  {
   "cell_type": "code",
   "execution_count": 31,
   "outputs": [
    {
     "name": "stdout",
     "output_type": "stream",
     "text": [
      "(0, 11)\n",
      "(0, 11)\n",
      "(69, 11)\n",
      "Not null: (1297, 11)\n"
     ]
    }
   ],
   "source": [
    "column_name = \"appears_in\"\n",
    "print(df[df[column_name] == \"None\"].shape)\n",
    "print(df[df[column_name] == \"\"].shape)\n",
    "print(df[df[column_name].isnull()].shape)\n",
    "print(f\"Not null: {df[~df[column_name].isnull()].shape}\")"
   ],
   "metadata": {
    "collapsed": false,
    "ExecuteTime": {
     "end_time": "2023-09-15T15:44:41.308079Z",
     "start_time": "2023-09-15T15:44:41.177870Z"
    }
   },
   "id": "4f4d833887ac1244"
  },
  {
   "cell_type": "code",
   "execution_count": 12,
   "outputs": [
    {
     "data": {
      "text/plain": "          id                                               name      category  \\\n0     sw0002                          Boba Fett - Classic Grays     Star Wars   \n1     sw0003                                         Darth Maul     Star Wars   \n2     sw0004                      Darth Vader (Light Gray Head)     Star Wars   \n3     sw0005  Imperial Scout Trooper - Yellow Head, Dark Gra...     Star Wars   \n4     sw0006                                        Aldar Beedo     Star Wars   \n...      ...                                                ...           ...   \n3069   sh497               Iron Man Mark 50 Armor, Neck Bracket  Super Heroes   \n3070   sh585  Nick Fury - Gray Sweater and Black Trench Coat...  Super Heroes   \n3071   sh905                     Spider-Man - Christmas Sweater  Super Heroes   \n3072   sh614                Spider-Man Noir (Undetermined Type)  Super Heroes   \n3073   sh903  The Joker - Medium Lavender Suit, Dark Green V...  Super Heroes   \n\n                  sub_category  \\\n0      Star Wars Episode 4/5/6   \n1          Star Wars Episode 1   \n2      Star Wars Episode 4/5/6   \n3      Star Wars Episode 4/5/6   \n4          Star Wars Episode 1   \n...                        ...   \n3069     Avengers Infinity War   \n3070  Spider-Man Far From Home   \n3071                  Avengers   \n3072                Spider-Man   \n3073                 Batman II   \n\n                                                  image appears_in  \\\n0     https://img.bricklink.com/ItemImage/MN/0/sw000...       None   \n1     https://img.bricklink.com/ItemImage/MN/0/sw000...       None   \n2     https://img.bricklink.com/ItemImage/MN/0/sw000...       None   \n3     https://img.bricklink.com/ItemImage/MN/0/sw000...       None   \n4     https://img.bricklink.com/ItemImage/MN/0/sw000...       None   \n...                                                 ...        ...   \n3069  https://img.bricklink.com/ItemImage/MN/0/sh497...       None   \n3070  https://img.bricklink.com/ItemImage/MN/0/sh585...       None   \n3071  https://img.bricklink.com/ItemImage/MN/0/sh905...       None   \n3072  https://img.bricklink.com/ItemImage/MN/0/sh614...       None   \n3073  https://img.bricklink.com/ItemImage/MN/0/sh903...       None   \n\n     avg_price_raw  avg_price_pln  avg_price_eur  \\\n0             None            NaN            NaN   \n1             None            NaN            NaN   \n2             None            NaN            NaN   \n3             None            NaN            NaN   \n4             None            NaN            NaN   \n...            ...            ...            ...   \n3069          None            NaN            NaN   \n3070          None            NaN            NaN   \n3071          None            NaN            NaN   \n3072          None            NaN            NaN   \n3073          None            NaN            NaN   \n\n                                              bricklink  release_year  \n0     https://www.bricklink.com/v2/catalog/catalogit...        2000.0  \n1     https://www.bricklink.com/v2/catalog/catalogit...        1999.0  \n2     https://www.bricklink.com/v2/catalog/catalogit...        1999.0  \n3     https://www.bricklink.com/v2/catalog/catalogit...        1999.0  \n4     https://www.bricklink.com/v2/catalog/catalogit...        2000.0  \n...                                                 ...           ...  \n3069  https://www.bricklink.com/v2/catalog/catalogit...           NaN  \n3070  https://www.bricklink.com/v2/catalog/catalogit...           NaN  \n3071  https://www.bricklink.com/v2/catalog/catalogit...           NaN  \n3072  https://www.bricklink.com/v2/catalog/catalogit...           NaN  \n3073  https://www.bricklink.com/v2/catalog/catalogit...           NaN  \n\n[3074 rows x 11 columns]",
      "text/html": "<div>\n<style scoped>\n    .dataframe tbody tr th:only-of-type {\n        vertical-align: middle;\n    }\n\n    .dataframe tbody tr th {\n        vertical-align: top;\n    }\n\n    .dataframe thead th {\n        text-align: right;\n    }\n</style>\n<table border=\"1\" class=\"dataframe\">\n  <thead>\n    <tr style=\"text-align: right;\">\n      <th></th>\n      <th>id</th>\n      <th>name</th>\n      <th>category</th>\n      <th>sub_category</th>\n      <th>image</th>\n      <th>appears_in</th>\n      <th>avg_price_raw</th>\n      <th>avg_price_pln</th>\n      <th>avg_price_eur</th>\n      <th>bricklink</th>\n      <th>release_year</th>\n    </tr>\n  </thead>\n  <tbody>\n    <tr>\n      <th>0</th>\n      <td>sw0002</td>\n      <td>Boba Fett - Classic Grays</td>\n      <td>Star Wars</td>\n      <td>Star Wars Episode 4/5/6</td>\n      <td>https://img.bricklink.com/ItemImage/MN/0/sw000...</td>\n      <td>None</td>\n      <td>None</td>\n      <td>NaN</td>\n      <td>NaN</td>\n      <td>https://www.bricklink.com/v2/catalog/catalogit...</td>\n      <td>2000.0</td>\n    </tr>\n    <tr>\n      <th>1</th>\n      <td>sw0003</td>\n      <td>Darth Maul</td>\n      <td>Star Wars</td>\n      <td>Star Wars Episode 1</td>\n      <td>https://img.bricklink.com/ItemImage/MN/0/sw000...</td>\n      <td>None</td>\n      <td>None</td>\n      <td>NaN</td>\n      <td>NaN</td>\n      <td>https://www.bricklink.com/v2/catalog/catalogit...</td>\n      <td>1999.0</td>\n    </tr>\n    <tr>\n      <th>2</th>\n      <td>sw0004</td>\n      <td>Darth Vader (Light Gray Head)</td>\n      <td>Star Wars</td>\n      <td>Star Wars Episode 4/5/6</td>\n      <td>https://img.bricklink.com/ItemImage/MN/0/sw000...</td>\n      <td>None</td>\n      <td>None</td>\n      <td>NaN</td>\n      <td>NaN</td>\n      <td>https://www.bricklink.com/v2/catalog/catalogit...</td>\n      <td>1999.0</td>\n    </tr>\n    <tr>\n      <th>3</th>\n      <td>sw0005</td>\n      <td>Imperial Scout Trooper - Yellow Head, Dark Gra...</td>\n      <td>Star Wars</td>\n      <td>Star Wars Episode 4/5/6</td>\n      <td>https://img.bricklink.com/ItemImage/MN/0/sw000...</td>\n      <td>None</td>\n      <td>None</td>\n      <td>NaN</td>\n      <td>NaN</td>\n      <td>https://www.bricklink.com/v2/catalog/catalogit...</td>\n      <td>1999.0</td>\n    </tr>\n    <tr>\n      <th>4</th>\n      <td>sw0006</td>\n      <td>Aldar Beedo</td>\n      <td>Star Wars</td>\n      <td>Star Wars Episode 1</td>\n      <td>https://img.bricklink.com/ItemImage/MN/0/sw000...</td>\n      <td>None</td>\n      <td>None</td>\n      <td>NaN</td>\n      <td>NaN</td>\n      <td>https://www.bricklink.com/v2/catalog/catalogit...</td>\n      <td>2000.0</td>\n    </tr>\n    <tr>\n      <th>...</th>\n      <td>...</td>\n      <td>...</td>\n      <td>...</td>\n      <td>...</td>\n      <td>...</td>\n      <td>...</td>\n      <td>...</td>\n      <td>...</td>\n      <td>...</td>\n      <td>...</td>\n      <td>...</td>\n    </tr>\n    <tr>\n      <th>3069</th>\n      <td>sh497</td>\n      <td>Iron Man Mark 50 Armor, Neck Bracket</td>\n      <td>Super Heroes</td>\n      <td>Avengers Infinity War</td>\n      <td>https://img.bricklink.com/ItemImage/MN/0/sh497...</td>\n      <td>None</td>\n      <td>None</td>\n      <td>NaN</td>\n      <td>NaN</td>\n      <td>https://www.bricklink.com/v2/catalog/catalogit...</td>\n      <td>NaN</td>\n    </tr>\n    <tr>\n      <th>3070</th>\n      <td>sh585</td>\n      <td>Nick Fury - Gray Sweater and Black Trench Coat...</td>\n      <td>Super Heroes</td>\n      <td>Spider-Man Far From Home</td>\n      <td>https://img.bricklink.com/ItemImage/MN/0/sh585...</td>\n      <td>None</td>\n      <td>None</td>\n      <td>NaN</td>\n      <td>NaN</td>\n      <td>https://www.bricklink.com/v2/catalog/catalogit...</td>\n      <td>NaN</td>\n    </tr>\n    <tr>\n      <th>3071</th>\n      <td>sh905</td>\n      <td>Spider-Man - Christmas Sweater</td>\n      <td>Super Heroes</td>\n      <td>Avengers</td>\n      <td>https://img.bricklink.com/ItemImage/MN/0/sh905...</td>\n      <td>None</td>\n      <td>None</td>\n      <td>NaN</td>\n      <td>NaN</td>\n      <td>https://www.bricklink.com/v2/catalog/catalogit...</td>\n      <td>NaN</td>\n    </tr>\n    <tr>\n      <th>3072</th>\n      <td>sh614</td>\n      <td>Spider-Man Noir (Undetermined Type)</td>\n      <td>Super Heroes</td>\n      <td>Spider-Man</td>\n      <td>https://img.bricklink.com/ItemImage/MN/0/sh614...</td>\n      <td>None</td>\n      <td>None</td>\n      <td>NaN</td>\n      <td>NaN</td>\n      <td>https://www.bricklink.com/v2/catalog/catalogit...</td>\n      <td>NaN</td>\n    </tr>\n    <tr>\n      <th>3073</th>\n      <td>sh903</td>\n      <td>The Joker - Medium Lavender Suit, Dark Green V...</td>\n      <td>Super Heroes</td>\n      <td>Batman II</td>\n      <td>https://img.bricklink.com/ItemImage/MN/0/sh903...</td>\n      <td>None</td>\n      <td>None</td>\n      <td>NaN</td>\n      <td>NaN</td>\n      <td>https://www.bricklink.com/v2/catalog/catalogit...</td>\n      <td>NaN</td>\n    </tr>\n  </tbody>\n</table>\n<p>3074 rows × 11 columns</p>\n</div>"
     },
     "execution_count": 12,
     "metadata": {},
     "output_type": "execute_result"
    }
   ],
   "source": [
    "df"
   ],
   "metadata": {
    "collapsed": false,
    "ExecuteTime": {
     "end_time": "2023-09-14T14:32:20.822195Z",
     "start_time": "2023-09-14T14:32:20.735403Z"
    }
   },
   "id": "d888bb8d720f1f1e"
  },
  {
   "cell_type": "code",
   "execution_count": 38,
   "outputs": [
    {
     "data": {
      "text/plain": "          id        name   category               sub_category  \\\n1219  sw1172  Paz Vizsla  Star Wars  Star Wars The Mandalorian   \n\n                                                  image appears_in  \\\n1219  https://img.bricklink.com/ItemImage/MN/0/sw117...      75318   \n\n     avg_price_raw  avg_price_pln  avg_price_eur  \\\n1219     EUR 38.52         172.92          38.52   \n\n                                              bricklink  release_year  \n1219  https://www.bricklink.com/v2/catalog/catalogit...        2021.0  ",
      "text/html": "<div>\n<style scoped>\n    .dataframe tbody tr th:only-of-type {\n        vertical-align: middle;\n    }\n\n    .dataframe tbody tr th {\n        vertical-align: top;\n    }\n\n    .dataframe thead th {\n        text-align: right;\n    }\n</style>\n<table border=\"1\" class=\"dataframe\">\n  <thead>\n    <tr style=\"text-align: right;\">\n      <th></th>\n      <th>id</th>\n      <th>name</th>\n      <th>category</th>\n      <th>sub_category</th>\n      <th>image</th>\n      <th>appears_in</th>\n      <th>avg_price_raw</th>\n      <th>avg_price_pln</th>\n      <th>avg_price_eur</th>\n      <th>bricklink</th>\n      <th>release_year</th>\n    </tr>\n  </thead>\n  <tbody>\n    <tr>\n      <th>1219</th>\n      <td>sw1172</td>\n      <td>Paz Vizsla</td>\n      <td>Star Wars</td>\n      <td>Star Wars The Mandalorian</td>\n      <td>https://img.bricklink.com/ItemImage/MN/0/sw117...</td>\n      <td>75318</td>\n      <td>EUR 38.52</td>\n      <td>172.92</td>\n      <td>38.52</td>\n      <td>https://www.bricklink.com/v2/catalog/catalogit...</td>\n      <td>2021.0</td>\n    </tr>\n  </tbody>\n</table>\n</div>"
     },
     "execution_count": 38,
     "metadata": {},
     "output_type": "execute_result"
    }
   ],
   "source": [
    "df[df[\"id\"] == \"sw1172\"]"
   ],
   "metadata": {
    "collapsed": false,
    "ExecuteTime": {
     "end_time": "2023-09-15T15:59:00.376094Z",
     "start_time": "2023-09-15T15:59:00.134302Z"
    }
   },
   "id": "6af773e647d8928d"
  },
  {
   "cell_type": "code",
   "execution_count": 41,
   "outputs": [
    {
     "data": {
      "text/plain": "        id        name      category                   sub_category  \\\n858  sh841  King Namor  Super Heroes  Black Panther Wakanda Forever   \n\n                                                 image       appears_in  \\\n858  https://img.bricklink.com/ItemImage/MN/0/sh841...  76214-1,76213-1   \n\n    avg_price_raw  avg_price_pln  avg_price_eur  \\\n858          None            NaN            NaN   \n\n                                             bricklink  release_year  \n858  https://www.bricklink.com/v2/catalog/catalogit...        2022.0  ",
      "text/html": "<div>\n<style scoped>\n    .dataframe tbody tr th:only-of-type {\n        vertical-align: middle;\n    }\n\n    .dataframe tbody tr th {\n        vertical-align: top;\n    }\n\n    .dataframe thead th {\n        text-align: right;\n    }\n</style>\n<table border=\"1\" class=\"dataframe\">\n  <thead>\n    <tr style=\"text-align: right;\">\n      <th></th>\n      <th>id</th>\n      <th>name</th>\n      <th>category</th>\n      <th>sub_category</th>\n      <th>image</th>\n      <th>appears_in</th>\n      <th>avg_price_raw</th>\n      <th>avg_price_pln</th>\n      <th>avg_price_eur</th>\n      <th>bricklink</th>\n      <th>release_year</th>\n    </tr>\n  </thead>\n  <tbody>\n    <tr>\n      <th>858</th>\n      <td>sh841</td>\n      <td>King Namor</td>\n      <td>Super Heroes</td>\n      <td>Black Panther Wakanda Forever</td>\n      <td>https://img.bricklink.com/ItemImage/MN/0/sh841...</td>\n      <td>76214-1,76213-1</td>\n      <td>None</td>\n      <td>NaN</td>\n      <td>NaN</td>\n      <td>https://www.bricklink.com/v2/catalog/catalogit...</td>\n      <td>2022.0</td>\n    </tr>\n  </tbody>\n</table>\n</div>"
     },
     "execution_count": 41,
     "metadata": {},
     "output_type": "execute_result"
    }
   ],
   "source": [
    "df[df[\"id\"] == \"sh841\"]"
   ],
   "metadata": {
    "collapsed": false,
    "ExecuteTime": {
     "end_time": "2023-09-15T16:17:22.332731Z",
     "start_time": "2023-09-15T16:17:22.174506Z"
    }
   },
   "id": "79b3b96a53e97852"
  },
  {
   "cell_type": "markdown",
   "source": [
    "# Read sets"
   ],
   "metadata": {
    "collapsed": false
   },
   "id": "7a9556fe39d7f9c4"
  },
  {
   "cell_type": "code",
   "execution_count": 13,
   "outputs": [],
   "source": [
    "conn = sqlite3.connect('data/lego.db')\n",
    "sets_df = pd.read_sql_query(\"SELECT * FROM sets WHERE category = 'Star Wars'\", conn)"
   ],
   "metadata": {
    "collapsed": false,
    "ExecuteTime": {
     "end_time": "2023-09-14T14:37:32.729973Z",
     "start_time": "2023-09-14T14:37:32.607553Z"
    }
   },
   "id": "d77aa3a5669fb145"
  },
  {
   "cell_type": "code",
   "execution_count": 14,
   "outputs": [
    {
     "name": "stdout",
     "output_type": "stream",
     "text": [
      "<class 'pandas.core.frame.DataFrame'>\n",
      "RangeIndex: 908 entries, 0 to 907\n",
      "Data columns (total 11 columns):\n",
      " #   Column             Non-Null Count  Dtype  \n",
      "---  ------             --------------  -----  \n",
      " 0   id                 908 non-null    object \n",
      " 1   name               908 non-null    object \n",
      " 2   category           908 non-null    object \n",
      " 3   sub_category       908 non-null    object \n",
      " 4   image              908 non-null    object \n",
      " 5   minifigs_included  466 non-null    object \n",
      " 6   avg_price_raw      0 non-null      object \n",
      " 7   avg_price_pln      0 non-null      object \n",
      " 8   avg_price_eur      0 non-null      object \n",
      " 9   bricklink          908 non-null    object \n",
      " 10  release_year       466 non-null    float64\n",
      "dtypes: float64(1), object(10)\n",
      "memory usage: 78.2+ KB\n"
     ]
    }
   ],
   "source": [
    "sets_df.info()"
   ],
   "metadata": {
    "collapsed": false,
    "ExecuteTime": {
     "end_time": "2023-09-14T14:37:34.501413Z",
     "start_time": "2023-09-14T14:37:34.379380Z"
    }
   },
   "id": "e4e22d196542e25a"
  },
  {
   "cell_type": "code",
   "execution_count": 18,
   "outputs": [
    {
     "data": {
      "text/plain": "Empty DataFrame\nColumns: [id, name, category, sub_category, image, minifigs_included, avg_price_raw, avg_price_pln, avg_price_eur, bricklink, release_year]\nIndex: []",
      "text/html": "<div>\n<style scoped>\n    .dataframe tbody tr th:only-of-type {\n        vertical-align: middle;\n    }\n\n    .dataframe tbody tr th {\n        vertical-align: top;\n    }\n\n    .dataframe thead th {\n        text-align: right;\n    }\n</style>\n<table border=\"1\" class=\"dataframe\">\n  <thead>\n    <tr style=\"text-align: right;\">\n      <th></th>\n      <th>id</th>\n      <th>name</th>\n      <th>category</th>\n      <th>sub_category</th>\n      <th>image</th>\n      <th>minifigs_included</th>\n      <th>avg_price_raw</th>\n      <th>avg_price_pln</th>\n      <th>avg_price_eur</th>\n      <th>bricklink</th>\n      <th>release_year</th>\n    </tr>\n  </thead>\n  <tbody>\n  </tbody>\n</table>\n</div>"
     },
     "execution_count": 18,
     "metadata": {},
     "output_type": "execute_result"
    }
   ],
   "source": [
    "sets_df[sets_df[\"id\"] == \"76196-1\"]"
   ],
   "metadata": {
    "collapsed": false,
    "ExecuteTime": {
     "end_time": "2023-09-14T14:39:49.199446Z",
     "start_time": "2023-09-14T14:39:49.130675Z"
    }
   },
   "id": "88d57808fd748acf"
  },
  {
   "cell_type": "code",
   "execution_count": 16,
   "outputs": [
    {
     "data": {
      "text/plain": "              id                                               name  \\\n0         7101-1                                    Lightsaber Duel   \n1         7104-1                                       Desert Skiff   \n2         7110-1                                        Landspeeder   \n3         7111-1                                      Droid Fighter   \n4         7115-1                                      Gungan Patrol   \n..           ...                                                ...   \n903         VP-8  Star Wars Bundle Pack, Value Pack (Copack of S...   \n904        VP-10  Star Wars Value Pack with Free LEGO Backpack (...   \n905        VP-11  Star Wars Bundle Pack (Copack of Sets 7101, 71...   \n906        VP-12                  Star Wars Value Pack (7121, 7151)   \n907  yodachron-1  Holocron Chamber - The Yoda Chronicles Promoti...   \n\n      category               sub_category  \\\n0    Star Wars        Star Wars Episode 1   \n1    Star Wars    Star Wars Episode 4/5/6   \n2    Star Wars    Star Wars Episode 4/5/6   \n3    Star Wars        Star Wars Episode 1   \n4    Star Wars        Star Wars Episode 1   \n..         ...                        ...   \n903  Star Wars    Star Wars Episode 4/5/6   \n904  Star Wars            Star Wars Other   \n905  Star Wars        Star Wars Episode 1   \n906  Star Wars        Star Wars Episode 1   \n907  Star Wars  Star Wars Yoda Chronicles   \n\n                                                 image minifigs_included  \\\n0    https://img.bricklink.com/ItemImage/ON/0/7101-...               TBD   \n1    https://img.bricklink.com/ItemImage/ON/0/7104-...               TBD   \n2    https://img.bricklink.com/ItemImage/ON/0/7110-...               TBD   \n3    https://img.bricklink.com/ItemImage/ON/0/7111-...               TBD   \n4    https://img.bricklink.com/ItemImage/ON/0/7115-...               TBD   \n..                                                 ...               ...   \n903  https://img.bricklink.com/ItemImage/ON/0/VP-8.png              None   \n904  https://img.bricklink.com/ItemImage/ON/0/VP-10...              None   \n905  https://img.bricklink.com/ItemImage/ON/0/VP-11...              None   \n906  https://img.bricklink.com/ItemImage/ON/0/VP-12...              None   \n907  https://img.bricklink.com/ItemImage/ON/0/yodac...              None   \n\n    avg_price_raw avg_price_pln avg_price_eur  \\\n0            None          None          None   \n1            None          None          None   \n2            None          None          None   \n3            None          None          None   \n4            None          None          None   \n..            ...           ...           ...   \n903          None          None          None   \n904          None          None          None   \n905          None          None          None   \n906          None          None          None   \n907          None          None          None   \n\n                                             bricklink  release_year  \n0    https://www.bricklink.com/v2/catalog/catalogit...        1999.0  \n1    https://www.bricklink.com/v2/catalog/catalogit...        2000.0  \n2    https://www.bricklink.com/v2/catalog/catalogit...        1999.0  \n3    https://www.bricklink.com/v2/catalog/catalogit...        1999.0  \n4    https://www.bricklink.com/v2/catalog/catalogit...        2000.0  \n..                                                 ...           ...  \n903  https://www.bricklink.com/v2/catalog/catalogit...           NaN  \n904  https://www.bricklink.com/v2/catalog/catalogit...           NaN  \n905  https://www.bricklink.com/v2/catalog/catalogit...           NaN  \n906  https://www.bricklink.com/v2/catalog/catalogit...           NaN  \n907  https://www.bricklink.com/v2/catalog/catalogit...           NaN  \n\n[908 rows x 11 columns]",
      "text/html": "<div>\n<style scoped>\n    .dataframe tbody tr th:only-of-type {\n        vertical-align: middle;\n    }\n\n    .dataframe tbody tr th {\n        vertical-align: top;\n    }\n\n    .dataframe thead th {\n        text-align: right;\n    }\n</style>\n<table border=\"1\" class=\"dataframe\">\n  <thead>\n    <tr style=\"text-align: right;\">\n      <th></th>\n      <th>id</th>\n      <th>name</th>\n      <th>category</th>\n      <th>sub_category</th>\n      <th>image</th>\n      <th>minifigs_included</th>\n      <th>avg_price_raw</th>\n      <th>avg_price_pln</th>\n      <th>avg_price_eur</th>\n      <th>bricklink</th>\n      <th>release_year</th>\n    </tr>\n  </thead>\n  <tbody>\n    <tr>\n      <th>0</th>\n      <td>7101-1</td>\n      <td>Lightsaber Duel</td>\n      <td>Star Wars</td>\n      <td>Star Wars Episode 1</td>\n      <td>https://img.bricklink.com/ItemImage/ON/0/7101-...</td>\n      <td>TBD</td>\n      <td>None</td>\n      <td>None</td>\n      <td>None</td>\n      <td>https://www.bricklink.com/v2/catalog/catalogit...</td>\n      <td>1999.0</td>\n    </tr>\n    <tr>\n      <th>1</th>\n      <td>7104-1</td>\n      <td>Desert Skiff</td>\n      <td>Star Wars</td>\n      <td>Star Wars Episode 4/5/6</td>\n      <td>https://img.bricklink.com/ItemImage/ON/0/7104-...</td>\n      <td>TBD</td>\n      <td>None</td>\n      <td>None</td>\n      <td>None</td>\n      <td>https://www.bricklink.com/v2/catalog/catalogit...</td>\n      <td>2000.0</td>\n    </tr>\n    <tr>\n      <th>2</th>\n      <td>7110-1</td>\n      <td>Landspeeder</td>\n      <td>Star Wars</td>\n      <td>Star Wars Episode 4/5/6</td>\n      <td>https://img.bricklink.com/ItemImage/ON/0/7110-...</td>\n      <td>TBD</td>\n      <td>None</td>\n      <td>None</td>\n      <td>None</td>\n      <td>https://www.bricklink.com/v2/catalog/catalogit...</td>\n      <td>1999.0</td>\n    </tr>\n    <tr>\n      <th>3</th>\n      <td>7111-1</td>\n      <td>Droid Fighter</td>\n      <td>Star Wars</td>\n      <td>Star Wars Episode 1</td>\n      <td>https://img.bricklink.com/ItemImage/ON/0/7111-...</td>\n      <td>TBD</td>\n      <td>None</td>\n      <td>None</td>\n      <td>None</td>\n      <td>https://www.bricklink.com/v2/catalog/catalogit...</td>\n      <td>1999.0</td>\n    </tr>\n    <tr>\n      <th>4</th>\n      <td>7115-1</td>\n      <td>Gungan Patrol</td>\n      <td>Star Wars</td>\n      <td>Star Wars Episode 1</td>\n      <td>https://img.bricklink.com/ItemImage/ON/0/7115-...</td>\n      <td>TBD</td>\n      <td>None</td>\n      <td>None</td>\n      <td>None</td>\n      <td>https://www.bricklink.com/v2/catalog/catalogit...</td>\n      <td>2000.0</td>\n    </tr>\n    <tr>\n      <th>...</th>\n      <td>...</td>\n      <td>...</td>\n      <td>...</td>\n      <td>...</td>\n      <td>...</td>\n      <td>...</td>\n      <td>...</td>\n      <td>...</td>\n      <td>...</td>\n      <td>...</td>\n      <td>...</td>\n    </tr>\n    <tr>\n      <th>903</th>\n      <td>VP-8</td>\n      <td>Star Wars Bundle Pack, Value Pack (Copack of S...</td>\n      <td>Star Wars</td>\n      <td>Star Wars Episode 4/5/6</td>\n      <td>https://img.bricklink.com/ItemImage/ON/0/VP-8.png</td>\n      <td>None</td>\n      <td>None</td>\n      <td>None</td>\n      <td>None</td>\n      <td>https://www.bricklink.com/v2/catalog/catalogit...</td>\n      <td>NaN</td>\n    </tr>\n    <tr>\n      <th>904</th>\n      <td>VP-10</td>\n      <td>Star Wars Value Pack with Free LEGO Backpack (...</td>\n      <td>Star Wars</td>\n      <td>Star Wars Other</td>\n      <td>https://img.bricklink.com/ItemImage/ON/0/VP-10...</td>\n      <td>None</td>\n      <td>None</td>\n      <td>None</td>\n      <td>None</td>\n      <td>https://www.bricklink.com/v2/catalog/catalogit...</td>\n      <td>NaN</td>\n    </tr>\n    <tr>\n      <th>905</th>\n      <td>VP-11</td>\n      <td>Star Wars Bundle Pack (Copack of Sets 7101, 71...</td>\n      <td>Star Wars</td>\n      <td>Star Wars Episode 1</td>\n      <td>https://img.bricklink.com/ItemImage/ON/0/VP-11...</td>\n      <td>None</td>\n      <td>None</td>\n      <td>None</td>\n      <td>None</td>\n      <td>https://www.bricklink.com/v2/catalog/catalogit...</td>\n      <td>NaN</td>\n    </tr>\n    <tr>\n      <th>906</th>\n      <td>VP-12</td>\n      <td>Star Wars Value Pack (7121, 7151)</td>\n      <td>Star Wars</td>\n      <td>Star Wars Episode 1</td>\n      <td>https://img.bricklink.com/ItemImage/ON/0/VP-12...</td>\n      <td>None</td>\n      <td>None</td>\n      <td>None</td>\n      <td>None</td>\n      <td>https://www.bricklink.com/v2/catalog/catalogit...</td>\n      <td>NaN</td>\n    </tr>\n    <tr>\n      <th>907</th>\n      <td>yodachron-1</td>\n      <td>Holocron Chamber - The Yoda Chronicles Promoti...</td>\n      <td>Star Wars</td>\n      <td>Star Wars Yoda Chronicles</td>\n      <td>https://img.bricklink.com/ItemImage/ON/0/yodac...</td>\n      <td>None</td>\n      <td>None</td>\n      <td>None</td>\n      <td>None</td>\n      <td>https://www.bricklink.com/v2/catalog/catalogit...</td>\n      <td>NaN</td>\n    </tr>\n  </tbody>\n</table>\n<p>908 rows × 11 columns</p>\n</div>"
     },
     "execution_count": 16,
     "metadata": {},
     "output_type": "execute_result"
    }
   ],
   "source": [
    "sets_df"
   ],
   "metadata": {
    "collapsed": false,
    "ExecuteTime": {
     "end_time": "2023-09-14T14:38:42.723646Z",
     "start_time": "2023-09-14T14:38:42.619368Z"
    }
   },
   "id": "780f34b1457a4d09"
  },
  {
   "cell_type": "markdown",
   "source": [
    "# Read notion_mapping"
   ],
   "metadata": {
    "collapsed": false
   },
   "id": "7a01a9c6cb1d9d69"
  },
  {
   "cell_type": "code",
   "execution_count": 47,
   "outputs": [],
   "source": [
    "conn = sqlite3.connect('data/lego.db')\n",
    "df_notion = pd.read_sql_query(\n",
    "    \"SELECT * FROM notion_mapping WHERE account_name = 'JO'\",\n",
    "    # and (bl_id like 'sw%' or bl_id like 'sh%' or bl_id like 'avt%' or bl_id like 'hfw%' or bl_id like 'col%')\",\n",
    "    conn)"
   ],
   "metadata": {
    "collapsed": false,
    "ExecuteTime": {
     "end_time": "2023-09-18T15:01:58.015448Z",
     "start_time": "2023-09-18T15:01:57.911779Z"
    }
   },
   "id": "cec0cbd1a034b2d7"
  },
  {
   "cell_type": "code",
   "execution_count": 48,
   "outputs": [
    {
     "data": {
      "text/plain": "                                   page_id    bl_id account_name\n0     ee223296-a8a4-4f73-87f1-162959b257d0  76989-1           JO\n1     b597136d-fb54-409b-91a5-465f1715f909  75579-1           JO\n2     d10346c1-e9d2-4e13-8b2f-d67bddf75f2e  75578-1           JO\n3     469f96b0-9054-4c4b-826d-34241bfd3e3c  75577-1           JO\n4     8e54c728-005c-48a9-b4b5-b07553b59990  75576-1           JO\n...                                    ...      ...          ...\n3170  3156cbcb-2075-4553-9506-fb1df1a1f0cb   avt025           JO\n3171  5b34994f-ef70-42d9-a91c-779faf66e595   avt026           JO\n3172  9a35f79b-7c09-47d4-8d8e-b6e45ed2d0a6   avt027           JO\n3173  9cffc595-cc42-427d-a9d9-a6f965478be3   hfw001           JO\n3174  3795de29-bb69-4ad2-962f-866407f4b7a2   hfw002           JO\n\n[3175 rows x 3 columns]",
      "text/html": "<div>\n<style scoped>\n    .dataframe tbody tr th:only-of-type {\n        vertical-align: middle;\n    }\n\n    .dataframe tbody tr th {\n        vertical-align: top;\n    }\n\n    .dataframe thead th {\n        text-align: right;\n    }\n</style>\n<table border=\"1\" class=\"dataframe\">\n  <thead>\n    <tr style=\"text-align: right;\">\n      <th></th>\n      <th>page_id</th>\n      <th>bl_id</th>\n      <th>account_name</th>\n    </tr>\n  </thead>\n  <tbody>\n    <tr>\n      <th>0</th>\n      <td>ee223296-a8a4-4f73-87f1-162959b257d0</td>\n      <td>76989-1</td>\n      <td>JO</td>\n    </tr>\n    <tr>\n      <th>1</th>\n      <td>b597136d-fb54-409b-91a5-465f1715f909</td>\n      <td>75579-1</td>\n      <td>JO</td>\n    </tr>\n    <tr>\n      <th>2</th>\n      <td>d10346c1-e9d2-4e13-8b2f-d67bddf75f2e</td>\n      <td>75578-1</td>\n      <td>JO</td>\n    </tr>\n    <tr>\n      <th>3</th>\n      <td>469f96b0-9054-4c4b-826d-34241bfd3e3c</td>\n      <td>75577-1</td>\n      <td>JO</td>\n    </tr>\n    <tr>\n      <th>4</th>\n      <td>8e54c728-005c-48a9-b4b5-b07553b59990</td>\n      <td>75576-1</td>\n      <td>JO</td>\n    </tr>\n    <tr>\n      <th>...</th>\n      <td>...</td>\n      <td>...</td>\n      <td>...</td>\n    </tr>\n    <tr>\n      <th>3170</th>\n      <td>3156cbcb-2075-4553-9506-fb1df1a1f0cb</td>\n      <td>avt025</td>\n      <td>JO</td>\n    </tr>\n    <tr>\n      <th>3171</th>\n      <td>5b34994f-ef70-42d9-a91c-779faf66e595</td>\n      <td>avt026</td>\n      <td>JO</td>\n    </tr>\n    <tr>\n      <th>3172</th>\n      <td>9a35f79b-7c09-47d4-8d8e-b6e45ed2d0a6</td>\n      <td>avt027</td>\n      <td>JO</td>\n    </tr>\n    <tr>\n      <th>3173</th>\n      <td>9cffc595-cc42-427d-a9d9-a6f965478be3</td>\n      <td>hfw001</td>\n      <td>JO</td>\n    </tr>\n    <tr>\n      <th>3174</th>\n      <td>3795de29-bb69-4ad2-962f-866407f4b7a2</td>\n      <td>hfw002</td>\n      <td>JO</td>\n    </tr>\n  </tbody>\n</table>\n<p>3175 rows × 3 columns</p>\n</div>"
     },
     "execution_count": 48,
     "metadata": {},
     "output_type": "execute_result"
    }
   ],
   "source": [
    "df_notion"
   ],
   "metadata": {
    "collapsed": false,
    "ExecuteTime": {
     "end_time": "2023-09-18T15:01:58.139777Z",
     "start_time": "2023-09-18T15:01:58.129096Z"
    }
   },
   "id": "9f4cd73aaff9a31"
  },
  {
   "cell_type": "code",
   "execution_count": 42,
   "outputs": [
    {
     "data": {
      "text/plain": "                                  page_id    bl_id account_name\n267  d7e8d2e0-7b4b-476c-ba72-761f052c4d2d  76125-1           JO",
      "text/html": "<div>\n<style scoped>\n    .dataframe tbody tr th:only-of-type {\n        vertical-align: middle;\n    }\n\n    .dataframe tbody tr th {\n        vertical-align: top;\n    }\n\n    .dataframe thead th {\n        text-align: right;\n    }\n</style>\n<table border=\"1\" class=\"dataframe\">\n  <thead>\n    <tr style=\"text-align: right;\">\n      <th></th>\n      <th>page_id</th>\n      <th>bl_id</th>\n      <th>account_name</th>\n    </tr>\n  </thead>\n  <tbody>\n    <tr>\n      <th>267</th>\n      <td>d7e8d2e0-7b4b-476c-ba72-761f052c4d2d</td>\n      <td>76125-1</td>\n      <td>JO</td>\n    </tr>\n  </tbody>\n</table>\n</div>"
     },
     "execution_count": 42,
     "metadata": {},
     "output_type": "execute_result"
    }
   ],
   "source": [
    "df_notion[df_notion[\"bl_id\"] == \"76125-1\"]"
   ],
   "metadata": {
    "collapsed": false,
    "ExecuteTime": {
     "end_time": "2023-09-18T14:02:25.136173Z",
     "start_time": "2023-09-18T14:02:24.952883Z"
    }
   },
   "id": "282c722db5b1068b"
  },
  {
   "cell_type": "code",
   "execution_count": 49,
   "outputs": [
    {
     "data": {
      "text/plain": "Empty DataFrame\nColumns: [page_id, bl_id, account_name]\nIndex: []",
      "text/html": "<div>\n<style scoped>\n    .dataframe tbody tr th:only-of-type {\n        vertical-align: middle;\n    }\n\n    .dataframe tbody tr th {\n        vertical-align: top;\n    }\n\n    .dataframe thead th {\n        text-align: right;\n    }\n</style>\n<table border=\"1\" class=\"dataframe\">\n  <thead>\n    <tr style=\"text-align: right;\">\n      <th></th>\n      <th>page_id</th>\n      <th>bl_id</th>\n      <th>account_name</th>\n    </tr>\n  </thead>\n  <tbody>\n  </tbody>\n</table>\n</div>"
     },
     "execution_count": 49,
     "metadata": {},
     "output_type": "execute_result"
    }
   ],
   "source": [
    "# Check for duplicates\n",
    "ids = df_notion[\"bl_id\"]\n",
    "df_notion[ids.isin(ids[ids.duplicated()])].sort_values(\"bl_id\")"
   ],
   "metadata": {
    "collapsed": false,
    "ExecuteTime": {
     "end_time": "2023-09-18T15:02:38.008076Z",
     "start_time": "2023-09-18T15:02:37.900603Z"
    }
   },
   "id": "fa5a8498ec0d0a00"
  },
  {
   "cell_type": "code",
   "execution_count": 24,
   "outputs": [
    {
     "data": {
      "text/plain": "                                   page_id    bl_id account_name\n2413  11a125be-3e69-4691-a0ce-12a2643614f6  sw0106a           JO\n2458  baeab2eb-5a23-4e4c-a446-4b72a95c4938  sw0106a           JO\n2412  22fb9dae-62ea-42df-b1e2-9c282791c9d7   sw0112           JO\n2457  9c0d7ca7-24d7-484a-8e88-2d0dacc99eb8   sw0112           JO\n2411  c2cf815a-d4ec-44fa-b6ba-255aba64ecd3   sw0166           JO\n2459  67911005-45b0-45f9-8978-5aaf387dc9a7   sw0166           JO\n2410  0c5138c7-3bb4-4d4f-a63a-50b9577fa4ed   sw0202           JO\n2455  5291ba42-5b6f-4c37-a14d-3390fe87a12f   sw0202           JO\n2409  1ceabb7e-7907-4092-a199-caf52e1b0799   sw0216           JO\n2454  cb5cc506-c9a6-4e0e-b21b-61d9512431c7   sw0216           JO\n2408  f2a490a4-2596-4956-a84d-86a3e2f941eb   sw0388           JO\n2452  4d2d0e5b-0c42-4941-a796-7860f24a373f   sw0388           JO\n2407  7cc1c01a-ceff-4e39-a322-7a74d352f9f0   sw0997           JO\n2451  27a4da31-6c1e-4068-a5e9-e4a20c025c46   sw0997           JO\n2406  427142e4-abbb-43eb-b076-a0c94e415f62   sw1254           JO\n2450  50a98d2a-37a1-4a34-821d-30f6eb9ed04f   sw1254           JO\n2405  419724dc-a841-470b-8d28-d21f8a5ccfdb   sw1289           JO\n2447  e6c4588e-14bc-47fb-acc2-b1720910fb33   sw1289           JO\n2404  a894f336-3d01-4c2a-91a6-bbd77c23259a   sw1290           JO\n2446  fcd183a8-49e3-45a9-bc34-87204598523f   sw1290           JO\n2403  cf2182a3-1e76-4099-b499-73e4e6bbd4b8   sw1291           JO\n2449  b3c0bbaf-76c7-4412-b075-6713c7f7b996   sw1291           JO\n2402  6f2a094a-b34b-4bb1-8897-51a9d32c90cf   sw1292           JO\n2445  dbb875ad-6f81-4e89-bcd5-ba753fedc4d8   sw1292           JO\n2401  f9777004-6e72-4af9-8c27-2b7d6bfd586d   sw1293           JO\n2453  0eb478ed-1598-4c4a-a291-57fc6d098041   sw1293           JO",
      "text/html": "<div>\n<style scoped>\n    .dataframe tbody tr th:only-of-type {\n        vertical-align: middle;\n    }\n\n    .dataframe tbody tr th {\n        vertical-align: top;\n    }\n\n    .dataframe thead th {\n        text-align: right;\n    }\n</style>\n<table border=\"1\" class=\"dataframe\">\n  <thead>\n    <tr style=\"text-align: right;\">\n      <th></th>\n      <th>page_id</th>\n      <th>bl_id</th>\n      <th>account_name</th>\n    </tr>\n  </thead>\n  <tbody>\n    <tr>\n      <th>2413</th>\n      <td>11a125be-3e69-4691-a0ce-12a2643614f6</td>\n      <td>sw0106a</td>\n      <td>JO</td>\n    </tr>\n    <tr>\n      <th>2458</th>\n      <td>baeab2eb-5a23-4e4c-a446-4b72a95c4938</td>\n      <td>sw0106a</td>\n      <td>JO</td>\n    </tr>\n    <tr>\n      <th>2412</th>\n      <td>22fb9dae-62ea-42df-b1e2-9c282791c9d7</td>\n      <td>sw0112</td>\n      <td>JO</td>\n    </tr>\n    <tr>\n      <th>2457</th>\n      <td>9c0d7ca7-24d7-484a-8e88-2d0dacc99eb8</td>\n      <td>sw0112</td>\n      <td>JO</td>\n    </tr>\n    <tr>\n      <th>2411</th>\n      <td>c2cf815a-d4ec-44fa-b6ba-255aba64ecd3</td>\n      <td>sw0166</td>\n      <td>JO</td>\n    </tr>\n    <tr>\n      <th>2459</th>\n      <td>67911005-45b0-45f9-8978-5aaf387dc9a7</td>\n      <td>sw0166</td>\n      <td>JO</td>\n    </tr>\n    <tr>\n      <th>2410</th>\n      <td>0c5138c7-3bb4-4d4f-a63a-50b9577fa4ed</td>\n      <td>sw0202</td>\n      <td>JO</td>\n    </tr>\n    <tr>\n      <th>2455</th>\n      <td>5291ba42-5b6f-4c37-a14d-3390fe87a12f</td>\n      <td>sw0202</td>\n      <td>JO</td>\n    </tr>\n    <tr>\n      <th>2409</th>\n      <td>1ceabb7e-7907-4092-a199-caf52e1b0799</td>\n      <td>sw0216</td>\n      <td>JO</td>\n    </tr>\n    <tr>\n      <th>2454</th>\n      <td>cb5cc506-c9a6-4e0e-b21b-61d9512431c7</td>\n      <td>sw0216</td>\n      <td>JO</td>\n    </tr>\n    <tr>\n      <th>2408</th>\n      <td>f2a490a4-2596-4956-a84d-86a3e2f941eb</td>\n      <td>sw0388</td>\n      <td>JO</td>\n    </tr>\n    <tr>\n      <th>2452</th>\n      <td>4d2d0e5b-0c42-4941-a796-7860f24a373f</td>\n      <td>sw0388</td>\n      <td>JO</td>\n    </tr>\n    <tr>\n      <th>2407</th>\n      <td>7cc1c01a-ceff-4e39-a322-7a74d352f9f0</td>\n      <td>sw0997</td>\n      <td>JO</td>\n    </tr>\n    <tr>\n      <th>2451</th>\n      <td>27a4da31-6c1e-4068-a5e9-e4a20c025c46</td>\n      <td>sw0997</td>\n      <td>JO</td>\n    </tr>\n    <tr>\n      <th>2406</th>\n      <td>427142e4-abbb-43eb-b076-a0c94e415f62</td>\n      <td>sw1254</td>\n      <td>JO</td>\n    </tr>\n    <tr>\n      <th>2450</th>\n      <td>50a98d2a-37a1-4a34-821d-30f6eb9ed04f</td>\n      <td>sw1254</td>\n      <td>JO</td>\n    </tr>\n    <tr>\n      <th>2405</th>\n      <td>419724dc-a841-470b-8d28-d21f8a5ccfdb</td>\n      <td>sw1289</td>\n      <td>JO</td>\n    </tr>\n    <tr>\n      <th>2447</th>\n      <td>e6c4588e-14bc-47fb-acc2-b1720910fb33</td>\n      <td>sw1289</td>\n      <td>JO</td>\n    </tr>\n    <tr>\n      <th>2404</th>\n      <td>a894f336-3d01-4c2a-91a6-bbd77c23259a</td>\n      <td>sw1290</td>\n      <td>JO</td>\n    </tr>\n    <tr>\n      <th>2446</th>\n      <td>fcd183a8-49e3-45a9-bc34-87204598523f</td>\n      <td>sw1290</td>\n      <td>JO</td>\n    </tr>\n    <tr>\n      <th>2403</th>\n      <td>cf2182a3-1e76-4099-b499-73e4e6bbd4b8</td>\n      <td>sw1291</td>\n      <td>JO</td>\n    </tr>\n    <tr>\n      <th>2449</th>\n      <td>b3c0bbaf-76c7-4412-b075-6713c7f7b996</td>\n      <td>sw1291</td>\n      <td>JO</td>\n    </tr>\n    <tr>\n      <th>2402</th>\n      <td>6f2a094a-b34b-4bb1-8897-51a9d32c90cf</td>\n      <td>sw1292</td>\n      <td>JO</td>\n    </tr>\n    <tr>\n      <th>2445</th>\n      <td>dbb875ad-6f81-4e89-bcd5-ba753fedc4d8</td>\n      <td>sw1292</td>\n      <td>JO</td>\n    </tr>\n    <tr>\n      <th>2401</th>\n      <td>f9777004-6e72-4af9-8c27-2b7d6bfd586d</td>\n      <td>sw1293</td>\n      <td>JO</td>\n    </tr>\n    <tr>\n      <th>2453</th>\n      <td>0eb478ed-1598-4c4a-a291-57fc6d098041</td>\n      <td>sw1293</td>\n      <td>JO</td>\n    </tr>\n  </tbody>\n</table>\n</div>"
     },
     "execution_count": 24,
     "metadata": {},
     "output_type": "execute_result"
    }
   ],
   "source": [
    "pd.concat(g for _, g in df_notion.groupby(\"bl_id\") if len(g) > 1)"
   ],
   "metadata": {
    "collapsed": false,
    "ExecuteTime": {
     "end_time": "2023-09-18T13:04:52.505849Z",
     "start_time": "2023-09-18T13:04:52.325088Z"
    }
   },
   "id": "c9da21090add195e"
  },
  {
   "cell_type": "code",
   "execution_count": null,
   "outputs": [],
   "source": [],
   "metadata": {
    "collapsed": false
   },
   "id": "7f5fd43c2a586db5"
  }
 ],
 "metadata": {
  "kernelspec": {
   "display_name": "Python 3",
   "language": "python",
   "name": "python3"
  },
  "language_info": {
   "codemirror_mode": {
    "name": "ipython",
    "version": 2
   },
   "file_extension": ".py",
   "mimetype": "text/x-python",
   "name": "python",
   "nbconvert_exporter": "python",
   "pygments_lexer": "ipython2",
   "version": "2.7.6"
  }
 },
 "nbformat": 4,
 "nbformat_minor": 5
}
