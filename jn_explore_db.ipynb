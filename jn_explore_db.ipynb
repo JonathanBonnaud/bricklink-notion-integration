{
 "cells": [
  {
   "cell_type": "code",
   "execution_count": 1,
   "id": "initial_id",
   "metadata": {
    "collapsed": true,
    "ExecuteTime": {
     "end_time": "2023-09-15T12:50:59.483874Z",
     "start_time": "2023-09-15T12:50:58.867591Z"
    }
   },
   "outputs": [],
   "source": [
    "import sqlite3\n",
    "\n",
    "import pandas as pd"
   ]
  },
  {
   "cell_type": "markdown",
   "source": [
    "# Read minifigs"
   ],
   "metadata": {
    "collapsed": false
   },
   "id": "4e126c80ada27fac"
  },
  {
   "cell_type": "code",
   "execution_count": 39,
   "outputs": [],
   "source": [
    "conn = sqlite3.connect('data/lego.db')\n",
    "df = pd.read_sql_query(\"SELECT * FROM minifigs WHERE category = 'Super Heroes'\", conn)\n",
    "# df = pd.read_sql_query(\"SELECT * FROM minifigs\", conn)"
   ],
   "metadata": {
    "collapsed": false,
    "ExecuteTime": {
     "end_time": "2023-09-15T16:17:05.697392Z",
     "start_time": "2023-09-15T16:17:05.549081Z"
    }
   },
   "id": "3b1a7c8a60eb4a4b"
  },
  {
   "cell_type": "code",
   "execution_count": 40,
   "outputs": [
    {
     "name": "stdout",
     "output_type": "stream",
     "text": [
      "<class 'pandas.core.frame.DataFrame'>\n",
      "RangeIndex: 926 entries, 0 to 925\n",
      "Data columns (total 11 columns):\n",
      " #   Column         Non-Null Count  Dtype  \n",
      "---  ------         --------------  -----  \n",
      " 0   id             926 non-null    object \n",
      " 1   name           926 non-null    object \n",
      " 2   category       926 non-null    object \n",
      " 3   sub_category   920 non-null    object \n",
      " 4   image          926 non-null    object \n",
      " 5   appears_in     257 non-null    object \n",
      " 6   avg_price_raw  36 non-null     object \n",
      " 7   avg_price_pln  30 non-null     float64\n",
      " 8   avg_price_eur  30 non-null     float64\n",
      " 9   bricklink      926 non-null    object \n",
      " 10  release_year   918 non-null    float64\n",
      "dtypes: float64(3), object(8)\n",
      "memory usage: 79.7+ KB\n"
     ]
    }
   ],
   "source": [
    "df.info()"
   ],
   "metadata": {
    "collapsed": false,
    "ExecuteTime": {
     "end_time": "2023-09-15T16:17:05.908606Z",
     "start_time": "2023-09-15T16:17:05.852452Z"
    }
   },
   "id": "9550c132d56a0a6c"
  },
  {
   "cell_type": "code",
   "execution_count": 31,
   "outputs": [
    {
     "name": "stdout",
     "output_type": "stream",
     "text": [
      "(0, 11)\n",
      "(0, 11)\n",
      "(69, 11)\n",
      "Not null: (1297, 11)\n"
     ]
    }
   ],
   "source": [
    "column_name = \"appears_in\"\n",
    "print(df[df[column_name] == \"None\"].shape)\n",
    "print(df[df[column_name] == \"\"].shape)\n",
    "print(df[df[column_name].isnull()].shape)\n",
    "print(f\"Not null: {df[~df[column_name].isnull()].shape}\")"
   ],
   "metadata": {
    "collapsed": false,
    "ExecuteTime": {
     "end_time": "2023-09-15T15:44:41.308079Z",
     "start_time": "2023-09-15T15:44:41.177870Z"
    }
   },
   "id": "4f4d833887ac1244"
  },
  {
   "cell_type": "code",
   "execution_count": 12,
   "outputs": [
    {
     "data": {
      "text/plain": "          id                                               name      category  \\\n0     sw0002                          Boba Fett - Classic Grays     Star Wars   \n1     sw0003                                         Darth Maul     Star Wars   \n2     sw0004                      Darth Vader (Light Gray Head)     Star Wars   \n3     sw0005  Imperial Scout Trooper - Yellow Head, Dark Gra...     Star Wars   \n4     sw0006                                        Aldar Beedo     Star Wars   \n...      ...                                                ...           ...   \n3069   sh497               Iron Man Mark 50 Armor, Neck Bracket  Super Heroes   \n3070   sh585  Nick Fury - Gray Sweater and Black Trench Coat...  Super Heroes   \n3071   sh905                     Spider-Man - Christmas Sweater  Super Heroes   \n3072   sh614                Spider-Man Noir (Undetermined Type)  Super Heroes   \n3073   sh903  The Joker - Medium Lavender Suit, Dark Green V...  Super Heroes   \n\n                  sub_category  \\\n0      Star Wars Episode 4/5/6   \n1          Star Wars Episode 1   \n2      Star Wars Episode 4/5/6   \n3      Star Wars Episode 4/5/6   \n4          Star Wars Episode 1   \n...                        ...   \n3069     Avengers Infinity War   \n3070  Spider-Man Far From Home   \n3071                  Avengers   \n3072                Spider-Man   \n3073                 Batman II   \n\n                                                  image appears_in  \\\n0     https://img.bricklink.com/ItemImage/MN/0/sw000...       None   \n1     https://img.bricklink.com/ItemImage/MN/0/sw000...       None   \n2     https://img.bricklink.com/ItemImage/MN/0/sw000...       None   \n3     https://img.bricklink.com/ItemImage/MN/0/sw000...       None   \n4     https://img.bricklink.com/ItemImage/MN/0/sw000...       None   \n...                                                 ...        ...   \n3069  https://img.bricklink.com/ItemImage/MN/0/sh497...       None   \n3070  https://img.bricklink.com/ItemImage/MN/0/sh585...       None   \n3071  https://img.bricklink.com/ItemImage/MN/0/sh905...       None   \n3072  https://img.bricklink.com/ItemImage/MN/0/sh614...       None   \n3073  https://img.bricklink.com/ItemImage/MN/0/sh903...       None   \n\n     avg_price_raw  avg_price_pln  avg_price_eur  \\\n0             None            NaN            NaN   \n1             None            NaN            NaN   \n2             None            NaN            NaN   \n3             None            NaN            NaN   \n4             None            NaN            NaN   \n...            ...            ...            ...   \n3069          None            NaN            NaN   \n3070          None            NaN            NaN   \n3071          None            NaN            NaN   \n3072          None            NaN            NaN   \n3073          None            NaN            NaN   \n\n                                              bricklink  release_year  \n0     https://www.bricklink.com/v2/catalog/catalogit...        2000.0  \n1     https://www.bricklink.com/v2/catalog/catalogit...        1999.0  \n2     https://www.bricklink.com/v2/catalog/catalogit...        1999.0  \n3     https://www.bricklink.com/v2/catalog/catalogit...        1999.0  \n4     https://www.bricklink.com/v2/catalog/catalogit...        2000.0  \n...                                                 ...           ...  \n3069  https://www.bricklink.com/v2/catalog/catalogit...           NaN  \n3070  https://www.bricklink.com/v2/catalog/catalogit...           NaN  \n3071  https://www.bricklink.com/v2/catalog/catalogit...           NaN  \n3072  https://www.bricklink.com/v2/catalog/catalogit...           NaN  \n3073  https://www.bricklink.com/v2/catalog/catalogit...           NaN  \n\n[3074 rows x 11 columns]",
      "text/html": "<div>\n<style scoped>\n    .dataframe tbody tr th:only-of-type {\n        vertical-align: middle;\n    }\n\n    .dataframe tbody tr th {\n        vertical-align: top;\n    }\n\n    .dataframe thead th {\n        text-align: right;\n    }\n</style>\n<table border=\"1\" class=\"dataframe\">\n  <thead>\n    <tr style=\"text-align: right;\">\n      <th></th>\n      <th>id</th>\n      <th>name</th>\n      <th>category</th>\n      <th>sub_category</th>\n      <th>image</th>\n      <th>appears_in</th>\n      <th>avg_price_raw</th>\n      <th>avg_price_pln</th>\n      <th>avg_price_eur</th>\n      <th>bricklink</th>\n      <th>release_year</th>\n    </tr>\n  </thead>\n  <tbody>\n    <tr>\n      <th>0</th>\n      <td>sw0002</td>\n      <td>Boba Fett - Classic Grays</td>\n      <td>Star Wars</td>\n      <td>Star Wars Episode 4/5/6</td>\n      <td>https://img.bricklink.com/ItemImage/MN/0/sw000...</td>\n      <td>None</td>\n      <td>None</td>\n      <td>NaN</td>\n      <td>NaN</td>\n      <td>https://www.bricklink.com/v2/catalog/catalogit...</td>\n      <td>2000.0</td>\n    </tr>\n    <tr>\n      <th>1</th>\n      <td>sw0003</td>\n      <td>Darth Maul</td>\n      <td>Star Wars</td>\n      <td>Star Wars Episode 1</td>\n      <td>https://img.bricklink.com/ItemImage/MN/0/sw000...</td>\n      <td>None</td>\n      <td>None</td>\n      <td>NaN</td>\n      <td>NaN</td>\n      <td>https://www.bricklink.com/v2/catalog/catalogit...</td>\n      <td>1999.0</td>\n    </tr>\n    <tr>\n      <th>2</th>\n      <td>sw0004</td>\n      <td>Darth Vader (Light Gray Head)</td>\n      <td>Star Wars</td>\n      <td>Star Wars Episode 4/5/6</td>\n      <td>https://img.bricklink.com/ItemImage/MN/0/sw000...</td>\n      <td>None</td>\n      <td>None</td>\n      <td>NaN</td>\n      <td>NaN</td>\n      <td>https://www.bricklink.com/v2/catalog/catalogit...</td>\n      <td>1999.0</td>\n    </tr>\n    <tr>\n      <th>3</th>\n      <td>sw0005</td>\n      <td>Imperial Scout Trooper - Yellow Head, Dark Gra...</td>\n      <td>Star Wars</td>\n      <td>Star Wars Episode 4/5/6</td>\n      <td>https://img.bricklink.com/ItemImage/MN/0/sw000...</td>\n      <td>None</td>\n      <td>None</td>\n      <td>NaN</td>\n      <td>NaN</td>\n      <td>https://www.bricklink.com/v2/catalog/catalogit...</td>\n      <td>1999.0</td>\n    </tr>\n    <tr>\n      <th>4</th>\n      <td>sw0006</td>\n      <td>Aldar Beedo</td>\n      <td>Star Wars</td>\n      <td>Star Wars Episode 1</td>\n      <td>https://img.bricklink.com/ItemImage/MN/0/sw000...</td>\n      <td>None</td>\n      <td>None</td>\n      <td>NaN</td>\n      <td>NaN</td>\n      <td>https://www.bricklink.com/v2/catalog/catalogit...</td>\n      <td>2000.0</td>\n    </tr>\n    <tr>\n      <th>...</th>\n      <td>...</td>\n      <td>...</td>\n      <td>...</td>\n      <td>...</td>\n      <td>...</td>\n      <td>...</td>\n      <td>...</td>\n      <td>...</td>\n      <td>...</td>\n      <td>...</td>\n      <td>...</td>\n    </tr>\n    <tr>\n      <th>3069</th>\n      <td>sh497</td>\n      <td>Iron Man Mark 50 Armor, Neck Bracket</td>\n      <td>Super Heroes</td>\n      <td>Avengers Infinity War</td>\n      <td>https://img.bricklink.com/ItemImage/MN/0/sh497...</td>\n      <td>None</td>\n      <td>None</td>\n      <td>NaN</td>\n      <td>NaN</td>\n      <td>https://www.bricklink.com/v2/catalog/catalogit...</td>\n      <td>NaN</td>\n    </tr>\n    <tr>\n      <th>3070</th>\n      <td>sh585</td>\n      <td>Nick Fury - Gray Sweater and Black Trench Coat...</td>\n      <td>Super Heroes</td>\n      <td>Spider-Man Far From Home</td>\n      <td>https://img.bricklink.com/ItemImage/MN/0/sh585...</td>\n      <td>None</td>\n      <td>None</td>\n      <td>NaN</td>\n      <td>NaN</td>\n      <td>https://www.bricklink.com/v2/catalog/catalogit...</td>\n      <td>NaN</td>\n    </tr>\n    <tr>\n      <th>3071</th>\n      <td>sh905</td>\n      <td>Spider-Man - Christmas Sweater</td>\n      <td>Super Heroes</td>\n      <td>Avengers</td>\n      <td>https://img.bricklink.com/ItemImage/MN/0/sh905...</td>\n      <td>None</td>\n      <td>None</td>\n      <td>NaN</td>\n      <td>NaN</td>\n      <td>https://www.bricklink.com/v2/catalog/catalogit...</td>\n      <td>NaN</td>\n    </tr>\n    <tr>\n      <th>3072</th>\n      <td>sh614</td>\n      <td>Spider-Man Noir (Undetermined Type)</td>\n      <td>Super Heroes</td>\n      <td>Spider-Man</td>\n      <td>https://img.bricklink.com/ItemImage/MN/0/sh614...</td>\n      <td>None</td>\n      <td>None</td>\n      <td>NaN</td>\n      <td>NaN</td>\n      <td>https://www.bricklink.com/v2/catalog/catalogit...</td>\n      <td>NaN</td>\n    </tr>\n    <tr>\n      <th>3073</th>\n      <td>sh903</td>\n      <td>The Joker - Medium Lavender Suit, Dark Green V...</td>\n      <td>Super Heroes</td>\n      <td>Batman II</td>\n      <td>https://img.bricklink.com/ItemImage/MN/0/sh903...</td>\n      <td>None</td>\n      <td>None</td>\n      <td>NaN</td>\n      <td>NaN</td>\n      <td>https://www.bricklink.com/v2/catalog/catalogit...</td>\n      <td>NaN</td>\n    </tr>\n  </tbody>\n</table>\n<p>3074 rows × 11 columns</p>\n</div>"
     },
     "execution_count": 12,
     "metadata": {},
     "output_type": "execute_result"
    }
   ],
   "source": [
    "df"
   ],
   "metadata": {
    "collapsed": false,
    "ExecuteTime": {
     "end_time": "2023-09-14T14:32:20.822195Z",
     "start_time": "2023-09-14T14:32:20.735403Z"
    }
   },
   "id": "d888bb8d720f1f1e"
  },
  {
   "cell_type": "code",
   "execution_count": 38,
   "outputs": [
    {
     "data": {
      "text/plain": "          id        name   category               sub_category  \\\n1219  sw1172  Paz Vizsla  Star Wars  Star Wars The Mandalorian   \n\n                                                  image appears_in  \\\n1219  https://img.bricklink.com/ItemImage/MN/0/sw117...      75318   \n\n     avg_price_raw  avg_price_pln  avg_price_eur  \\\n1219     EUR 38.52         172.92          38.52   \n\n                                              bricklink  release_year  \n1219  https://www.bricklink.com/v2/catalog/catalogit...        2021.0  ",
      "text/html": "<div>\n<style scoped>\n    .dataframe tbody tr th:only-of-type {\n        vertical-align: middle;\n    }\n\n    .dataframe tbody tr th {\n        vertical-align: top;\n    }\n\n    .dataframe thead th {\n        text-align: right;\n    }\n</style>\n<table border=\"1\" class=\"dataframe\">\n  <thead>\n    <tr style=\"text-align: right;\">\n      <th></th>\n      <th>id</th>\n      <th>name</th>\n      <th>category</th>\n      <th>sub_category</th>\n      <th>image</th>\n      <th>appears_in</th>\n      <th>avg_price_raw</th>\n      <th>avg_price_pln</th>\n      <th>avg_price_eur</th>\n      <th>bricklink</th>\n      <th>release_year</th>\n    </tr>\n  </thead>\n  <tbody>\n    <tr>\n      <th>1219</th>\n      <td>sw1172</td>\n      <td>Paz Vizsla</td>\n      <td>Star Wars</td>\n      <td>Star Wars The Mandalorian</td>\n      <td>https://img.bricklink.com/ItemImage/MN/0/sw117...</td>\n      <td>75318</td>\n      <td>EUR 38.52</td>\n      <td>172.92</td>\n      <td>38.52</td>\n      <td>https://www.bricklink.com/v2/catalog/catalogit...</td>\n      <td>2021.0</td>\n    </tr>\n  </tbody>\n</table>\n</div>"
     },
     "execution_count": 38,
     "metadata": {},
     "output_type": "execute_result"
    }
   ],
   "source": [
    "df[df[\"id\"] == \"sw1172\"]"
   ],
   "metadata": {
    "collapsed": false,
    "ExecuteTime": {
     "end_time": "2023-09-15T15:59:00.376094Z",
     "start_time": "2023-09-15T15:59:00.134302Z"
    }
   },
   "id": "6af773e647d8928d"
  },
  {
   "cell_type": "code",
   "execution_count": 41,
   "outputs": [
    {
     "data": {
      "text/plain": "        id        name      category                   sub_category  \\\n858  sh841  King Namor  Super Heroes  Black Panther Wakanda Forever   \n\n                                                 image       appears_in  \\\n858  https://img.bricklink.com/ItemImage/MN/0/sh841...  76214-1,76213-1   \n\n    avg_price_raw  avg_price_pln  avg_price_eur  \\\n858          None            NaN            NaN   \n\n                                             bricklink  release_year  \n858  https://www.bricklink.com/v2/catalog/catalogit...        2022.0  ",
      "text/html": "<div>\n<style scoped>\n    .dataframe tbody tr th:only-of-type {\n        vertical-align: middle;\n    }\n\n    .dataframe tbody tr th {\n        vertical-align: top;\n    }\n\n    .dataframe thead th {\n        text-align: right;\n    }\n</style>\n<table border=\"1\" class=\"dataframe\">\n  <thead>\n    <tr style=\"text-align: right;\">\n      <th></th>\n      <th>id</th>\n      <th>name</th>\n      <th>category</th>\n      <th>sub_category</th>\n      <th>image</th>\n      <th>appears_in</th>\n      <th>avg_price_raw</th>\n      <th>avg_price_pln</th>\n      <th>avg_price_eur</th>\n      <th>bricklink</th>\n      <th>release_year</th>\n    </tr>\n  </thead>\n  <tbody>\n    <tr>\n      <th>858</th>\n      <td>sh841</td>\n      <td>King Namor</td>\n      <td>Super Heroes</td>\n      <td>Black Panther Wakanda Forever</td>\n      <td>https://img.bricklink.com/ItemImage/MN/0/sh841...</td>\n      <td>76214-1,76213-1</td>\n      <td>None</td>\n      <td>NaN</td>\n      <td>NaN</td>\n      <td>https://www.bricklink.com/v2/catalog/catalogit...</td>\n      <td>2022.0</td>\n    </tr>\n  </tbody>\n</table>\n</div>"
     },
     "execution_count": 41,
     "metadata": {},
     "output_type": "execute_result"
    }
   ],
   "source": [
    "df[df[\"id\"] == \"sh841\"]"
   ],
   "metadata": {
    "collapsed": false,
    "ExecuteTime": {
     "end_time": "2023-09-15T16:17:22.332731Z",
     "start_time": "2023-09-15T16:17:22.174506Z"
    }
   },
   "id": "79b3b96a53e97852"
  },
  {
   "cell_type": "markdown",
   "source": [
    "# Read sets"
   ],
   "metadata": {
    "collapsed": false
   },
   "id": "7a9556fe39d7f9c4"
  },
  {
   "cell_type": "code",
   "execution_count": 13,
   "outputs": [],
   "source": [
    "conn = sqlite3.connect('data/lego.db')\n",
    "sets_df = pd.read_sql_query(\"SELECT * FROM sets WHERE category = 'Star Wars'\", conn)"
   ],
   "metadata": {
    "collapsed": false,
    "ExecuteTime": {
     "end_time": "2023-09-14T14:37:32.729973Z",
     "start_time": "2023-09-14T14:37:32.607553Z"
    }
   },
   "id": "d77aa3a5669fb145"
  },
  {
   "cell_type": "code",
   "execution_count": 14,
   "outputs": [
    {
     "name": "stdout",
     "output_type": "stream",
     "text": [
      "<class 'pandas.core.frame.DataFrame'>\n",
      "RangeIndex: 908 entries, 0 to 907\n",
      "Data columns (total 11 columns):\n",
      " #   Column             Non-Null Count  Dtype  \n",
      "---  ------             --------------  -----  \n",
      " 0   id                 908 non-null    object \n",
      " 1   name               908 non-null    object \n",
      " 2   category           908 non-null    object \n",
      " 3   sub_category       908 non-null    object \n",
      " 4   image              908 non-null    object \n",
      " 5   minifigs_included  466 non-null    object \n",
      " 6   avg_price_raw      0 non-null      object \n",
      " 7   avg_price_pln      0 non-null      object \n",
      " 8   avg_price_eur      0 non-null      object \n",
      " 9   bricklink          908 non-null    object \n",
      " 10  release_year       466 non-null    float64\n",
      "dtypes: float64(1), object(10)\n",
      "memory usage: 78.2+ KB\n"
     ]
    }
   ],
   "source": [
    "sets_df.info()"
   ],
   "metadata": {
    "collapsed": false,
    "ExecuteTime": {
     "end_time": "2023-09-14T14:37:34.501413Z",
     "start_time": "2023-09-14T14:37:34.379380Z"
    }
   },
   "id": "e4e22d196542e25a"
  },
  {
   "cell_type": "code",
   "execution_count": 18,
   "outputs": [
    {
     "data": {
      "text/plain": "Empty DataFrame\nColumns: [id, name, category, sub_category, image, minifigs_included, avg_price_raw, avg_price_pln, avg_price_eur, bricklink, release_year]\nIndex: []",
      "text/html": "<div>\n<style scoped>\n    .dataframe tbody tr th:only-of-type {\n        vertical-align: middle;\n    }\n\n    .dataframe tbody tr th {\n        vertical-align: top;\n    }\n\n    .dataframe thead th {\n        text-align: right;\n    }\n</style>\n<table border=\"1\" class=\"dataframe\">\n  <thead>\n    <tr style=\"text-align: right;\">\n      <th></th>\n      <th>id</th>\n      <th>name</th>\n      <th>category</th>\n      <th>sub_category</th>\n      <th>image</th>\n      <th>minifigs_included</th>\n      <th>avg_price_raw</th>\n      <th>avg_price_pln</th>\n      <th>avg_price_eur</th>\n      <th>bricklink</th>\n      <th>release_year</th>\n    </tr>\n  </thead>\n  <tbody>\n  </tbody>\n</table>\n</div>"
     },
     "execution_count": 18,
     "metadata": {},
     "output_type": "execute_result"
    }
   ],
   "source": [
    "sets_df[sets_df[\"id\"] == \"76196-1\"]"
   ],
   "metadata": {
    "collapsed": false,
    "ExecuteTime": {
     "end_time": "2023-09-14T14:39:49.199446Z",
     "start_time": "2023-09-14T14:39:49.130675Z"
    }
   },
   "id": "88d57808fd748acf"
  },
  {
   "cell_type": "code",
   "execution_count": 16,
   "outputs": [
    {
     "data": {
      "text/plain": "              id                                               name  \\\n0         7101-1                                    Lightsaber Duel   \n1         7104-1                                       Desert Skiff   \n2         7110-1                                        Landspeeder   \n3         7111-1                                      Droid Fighter   \n4         7115-1                                      Gungan Patrol   \n..           ...                                                ...   \n903         VP-8  Star Wars Bundle Pack, Value Pack (Copack of S...   \n904        VP-10  Star Wars Value Pack with Free LEGO Backpack (...   \n905        VP-11  Star Wars Bundle Pack (Copack of Sets 7101, 71...   \n906        VP-12                  Star Wars Value Pack (7121, 7151)   \n907  yodachron-1  Holocron Chamber - The Yoda Chronicles Promoti...   \n\n      category               sub_category  \\\n0    Star Wars        Star Wars Episode 1   \n1    Star Wars    Star Wars Episode 4/5/6   \n2    Star Wars    Star Wars Episode 4/5/6   \n3    Star Wars        Star Wars Episode 1   \n4    Star Wars        Star Wars Episode 1   \n..         ...                        ...   \n903  Star Wars    Star Wars Episode 4/5/6   \n904  Star Wars            Star Wars Other   \n905  Star Wars        Star Wars Episode 1   \n906  Star Wars        Star Wars Episode 1   \n907  Star Wars  Star Wars Yoda Chronicles   \n\n                                                 image minifigs_included  \\\n0    https://img.bricklink.com/ItemImage/ON/0/7101-...               TBD   \n1    https://img.bricklink.com/ItemImage/ON/0/7104-...               TBD   \n2    https://img.bricklink.com/ItemImage/ON/0/7110-...               TBD   \n3    https://img.bricklink.com/ItemImage/ON/0/7111-...               TBD   \n4    https://img.bricklink.com/ItemImage/ON/0/7115-...               TBD   \n..                                                 ...               ...   \n903  https://img.bricklink.com/ItemImage/ON/0/VP-8.png              None   \n904  https://img.bricklink.com/ItemImage/ON/0/VP-10...              None   \n905  https://img.bricklink.com/ItemImage/ON/0/VP-11...              None   \n906  https://img.bricklink.com/ItemImage/ON/0/VP-12...              None   \n907  https://img.bricklink.com/ItemImage/ON/0/yodac...              None   \n\n    avg_price_raw avg_price_pln avg_price_eur  \\\n0            None          None          None   \n1            None          None          None   \n2            None          None          None   \n3            None          None          None   \n4            None          None          None   \n..            ...           ...           ...   \n903          None          None          None   \n904          None          None          None   \n905          None          None          None   \n906          None          None          None   \n907          None          None          None   \n\n                                             bricklink  release_year  \n0    https://www.bricklink.com/v2/catalog/catalogit...        1999.0  \n1    https://www.bricklink.com/v2/catalog/catalogit...        2000.0  \n2    https://www.bricklink.com/v2/catalog/catalogit...        1999.0  \n3    https://www.bricklink.com/v2/catalog/catalogit...        1999.0  \n4    https://www.bricklink.com/v2/catalog/catalogit...        2000.0  \n..                                                 ...           ...  \n903  https://www.bricklink.com/v2/catalog/catalogit...           NaN  \n904  https://www.bricklink.com/v2/catalog/catalogit...           NaN  \n905  https://www.bricklink.com/v2/catalog/catalogit...           NaN  \n906  https://www.bricklink.com/v2/catalog/catalogit...           NaN  \n907  https://www.bricklink.com/v2/catalog/catalogit...           NaN  \n\n[908 rows x 11 columns]",
      "text/html": "<div>\n<style scoped>\n    .dataframe tbody tr th:only-of-type {\n        vertical-align: middle;\n    }\n\n    .dataframe tbody tr th {\n        vertical-align: top;\n    }\n\n    .dataframe thead th {\n        text-align: right;\n    }\n</style>\n<table border=\"1\" class=\"dataframe\">\n  <thead>\n    <tr style=\"text-align: right;\">\n      <th></th>\n      <th>id</th>\n      <th>name</th>\n      <th>category</th>\n      <th>sub_category</th>\n      <th>image</th>\n      <th>minifigs_included</th>\n      <th>avg_price_raw</th>\n      <th>avg_price_pln</th>\n      <th>avg_price_eur</th>\n      <th>bricklink</th>\n      <th>release_year</th>\n    </tr>\n  </thead>\n  <tbody>\n    <tr>\n      <th>0</th>\n      <td>7101-1</td>\n      <td>Lightsaber Duel</td>\n      <td>Star Wars</td>\n      <td>Star Wars Episode 1</td>\n      <td>https://img.bricklink.com/ItemImage/ON/0/7101-...</td>\n      <td>TBD</td>\n      <td>None</td>\n      <td>None</td>\n      <td>None</td>\n      <td>https://www.bricklink.com/v2/catalog/catalogit...</td>\n      <td>1999.0</td>\n    </tr>\n    <tr>\n      <th>1</th>\n      <td>7104-1</td>\n      <td>Desert Skiff</td>\n      <td>Star Wars</td>\n      <td>Star Wars Episode 4/5/6</td>\n      <td>https://img.bricklink.com/ItemImage/ON/0/7104-...</td>\n      <td>TBD</td>\n      <td>None</td>\n      <td>None</td>\n      <td>None</td>\n      <td>https://www.bricklink.com/v2/catalog/catalogit...</td>\n      <td>2000.0</td>\n    </tr>\n    <tr>\n      <th>2</th>\n      <td>7110-1</td>\n      <td>Landspeeder</td>\n      <td>Star Wars</td>\n      <td>Star Wars Episode 4/5/6</td>\n      <td>https://img.bricklink.com/ItemImage/ON/0/7110-...</td>\n      <td>TBD</td>\n      <td>None</td>\n      <td>None</td>\n      <td>None</td>\n      <td>https://www.bricklink.com/v2/catalog/catalogit...</td>\n      <td>1999.0</td>\n    </tr>\n    <tr>\n      <th>3</th>\n      <td>7111-1</td>\n      <td>Droid Fighter</td>\n      <td>Star Wars</td>\n      <td>Star Wars Episode 1</td>\n      <td>https://img.bricklink.com/ItemImage/ON/0/7111-...</td>\n      <td>TBD</td>\n      <td>None</td>\n      <td>None</td>\n      <td>None</td>\n      <td>https://www.bricklink.com/v2/catalog/catalogit...</td>\n      <td>1999.0</td>\n    </tr>\n    <tr>\n      <th>4</th>\n      <td>7115-1</td>\n      <td>Gungan Patrol</td>\n      <td>Star Wars</td>\n      <td>Star Wars Episode 1</td>\n      <td>https://img.bricklink.com/ItemImage/ON/0/7115-...</td>\n      <td>TBD</td>\n      <td>None</td>\n      <td>None</td>\n      <td>None</td>\n      <td>https://www.bricklink.com/v2/catalog/catalogit...</td>\n      <td>2000.0</td>\n    </tr>\n    <tr>\n      <th>...</th>\n      <td>...</td>\n      <td>...</td>\n      <td>...</td>\n      <td>...</td>\n      <td>...</td>\n      <td>...</td>\n      <td>...</td>\n      <td>...</td>\n      <td>...</td>\n      <td>...</td>\n      <td>...</td>\n    </tr>\n    <tr>\n      <th>903</th>\n      <td>VP-8</td>\n      <td>Star Wars Bundle Pack, Value Pack (Copack of S...</td>\n      <td>Star Wars</td>\n      <td>Star Wars Episode 4/5/6</td>\n      <td>https://img.bricklink.com/ItemImage/ON/0/VP-8.png</td>\n      <td>None</td>\n      <td>None</td>\n      <td>None</td>\n      <td>None</td>\n      <td>https://www.bricklink.com/v2/catalog/catalogit...</td>\n      <td>NaN</td>\n    </tr>\n    <tr>\n      <th>904</th>\n      <td>VP-10</td>\n      <td>Star Wars Value Pack with Free LEGO Backpack (...</td>\n      <td>Star Wars</td>\n      <td>Star Wars Other</td>\n      <td>https://img.bricklink.com/ItemImage/ON/0/VP-10...</td>\n      <td>None</td>\n      <td>None</td>\n      <td>None</td>\n      <td>None</td>\n      <td>https://www.bricklink.com/v2/catalog/catalogit...</td>\n      <td>NaN</td>\n    </tr>\n    <tr>\n      <th>905</th>\n      <td>VP-11</td>\n      <td>Star Wars Bundle Pack (Copack of Sets 7101, 71...</td>\n      <td>Star Wars</td>\n      <td>Star Wars Episode 1</td>\n      <td>https://img.bricklink.com/ItemImage/ON/0/VP-11...</td>\n      <td>None</td>\n      <td>None</td>\n      <td>None</td>\n      <td>None</td>\n      <td>https://www.bricklink.com/v2/catalog/catalogit...</td>\n      <td>NaN</td>\n    </tr>\n    <tr>\n      <th>906</th>\n      <td>VP-12</td>\n      <td>Star Wars Value Pack (7121, 7151)</td>\n      <td>Star Wars</td>\n      <td>Star Wars Episode 1</td>\n      <td>https://img.bricklink.com/ItemImage/ON/0/VP-12...</td>\n      <td>None</td>\n      <td>None</td>\n      <td>None</td>\n      <td>None</td>\n      <td>https://www.bricklink.com/v2/catalog/catalogit...</td>\n      <td>NaN</td>\n    </tr>\n    <tr>\n      <th>907</th>\n      <td>yodachron-1</td>\n      <td>Holocron Chamber - The Yoda Chronicles Promoti...</td>\n      <td>Star Wars</td>\n      <td>Star Wars Yoda Chronicles</td>\n      <td>https://img.bricklink.com/ItemImage/ON/0/yodac...</td>\n      <td>None</td>\n      <td>None</td>\n      <td>None</td>\n      <td>None</td>\n      <td>https://www.bricklink.com/v2/catalog/catalogit...</td>\n      <td>NaN</td>\n    </tr>\n  </tbody>\n</table>\n<p>908 rows × 11 columns</p>\n</div>"
     },
     "execution_count": 16,
     "metadata": {},
     "output_type": "execute_result"
    }
   ],
   "source": [
    "sets_df"
   ],
   "metadata": {
    "collapsed": false,
    "ExecuteTime": {
     "end_time": "2023-09-14T14:38:42.723646Z",
     "start_time": "2023-09-14T14:38:42.619368Z"
    }
   },
   "id": "780f34b1457a4d09"
  },
  {
   "cell_type": "markdown",
   "source": [
    "# Read notion_mapping"
   ],
   "metadata": {
    "collapsed": false
   },
   "id": "7a01a9c6cb1d9d69"
  },
  {
   "cell_type": "code",
   "execution_count": 15,
   "outputs": [],
   "source": [
    "conn = sqlite3.connect('data/lego.db')\n",
    "df_notion = pd.read_sql_query(\"SELECT * FROM notion_mapping WHERE account_name = 'JO'\", conn)"
   ],
   "metadata": {
    "collapsed": false,
    "ExecuteTime": {
     "end_time": "2023-09-15T13:04:31.407279Z",
     "start_time": "2023-09-15T13:04:31.260428Z"
    }
   },
   "id": "cec0cbd1a034b2d7"
  },
  {
   "cell_type": "code",
   "execution_count": 16,
   "outputs": [
    {
     "data": {
      "text/plain": "                                   page_id    bl_id account_name\n0     3795de29-bb69-4ad2-962f-866407f4b7a2   hfw002           JO\n1     9cffc595-cc42-427d-a9d9-a6f965478be3   hfw001           JO\n2     ee223296-a8a4-4f73-87f1-162959b257d0  76989-1           JO\n3     9a35f79b-7c09-47d4-8d8e-b6e45ed2d0a6   avt027           JO\n4     5b34994f-ef70-42d9-a91c-779faf66e595   avt026           JO\n...                                    ...      ...          ...\n3188  0c5138c7-3bb4-4d4f-a63a-50b9577fa4ed   sw0202           JO\n3189  c2cf815a-d4ec-44fa-b6ba-255aba64ecd3   sw0166           JO\n3190  22fb9dae-62ea-42df-b1e2-9c282791c9d7   sw0112           JO\n3191  11a125be-3e69-4691-a0ce-12a2643614f6  sw0106a           JO\n3192  3441679c-2a25-4be6-b32b-119de37ed392    sh775           JO\n\n[3193 rows x 3 columns]",
      "text/html": "<div>\n<style scoped>\n    .dataframe tbody tr th:only-of-type {\n        vertical-align: middle;\n    }\n\n    .dataframe tbody tr th {\n        vertical-align: top;\n    }\n\n    .dataframe thead th {\n        text-align: right;\n    }\n</style>\n<table border=\"1\" class=\"dataframe\">\n  <thead>\n    <tr style=\"text-align: right;\">\n      <th></th>\n      <th>page_id</th>\n      <th>bl_id</th>\n      <th>account_name</th>\n    </tr>\n  </thead>\n  <tbody>\n    <tr>\n      <th>0</th>\n      <td>3795de29-bb69-4ad2-962f-866407f4b7a2</td>\n      <td>hfw002</td>\n      <td>JO</td>\n    </tr>\n    <tr>\n      <th>1</th>\n      <td>9cffc595-cc42-427d-a9d9-a6f965478be3</td>\n      <td>hfw001</td>\n      <td>JO</td>\n    </tr>\n    <tr>\n      <th>2</th>\n      <td>ee223296-a8a4-4f73-87f1-162959b257d0</td>\n      <td>76989-1</td>\n      <td>JO</td>\n    </tr>\n    <tr>\n      <th>3</th>\n      <td>9a35f79b-7c09-47d4-8d8e-b6e45ed2d0a6</td>\n      <td>avt027</td>\n      <td>JO</td>\n    </tr>\n    <tr>\n      <th>4</th>\n      <td>5b34994f-ef70-42d9-a91c-779faf66e595</td>\n      <td>avt026</td>\n      <td>JO</td>\n    </tr>\n    <tr>\n      <th>...</th>\n      <td>...</td>\n      <td>...</td>\n      <td>...</td>\n    </tr>\n    <tr>\n      <th>3188</th>\n      <td>0c5138c7-3bb4-4d4f-a63a-50b9577fa4ed</td>\n      <td>sw0202</td>\n      <td>JO</td>\n    </tr>\n    <tr>\n      <th>3189</th>\n      <td>c2cf815a-d4ec-44fa-b6ba-255aba64ecd3</td>\n      <td>sw0166</td>\n      <td>JO</td>\n    </tr>\n    <tr>\n      <th>3190</th>\n      <td>22fb9dae-62ea-42df-b1e2-9c282791c9d7</td>\n      <td>sw0112</td>\n      <td>JO</td>\n    </tr>\n    <tr>\n      <th>3191</th>\n      <td>11a125be-3e69-4691-a0ce-12a2643614f6</td>\n      <td>sw0106a</td>\n      <td>JO</td>\n    </tr>\n    <tr>\n      <th>3192</th>\n      <td>3441679c-2a25-4be6-b32b-119de37ed392</td>\n      <td>sh775</td>\n      <td>JO</td>\n    </tr>\n  </tbody>\n</table>\n<p>3193 rows × 3 columns</p>\n</div>"
     },
     "execution_count": 16,
     "metadata": {},
     "output_type": "execute_result"
    }
   ],
   "source": [
    "df_notion"
   ],
   "metadata": {
    "collapsed": false,
    "ExecuteTime": {
     "end_time": "2023-09-15T13:04:31.687790Z",
     "start_time": "2023-09-15T13:04:31.668817Z"
    }
   },
   "id": "9f4cd73aaff9a31"
  },
  {
   "cell_type": "code",
   "execution_count": 24,
   "outputs": [
    {
     "ename": "IndexError",
     "evalue": "single positional indexer is out-of-bounds",
     "output_type": "error",
     "traceback": [
      "\u001B[0;31m---------------------------------------------------------------------------\u001B[0m",
      "\u001B[0;31mIndexError\u001B[0m                                Traceback (most recent call last)",
      "Cell \u001B[0;32mIn[24], line 2\u001B[0m\n\u001B[1;32m      1\u001B[0m a \u001B[38;5;241m=\u001B[39m df_notion[df_notion[\u001B[38;5;124m\"\u001B[39m\u001B[38;5;124mbl_id\u001B[39m\u001B[38;5;124m\"\u001B[39m] \u001B[38;5;241m==\u001B[39m \u001B[38;5;124m\"\u001B[39m\u001B[38;5;124msh77f5\u001B[39m\u001B[38;5;124m\"\u001B[39m]\n\u001B[0;32m----> 2\u001B[0m \u001B[43ma\u001B[49m\u001B[38;5;241;43m.\u001B[39;49m\u001B[43miloc\u001B[49m\u001B[43m[\u001B[49m\u001B[38;5;241;43m0\u001B[39;49m\u001B[43m]\u001B[49m\u001B[38;5;241m.\u001B[39mto_dict()\n",
      "File \u001B[0;32m~/PycharmProjects/bricklink-notion-integration/venv/lib/python3.9/site-packages/pandas/core/indexing.py:1153\u001B[0m, in \u001B[0;36m_LocationIndexer.__getitem__\u001B[0;34m(self, key)\u001B[0m\n\u001B[1;32m   1150\u001B[0m axis \u001B[38;5;241m=\u001B[39m \u001B[38;5;28mself\u001B[39m\u001B[38;5;241m.\u001B[39maxis \u001B[38;5;129;01mor\u001B[39;00m \u001B[38;5;241m0\u001B[39m\n\u001B[1;32m   1152\u001B[0m maybe_callable \u001B[38;5;241m=\u001B[39m com\u001B[38;5;241m.\u001B[39mapply_if_callable(key, \u001B[38;5;28mself\u001B[39m\u001B[38;5;241m.\u001B[39mobj)\n\u001B[0;32m-> 1153\u001B[0m \u001B[38;5;28;01mreturn\u001B[39;00m \u001B[38;5;28;43mself\u001B[39;49m\u001B[38;5;241;43m.\u001B[39;49m\u001B[43m_getitem_axis\u001B[49m\u001B[43m(\u001B[49m\u001B[43mmaybe_callable\u001B[49m\u001B[43m,\u001B[49m\u001B[43m \u001B[49m\u001B[43maxis\u001B[49m\u001B[38;5;241;43m=\u001B[39;49m\u001B[43maxis\u001B[49m\u001B[43m)\u001B[49m\n",
      "File \u001B[0;32m~/PycharmProjects/bricklink-notion-integration/venv/lib/python3.9/site-packages/pandas/core/indexing.py:1714\u001B[0m, in \u001B[0;36m_iLocIndexer._getitem_axis\u001B[0;34m(self, key, axis)\u001B[0m\n\u001B[1;32m   1711\u001B[0m     \u001B[38;5;28;01mraise\u001B[39;00m \u001B[38;5;167;01mTypeError\u001B[39;00m(\u001B[38;5;124m\"\u001B[39m\u001B[38;5;124mCannot index by location index with a non-integer key\u001B[39m\u001B[38;5;124m\"\u001B[39m)\n\u001B[1;32m   1713\u001B[0m \u001B[38;5;66;03m# validate the location\u001B[39;00m\n\u001B[0;32m-> 1714\u001B[0m \u001B[38;5;28;43mself\u001B[39;49m\u001B[38;5;241;43m.\u001B[39;49m\u001B[43m_validate_integer\u001B[49m\u001B[43m(\u001B[49m\u001B[43mkey\u001B[49m\u001B[43m,\u001B[49m\u001B[43m \u001B[49m\u001B[43maxis\u001B[49m\u001B[43m)\u001B[49m\n\u001B[1;32m   1716\u001B[0m \u001B[38;5;28;01mreturn\u001B[39;00m \u001B[38;5;28mself\u001B[39m\u001B[38;5;241m.\u001B[39mobj\u001B[38;5;241m.\u001B[39m_ixs(key, axis\u001B[38;5;241m=\u001B[39maxis)\n",
      "File \u001B[0;32m~/PycharmProjects/bricklink-notion-integration/venv/lib/python3.9/site-packages/pandas/core/indexing.py:1647\u001B[0m, in \u001B[0;36m_iLocIndexer._validate_integer\u001B[0;34m(self, key, axis)\u001B[0m\n\u001B[1;32m   1645\u001B[0m len_axis \u001B[38;5;241m=\u001B[39m \u001B[38;5;28mlen\u001B[39m(\u001B[38;5;28mself\u001B[39m\u001B[38;5;241m.\u001B[39mobj\u001B[38;5;241m.\u001B[39m_get_axis(axis))\n\u001B[1;32m   1646\u001B[0m \u001B[38;5;28;01mif\u001B[39;00m key \u001B[38;5;241m>\u001B[39m\u001B[38;5;241m=\u001B[39m len_axis \u001B[38;5;129;01mor\u001B[39;00m key \u001B[38;5;241m<\u001B[39m \u001B[38;5;241m-\u001B[39mlen_axis:\n\u001B[0;32m-> 1647\u001B[0m     \u001B[38;5;28;01mraise\u001B[39;00m \u001B[38;5;167;01mIndexError\u001B[39;00m(\u001B[38;5;124m\"\u001B[39m\u001B[38;5;124msingle positional indexer is out-of-bounds\u001B[39m\u001B[38;5;124m\"\u001B[39m)\n",
      "\u001B[0;31mIndexError\u001B[0m: single positional indexer is out-of-bounds"
     ]
    }
   ],
   "source": [
    "df_notion[df_notion[\"bl_id\"] == \"sh77f5\"]"
   ],
   "metadata": {
    "collapsed": false,
    "ExecuteTime": {
     "end_time": "2023-09-15T14:16:30.426751Z",
     "start_time": "2023-09-15T14:16:29.982027Z"
    }
   },
   "id": "282c722db5b1068b"
  },
  {
   "cell_type": "code",
   "execution_count": 18,
   "outputs": [
    {
     "data": {
      "text/plain": "Empty DataFrame\nColumns: [page_id, bl_id, account_name]\nIndex: []",
      "text/html": "<div>\n<style scoped>\n    .dataframe tbody tr th:only-of-type {\n        vertical-align: middle;\n    }\n\n    .dataframe tbody tr th {\n        vertical-align: top;\n    }\n\n    .dataframe thead th {\n        text-align: right;\n    }\n</style>\n<table border=\"1\" class=\"dataframe\">\n  <thead>\n    <tr style=\"text-align: right;\">\n      <th></th>\n      <th>page_id</th>\n      <th>bl_id</th>\n      <th>account_name</th>\n    </tr>\n  </thead>\n  <tbody>\n  </tbody>\n</table>\n</div>"
     },
     "execution_count": 18,
     "metadata": {},
     "output_type": "execute_result"
    }
   ],
   "source": [
    "# Check for duplicates\n",
    "ids = df_notion[\"bl_id\"]\n",
    "df_notion[ids.isin(ids[ids.duplicated()])].sort_values(\"bl_id\")"
   ],
   "metadata": {
    "collapsed": false,
    "ExecuteTime": {
     "end_time": "2023-09-15T13:05:23.179606Z",
     "start_time": "2023-09-15T13:05:23.029572Z"
    }
   },
   "id": "fa5a8498ec0d0a00"
  },
  {
   "cell_type": "code",
   "execution_count": null,
   "outputs": [],
   "source": [
    "pd.concat(g for _, g in df_notion.groupby(\"bl_id\") if len(g) > 1)"
   ],
   "metadata": {
    "collapsed": false
   },
   "id": "c9da21090add195e"
  }
 ],
 "metadata": {
  "kernelspec": {
   "display_name": "Python 3",
   "language": "python",
   "name": "python3"
  },
  "language_info": {
   "codemirror_mode": {
    "name": "ipython",
    "version": 2
   },
   "file_extension": ".py",
   "mimetype": "text/x-python",
   "name": "python",
   "nbconvert_exporter": "python",
   "pygments_lexer": "ipython2",
   "version": "2.7.6"
  }
 },
 "nbformat": 4,
 "nbformat_minor": 5
}
