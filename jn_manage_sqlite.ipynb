{
 "cells": [
  {
   "cell_type": "markdown",
   "source": [
    "# Query DB in sqlite3"
   ],
   "metadata": {
    "collapsed": false
   },
   "id": "7830483549181cdf"
  },
  {
   "cell_type": "code",
   "execution_count": 1,
   "outputs": [],
   "source": [
    "import sqlite3"
   ],
   "metadata": {
    "collapsed": false,
    "ExecuteTime": {
     "end_time": "2023-09-18T13:07:47.216781Z",
     "start_time": "2023-09-18T13:07:47.212184Z"
    }
   },
   "id": "7c816feec8cdbb69"
  },
  {
   "cell_type": "markdown",
   "source": [
    "## Manage `notion_mapping` table"
   ],
   "metadata": {
    "collapsed": false
   },
   "id": "24155551f392bd87"
  },
  {
   "cell_type": "code",
   "execution_count": 11,
   "outputs": [],
   "source": [
    "conn = sqlite3.connect('data/lego.db')\n",
    "cursor = conn.cursor()\n",
    "# cursor.execute(\"DROP TABLE notion_mapping;\")\n",
    "conn.commit()\n",
    "conn.close()"
   ],
   "metadata": {
    "collapsed": false,
    "ExecuteTime": {
     "end_time": "2023-09-07T15:32:01.866441Z",
     "start_time": "2023-09-07T15:32:01.858143Z"
    }
   },
   "id": "515199a02c046f38"
  },
  {
   "cell_type": "code",
   "execution_count": 8,
   "outputs": [
    {
     "name": "stdout",
     "output_type": "stream",
     "text": [
      "Total number of rows updated : 1\n"
     ]
    }
   ],
   "source": [
    "conn = sqlite3.connect('data/lego.db')\n",
    "cursor = conn.cursor()\n",
    "cursor.execute(\n",
    "    \"DELETE FROM notion_mapping WHERE bl_id = 'sw0997' AND page_id = '7cc1c01a-ceff-4e39-a322-7a74d352f9f0' AND account_name = 'JO';\")\n",
    "conn.commit()\n",
    "print(\"Total number of rows updated :\", conn.total_changes)\n",
    "conn.close()"
   ],
   "metadata": {
    "collapsed": false,
    "ExecuteTime": {
     "end_time": "2023-09-18T13:12:53.974997Z",
     "start_time": "2023-09-18T13:12:53.892624Z"
    }
   },
   "id": "e682aae8ef18df80"
  },
  {
   "cell_type": "markdown",
   "source": [
    "# Manage `minifigs` table"
   ],
   "metadata": {
    "collapsed": false
   },
   "id": "f3c57ac98e50307c"
  },
  {
   "cell_type": "code",
   "execution_count": 10,
   "outputs": [],
   "source": [
    "conn = sqlite3.connect('data/lego.db')\n",
    "cursor = conn.cursor()\n",
    "# cursor.execute(\"DROP TABLE sets;\")\n",
    "conn.commit()\n",
    "conn.close()"
   ],
   "metadata": {
    "collapsed": false,
    "ExecuteTime": {
     "end_time": "2023-09-07T12:00:28.479675Z",
     "start_time": "2023-09-07T12:00:28.470165Z"
    }
   },
   "id": "cfcc9b5f4bed1ffc"
  },
  {
   "cell_type": "code",
   "execution_count": 6,
   "outputs": [],
   "source": [
    "conn = sqlite3.connect('data/lego.db')\n",
    "cursor = conn.cursor()\n",
    "cursor.execute(\"DELETE FROM minifigs WHERE avg_price_raw = 'None';\")\n",
    "conn.commit()\n",
    "conn.close()"
   ],
   "metadata": {
    "collapsed": false,
    "ExecuteTime": {
     "end_time": "2023-09-06T15:07:59.623493Z",
     "start_time": "2023-09-06T15:07:59.607537Z"
    }
   },
   "id": "bbafe24bf9f84b46"
  },
  {
   "cell_type": "markdown",
   "source": [
    "# Update table schema (create new table, copy data, drop old table, rename new table)"
   ],
   "metadata": {
    "collapsed": false
   },
   "id": "afdd20b61737d032"
  },
  {
   "cell_type": "code",
   "execution_count": 4,
   "outputs": [],
   "source": [
    "conn = sqlite3.connect('data/lego.db')\n",
    "cursor = conn.cursor()\n",
    "conn.execute(\"\"\"CREATE TABLE IF NOT EXISTS notion_mapping_temp\n",
    "                (page_id              TEXT NOT NULL,\n",
    "                bl_id             TEXT NOT NULL,\n",
    "                account_name             TEXT NOT NULL,\n",
    "                UNIQUE(page_id, bl_id) ON CONFLICT IGNORE\n",
    "                );\"\"\")  # Creates the table\n",
    "\n",
    "conn.commit()\n",
    "conn.close()"
   ],
   "metadata": {
    "collapsed": false,
    "ExecuteTime": {
     "end_time": "2023-09-12T13:40:03.089427Z",
     "start_time": "2023-09-12T13:40:03.082900Z"
    }
   },
   "id": "1d3ca3b866e83549"
  },
  {
   "cell_type": "code",
   "execution_count": 5,
   "outputs": [],
   "source": [
    "conn = sqlite3.connect('data/lego.db')\n",
    "conn.execute(\"INSERT INTO notion_mapping_temp SELECT page_id, bl_id, 'JO' FROM notion_mapping;\")\n",
    "conn.commit()\n",
    "conn.close()"
   ],
   "metadata": {
    "collapsed": false,
    "ExecuteTime": {
     "end_time": "2023-09-12T13:40:55.794646Z",
     "start_time": "2023-09-12T13:40:55.645979Z"
    }
   },
   "id": "7f74b47a5f736887"
  },
  {
   "cell_type": "code",
   "execution_count": 20,
   "outputs": [
    {
     "name": "stdout",
     "output_type": "stream",
     "text": [
      "Total number of rows updated : 1\n"
     ]
    }
   ],
   "source": [
    "conn = sqlite3.connect('data/lego.db')\n",
    "cursor = conn.cursor()\n",
    "cursor.execute(\"\"\"UPDATE minifigs\n",
    "            SET appears_in=\"75266-1\"\n",
    "            WHERE id='sw1075';\"\"\")\n",
    "conn.commit()\n",
    "print(\"Total number of rows updated :\", conn.total_changes)\n",
    "conn.close()"
   ],
   "metadata": {
    "collapsed": false,
    "ExecuteTime": {
     "end_time": "2023-09-15T16:08:06.934457Z",
     "start_time": "2023-09-15T16:08:06.925005Z"
    }
   },
   "id": "9d2862969b8017c"
  },
  {
   "cell_type": "code",
   "execution_count": 6,
   "outputs": [],
   "source": [
    "conn = sqlite3.connect('data/lego.db')\n",
    "cursor = conn.cursor()\n",
    "# cursor.execute(\"DROP TABLE notion_mapping;\")\n",
    "conn.commit()\n",
    "conn.close()"
   ],
   "metadata": {
    "collapsed": false,
    "ExecuteTime": {
     "end_time": "2023-09-12T13:41:36.108405Z",
     "start_time": "2023-09-12T13:41:35.949292Z"
    }
   },
   "id": "408bee158e411bde"
  },
  {
   "cell_type": "code",
   "execution_count": 7,
   "outputs": [],
   "source": [
    "conn = sqlite3.connect('data/lego.db')\n",
    "cursor = conn.cursor()\n",
    "cursor.execute(\"\"\"ALTER TABLE notion_mapping_temp\n",
    "  RENAME TO notion_mapping;\"\"\")\n",
    "conn.commit()\n",
    "conn.close()"
   ],
   "metadata": {
    "collapsed": false,
    "ExecuteTime": {
     "end_time": "2023-09-12T13:41:41.787185Z",
     "start_time": "2023-09-12T13:41:41.639053Z"
    }
   },
   "id": "ca780333de0f4dfe"
  },
  {
   "cell_type": "code",
   "execution_count": null,
   "outputs": [],
   "source": [],
   "metadata": {
    "collapsed": false
   },
   "id": "2f8795f6b01d923"
  }
 ],
 "metadata": {
  "kernelspec": {
   "display_name": "Python 3",
   "language": "python",
   "name": "python3"
  },
  "language_info": {
   "codemirror_mode": {
    "name": "ipython",
    "version": 2
   },
   "file_extension": ".py",
   "mimetype": "text/x-python",
   "name": "python",
   "nbconvert_exporter": "python",
   "pygments_lexer": "ipython2",
   "version": "2.7.6"
  }
 },
 "nbformat": 4,
 "nbformat_minor": 5
}
