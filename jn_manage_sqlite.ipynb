{
 "cells": [
  {
   "cell_type": "markdown",
   "source": [
    "# Query DB in sqlite3"
   ],
   "metadata": {
    "collapsed": false
   },
   "id": "7830483549181cdf"
  },
  {
   "cell_type": "code",
   "execution_count": 3,
   "outputs": [],
   "source": [
    "import sqlite3"
   ],
   "metadata": {
    "collapsed": false,
    "ExecuteTime": {
     "end_time": "2023-09-22T13:23:40.579579Z",
     "start_time": "2023-09-22T13:23:40.486142Z"
    }
   },
   "id": "7c816feec8cdbb69"
  },
  {
   "cell_type": "markdown",
   "source": [
    "## Manage `notion_mapping` table"
   ],
   "metadata": {
    "collapsed": false
   },
   "id": "24155551f392bd87"
  },
  {
   "cell_type": "code",
   "execution_count": 11,
   "outputs": [],
   "source": [
    "conn = sqlite3.connect('data/lego.db')\n",
    "cursor = conn.cursor()\n",
    "# cursor.execute(\"DROP TABLE notion_mapping;\")\n",
    "conn.commit()\n",
    "conn.close()"
   ],
   "metadata": {
    "collapsed": false,
    "ExecuteTime": {
     "end_time": "2023-09-07T15:32:01.866441Z",
     "start_time": "2023-09-07T15:32:01.858143Z"
    }
   },
   "id": "515199a02c046f38"
  },
  {
   "cell_type": "code",
   "execution_count": 8,
   "outputs": [
    {
     "name": "stdout",
     "output_type": "stream",
     "text": [
      "Total number of rows updated : 1\n"
     ]
    }
   ],
   "source": [
    "conn = sqlite3.connect('data/lego.db')\n",
    "cursor = conn.cursor()\n",
    "cursor.execute(\n",
    "    \"DELETE FROM notion_mapping WHERE bl_id = 'sw0997' AND page_id = '' AND account_name = '';\")\n",
    "conn.commit()\n",
    "print(\"Total number of rows updated :\", conn.total_changes)\n",
    "conn.close()"
   ],
   "metadata": {
    "collapsed": false,
    "ExecuteTime": {
     "end_time": "2023-09-18T13:12:53.974997Z",
     "start_time": "2023-09-18T13:12:53.892624Z"
    }
   },
   "id": "e682aae8ef18df80"
  },
  {
   "cell_type": "markdown",
   "source": [
    "# Manage `minifigs` table"
   ],
   "metadata": {
    "collapsed": false
   },
   "id": "f3c57ac98e50307c"
  },
  {
   "cell_type": "code",
   "execution_count": 10,
   "outputs": [],
   "source": [
    "conn = sqlite3.connect('data/lego.db')\n",
    "cursor = conn.cursor()\n",
    "# cursor.execute(\"DROP TABLE sets;\")\n",
    "conn.commit()\n",
    "conn.close()"
   ],
   "metadata": {
    "collapsed": false,
    "ExecuteTime": {
     "end_time": "2023-09-07T12:00:28.479675Z",
     "start_time": "2023-09-07T12:00:28.470165Z"
    }
   },
   "id": "cfcc9b5f4bed1ffc"
  },
  {
   "cell_type": "code",
   "execution_count": 6,
   "outputs": [],
   "source": [
    "conn = sqlite3.connect('data/lego.db')\n",
    "cursor = conn.cursor()\n",
    "cursor.execute(\"DELETE FROM minifigs WHERE avg_price_raw = 'None';\")\n",
    "conn.commit()\n",
    "conn.close()"
   ],
   "metadata": {
    "collapsed": false,
    "ExecuteTime": {
     "end_time": "2023-09-06T15:07:59.623493Z",
     "start_time": "2023-09-06T15:07:59.607537Z"
    }
   },
   "id": "bbafe24bf9f84b46"
  },
  {
   "cell_type": "markdown",
   "source": [
    "# Update table schema (create new table, copy data, drop old table, rename new table)"
   ],
   "metadata": {
    "collapsed": false
   },
   "id": "afdd20b61737d032"
  },
  {
   "cell_type": "code",
   "execution_count": 13,
   "outputs": [],
   "source": [
    "conn = sqlite3.connect('data/lego.db')\n",
    "cursor = conn.cursor()\n",
    "conn.execute(\n",
    "    \"\"\"CREATE TABLE IF NOT EXISTS notion_mapping_temp\n",
    "\t\t\t(page_id              TEXT NOT NULL,\n",
    "\t\t\tbl_id             TEXT NOT NULL,\n",
    "\t\t\taccount_name             TEXT NOT NULL,\n",
    "\t\t\tlast_updated_at  TEXT NOT NULL,\n",
    "\t\t\tUNIQUE(page_id, bl_id) ON CONFLICT IGNORE\n",
    "\t\t\t);\"\"\"\n",
    ")  # Creates the table\n",
    "\n",
    "conn.commit()\n",
    "conn.close()"
   ],
   "metadata": {
    "collapsed": false,
    "ExecuteTime": {
     "end_time": "2023-09-20T13:53:58.550937Z",
     "start_time": "2023-09-20T13:53:58.399860Z"
    }
   },
   "id": "1d3ca3b866e83549"
  },
  {
   "cell_type": "code",
   "execution_count": 19,
   "outputs": [
    {
     "name": "stdout",
     "output_type": "stream",
     "text": [
      "Total number of rows updated : 5629\n"
     ]
    }
   ],
   "source": [
    "from datetime import datetime, timedelta\n",
    "\n",
    "conn = sqlite3.connect('data/lego.db')\n",
    "conn.execute(\n",
    "    f\"INSERT INTO notion_mapping_temp SELECT *, '{(datetime.utcnow() - timedelta(days=1)).strftime('%Y-%m-%d %H:%M:%S')}' FROM notion_mapping;\")\n",
    "# res = conn.execute(\"SELECT date(datetime('now'))-1;\")\n",
    "# print(res.fetchall())\n",
    "conn.commit()\n",
    "print(\"Total number of rows updated :\", conn.total_changes)\n",
    "conn.close()"
   ],
   "metadata": {
    "collapsed": false,
    "ExecuteTime": {
     "end_time": "2023-09-20T14:00:03.262842Z",
     "start_time": "2023-09-20T14:00:03.027867Z"
    }
   },
   "id": "7f74b47a5f736887"
  },
  {
   "cell_type": "code",
   "execution_count": 8,
   "outputs": [
    {
     "name": "stdout",
     "output_type": "stream",
     "text": [
      "Checking image links...\n"
     ]
    },
    {
     "ename": "RuntimeError",
     "evalue": "asyncio.run() cannot be called from a running event loop",
     "output_type": "error",
     "traceback": [
      "\u001B[0;31m---------------------------------------------------------------------------\u001B[0m",
      "\u001B[0;31mRuntimeError\u001B[0m                              Traceback (most recent call last)",
      "Cell \u001B[0;32mIn[8], line 5\u001B[0m\n\u001B[1;32m      3\u001B[0m links \u001B[38;5;241m=\u001B[39m df[\u001B[38;5;124m\"\u001B[39m\u001B[38;5;124mimage\u001B[39m\u001B[38;5;124m\"\u001B[39m]\u001B[38;5;241m.\u001B[39mtolist()\n\u001B[1;32m      4\u001B[0m ids \u001B[38;5;241m=\u001B[39m df[\u001B[38;5;124m\"\u001B[39m\u001B[38;5;124mid\u001B[39m\u001B[38;5;124m\"\u001B[39m]\u001B[38;5;241m.\u001B[39mtolist()\n\u001B[0;32m----> 5\u001B[0m bools \u001B[38;5;241m=\u001B[39m \u001B[43mget_image_links_validity\u001B[49m\u001B[43m(\u001B[49m\u001B[43mlinks\u001B[49m\u001B[43m)\u001B[49m\n\u001B[1;32m      7\u001B[0m conn \u001B[38;5;241m=\u001B[39m sqlite3\u001B[38;5;241m.\u001B[39mconnect(\u001B[38;5;124m'\u001B[39m\u001B[38;5;124mdata/lego.db\u001B[39m\u001B[38;5;124m'\u001B[39m)\n\u001B[1;32m      8\u001B[0m cursor \u001B[38;5;241m=\u001B[39m conn\u001B[38;5;241m.\u001B[39mcursor()\n",
      "File \u001B[0;32m~/PycharmProjects/bricklink-notion-integration/scraping/helpers.py:41\u001B[0m, in \u001B[0;36mget_image_links_validity\u001B[0;34m(links)\u001B[0m\n\u001B[1;32m     39\u001B[0m \u001B[38;5;28;01mdef\u001B[39;00m \u001B[38;5;21mget_image_links_validity\u001B[39m(links: \u001B[38;5;28mlist\u001B[39m) \u001B[38;5;241m-\u001B[39m\u001B[38;5;241m>\u001B[39m \u001B[38;5;28mlist\u001B[39m[\u001B[38;5;28mbool\u001B[39m]:\n\u001B[1;32m     40\u001B[0m     \u001B[38;5;28mprint\u001B[39m(\u001B[38;5;124m\"\u001B[39m\u001B[38;5;124mChecking image links...\u001B[39m\u001B[38;5;124m\"\u001B[39m)\n\u001B[0;32m---> 41\u001B[0m     \u001B[38;5;28;01mreturn\u001B[39;00m \u001B[43masyncio\u001B[49m\u001B[38;5;241;43m.\u001B[39;49m\u001B[43mrun\u001B[49m\u001B[43m(\u001B[49m\u001B[43masync_run_image_checks\u001B[49m\u001B[43m(\u001B[49m\u001B[43mlinks\u001B[49m\u001B[43m)\u001B[49m\u001B[43m)\u001B[49m\n",
      "File \u001B[0;32m/usr/local/Cellar/python@3.9/3.9.13_3/Frameworks/Python.framework/Versions/3.9/lib/python3.9/asyncio/runners.py:33\u001B[0m, in \u001B[0;36mrun\u001B[0;34m(main, debug)\u001B[0m\n\u001B[1;32m      9\u001B[0m \u001B[38;5;250m\u001B[39m\u001B[38;5;124;03m\"\"\"Execute the coroutine and return the result.\u001B[39;00m\n\u001B[1;32m     10\u001B[0m \n\u001B[1;32m     11\u001B[0m \u001B[38;5;124;03mThis function runs the passed coroutine, taking care of\u001B[39;00m\n\u001B[0;32m   (...)\u001B[0m\n\u001B[1;32m     30\u001B[0m \u001B[38;5;124;03m    asyncio.run(main())\u001B[39;00m\n\u001B[1;32m     31\u001B[0m \u001B[38;5;124;03m\"\"\"\u001B[39;00m\n\u001B[1;32m     32\u001B[0m \u001B[38;5;28;01mif\u001B[39;00m events\u001B[38;5;241m.\u001B[39m_get_running_loop() \u001B[38;5;129;01mis\u001B[39;00m \u001B[38;5;129;01mnot\u001B[39;00m \u001B[38;5;28;01mNone\u001B[39;00m:\n\u001B[0;32m---> 33\u001B[0m     \u001B[38;5;28;01mraise\u001B[39;00m \u001B[38;5;167;01mRuntimeError\u001B[39;00m(\n\u001B[1;32m     34\u001B[0m         \u001B[38;5;124m\"\u001B[39m\u001B[38;5;124masyncio.run() cannot be called from a running event loop\u001B[39m\u001B[38;5;124m\"\u001B[39m)\n\u001B[1;32m     36\u001B[0m \u001B[38;5;28;01mif\u001B[39;00m \u001B[38;5;129;01mnot\u001B[39;00m coroutines\u001B[38;5;241m.\u001B[39miscoroutine(main):\n\u001B[1;32m     37\u001B[0m     \u001B[38;5;28;01mraise\u001B[39;00m \u001B[38;5;167;01mValueError\u001B[39;00m(\u001B[38;5;124m\"\u001B[39m\u001B[38;5;124ma coroutine was expected, got \u001B[39m\u001B[38;5;132;01m{!r}\u001B[39;00m\u001B[38;5;124m\"\u001B[39m\u001B[38;5;241m.\u001B[39mformat(main))\n",
      "\u001B[0;31mRuntimeError\u001B[0m: asyncio.run() cannot be called from a running event loop"
     ]
    }
   ],
   "source": [
    "conn = sqlite3.connect('data/lego.db')\n",
    "cursor = conn.cursor()\n",
    "cursor.execute(\"\"\"UPDATE sets\n",
    "            SET image=NULL\n",
    "            WHERE id='None';\n",
    "            \"\"\")\n",
    "conn.commit()\n",
    "print(\"Total number of rows updated :\", conn.total_changes)\n",
    "conn.close()"
   ],
   "metadata": {
    "collapsed": false,
    "ExecuteTime": {
     "end_time": "2023-09-22T13:29:09.546420Z",
     "start_time": "2023-09-22T13:29:08.033527Z"
    }
   },
   "id": "9d2862969b8017c"
  },
  {
   "cell_type": "code",
   "execution_count": 20,
   "outputs": [],
   "source": [
    "conn = sqlite3.connect('data/lego.db')\n",
    "cursor = conn.cursor()\n",
    "# cursor.execute(\"DROP TABLE Lnotion_mapping;\")\n",
    "conn.commit()\n",
    "conn.close()"
   ],
   "metadata": {
    "collapsed": false,
    "ExecuteTime": {
     "end_time": "2023-09-20T14:00:55.620029Z",
     "start_time": "2023-09-20T14:00:55.455948Z"
    }
   },
   "id": "408bee158e411bde"
  },
  {
   "cell_type": "code",
   "execution_count": 21,
   "outputs": [],
   "source": [
    "conn = sqlite3.connect('data/lego.db')\n",
    "cursor = conn.cursor()\n",
    "cursor.execute(\"\"\"ALTER TABLE notion_mapping_temp\n",
    "  RENAME TO notion_mapping;\"\"\")\n",
    "conn.commit()\n",
    "conn.close()"
   ],
   "metadata": {
    "collapsed": false,
    "ExecuteTime": {
     "end_time": "2023-09-20T14:01:12.732882Z",
     "start_time": "2023-09-20T14:01:12.573099Z"
    }
   },
   "id": "ca780333de0f4dfe"
  },
  {
   "cell_type": "code",
   "execution_count": null,
   "outputs": [],
   "source": [],
   "metadata": {
    "collapsed": false
   },
   "id": "2f8795f6b01d923"
  }
 ],
 "metadata": {
  "kernelspec": {
   "display_name": "Python 3",
   "language": "python",
   "name": "python3"
  },
  "language_info": {
   "codemirror_mode": {
    "name": "ipython",
    "version": 2
   },
   "file_extension": ".py",
   "mimetype": "text/x-python",
   "name": "python",
   "nbconvert_exporter": "python",
   "pygments_lexer": "ipython2",
   "version": "2.7.6"
  }
 },
 "nbformat": 4,
 "nbformat_minor": 5
}
