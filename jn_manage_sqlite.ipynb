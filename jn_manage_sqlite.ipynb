{
 "cells": [
  {
   "cell_type": "markdown",
   "source": [
    "# Query DB in sqlite3"
   ],
   "metadata": {
    "collapsed": false
   },
   "id": "7830483549181cdf"
  },
  {
   "cell_type": "code",
   "execution_count": 11,
   "outputs": [],
   "source": [
    "import sqlite3"
   ],
   "metadata": {
    "collapsed": false,
    "ExecuteTime": {
     "end_time": "2023-09-08T10:45:10.573025Z",
     "start_time": "2023-09-08T10:45:10.347399Z"
    }
   },
   "id": "7c816feec8cdbb69"
  },
  {
   "cell_type": "markdown",
   "source": [
    "## Manage `notion_mapping` table"
   ],
   "metadata": {
    "collapsed": false
   },
   "id": "24155551f392bd87"
  },
  {
   "cell_type": "code",
   "execution_count": 11,
   "outputs": [],
   "source": [
    "conn = sqlite3.connect('data/lego.db')\n",
    "cursor = conn.cursor()\n",
    "cursor.execute(\"DROP TABLE notion_mapping;\")\n",
    "conn.commit()\n",
    "conn.close()"
   ],
   "metadata": {
    "collapsed": false,
    "ExecuteTime": {
     "end_time": "2023-09-07T15:32:01.866441Z",
     "start_time": "2023-09-07T15:32:01.858143Z"
    }
   },
   "id": "515199a02c046f38"
  },
  {
   "cell_type": "markdown",
   "source": [
    "# Manage `minifigs` table"
   ],
   "metadata": {
    "collapsed": false
   },
   "id": "f3c57ac98e50307c"
  },
  {
   "cell_type": "code",
   "execution_count": 10,
   "outputs": [],
   "source": [
    "conn = sqlite3.connect('data/lego.db')\n",
    "cursor = conn.cursor()\n",
    "cursor.execute(\"DROP TABLE sets;\")\n",
    "conn.commit()\n",
    "conn.close()"
   ],
   "metadata": {
    "collapsed": false,
    "ExecuteTime": {
     "end_time": "2023-09-07T12:00:28.479675Z",
     "start_time": "2023-09-07T12:00:28.470165Z"
    }
   },
   "id": "cfcc9b5f4bed1ffc"
  },
  {
   "cell_type": "code",
   "execution_count": 6,
   "outputs": [],
   "source": [
    "conn = sqlite3.connect('data/lego.db')\n",
    "cursor = conn.cursor()\n",
    "cursor.execute(\"DELETE FROM minifigs WHERE avg_price_raw = 'None';\")\n",
    "conn.commit()\n",
    "conn.close()"
   ],
   "metadata": {
    "collapsed": false,
    "ExecuteTime": {
     "end_time": "2023-09-06T15:07:59.623493Z",
     "start_time": "2023-09-06T15:07:59.607537Z"
    }
   },
   "id": "bbafe24bf9f84b46"
  },
  {
   "cell_type": "markdown",
   "source": [
    "# Update table schema (create new table, copy data, drop old table, rename new table)"
   ],
   "metadata": {
    "collapsed": false
   },
   "id": "afdd20b61737d032"
  },
  {
   "cell_type": "code",
   "execution_count": 19,
   "outputs": [],
   "source": [
    "conn = sqlite3.connect('data/lego.db')\n",
    "cursor = conn.cursor()\n",
    "conn.execute(\"\"\"CREATE TABLE IF NOT EXISTS sets_temp\n",
    "                (id              TEXT NOT NULL,\n",
    "                name             TEXT NOT NULL,\n",
    "                category         TEXT NOT NULL,\n",
    "                sub_category     TEXT,\n",
    "                image            TEXT NOT NULL,\n",
    "                minifigs_included       BLOB NULL,\n",
    "                avg_price_raw    TEXT NULL,\n",
    "                avg_price_pln    REAL NULL,\n",
    "                avg_price_eur    REAL NULL,\n",
    "                bricklink        TEXT NOT NULL,\n",
    "                release_year     INTEGER NULL,\n",
    "                UNIQUE(id) ON CONFLICT IGNORE\n",
    "                );\"\"\")  # Creates the table\n",
    "\n",
    "conn.commit()\n",
    "conn.close()"
   ],
   "metadata": {
    "collapsed": false,
    "ExecuteTime": {
     "end_time": "2023-09-08T11:54:37.703984Z",
     "start_time": "2023-09-08T11:54:37.460669Z"
    }
   },
   "id": "1d3ca3b866e83549"
  },
  {
   "cell_type": "code",
   "execution_count": 20,
   "outputs": [],
   "source": [
    "conn = sqlite3.connect('data/lego.db')\n",
    "conn.execute(\"INSERT INTO sets_temp SELECT * FROM sets;\")\n",
    "conn.commit()\n",
    "conn.close()"
   ],
   "metadata": {
    "collapsed": false,
    "ExecuteTime": {
     "end_time": "2023-09-08T11:54:39.265680Z",
     "start_time": "2023-09-08T11:54:39.125795Z"
    }
   },
   "id": "7f74b47a5f736887"
  },
  {
   "cell_type": "code",
   "execution_count": 23,
   "outputs": [
    {
     "name": "stdout",
     "output_type": "stream",
     "text": [
      "Total number of rows updated : 64\n"
     ]
    }
   ],
   "source": [
    "conn = sqlite3.connect('data/lego.db')\n",
    "cursor = conn.cursor()\n",
    "cursor.execute(\"\"\"UPDATE minifigs\n",
    "            SET sub_category=NULL\n",
    "            WHERE sub_category='';\"\"\")\n",
    "conn.commit()\n",
    "print(\"Total number of rows updated :\", conn.total_changes)\n",
    "conn.close()"
   ],
   "metadata": {
    "collapsed": false,
    "ExecuteTime": {
     "end_time": "2023-09-08T13:50:30.247179Z",
     "start_time": "2023-09-08T13:50:29.738458Z"
    }
   },
   "id": "9d2862969b8017c"
  },
  {
   "cell_type": "code",
   "execution_count": 21,
   "outputs": [],
   "source": [
    "conn = sqlite3.connect('data/lego.db')\n",
    "cursor = conn.cursor()\n",
    "cursor.execute(\"DROP TABLE sets;\")\n",
    "conn.commit()\n",
    "conn.close()"
   ],
   "metadata": {
    "collapsed": false,
    "ExecuteTime": {
     "end_time": "2023-09-08T11:54:51.893697Z",
     "start_time": "2023-09-08T11:54:51.664543Z"
    }
   },
   "id": "408bee158e411bde"
  },
  {
   "cell_type": "code",
   "execution_count": 22,
   "outputs": [],
   "source": [
    "conn = sqlite3.connect('data/lego.db')\n",
    "cursor = conn.cursor()\n",
    "cursor.execute(\"\"\"ALTER TABLE sets_temp\n",
    "  RENAME TO sets;\"\"\")\n",
    "conn.commit()\n",
    "conn.close()"
   ],
   "metadata": {
    "collapsed": false,
    "ExecuteTime": {
     "end_time": "2023-09-08T11:54:53.912738Z",
     "start_time": "2023-09-08T11:54:53.768374Z"
    }
   },
   "id": "ca780333de0f4dfe"
  },
  {
   "cell_type": "code",
   "execution_count": null,
   "outputs": [],
   "source": [],
   "metadata": {
    "collapsed": false
   },
   "id": "2f8795f6b01d923"
  }
 ],
 "metadata": {
  "kernelspec": {
   "display_name": "Python 3",
   "language": "python",
   "name": "python3"
  },
  "language_info": {
   "codemirror_mode": {
    "name": "ipython",
    "version": 2
   },
   "file_extension": ".py",
   "mimetype": "text/x-python",
   "name": "python",
   "nbconvert_exporter": "python",
   "pygments_lexer": "ipython2",
   "version": "2.7.6"
  }
 },
 "nbformat": 4,
 "nbformat_minor": 5
}
