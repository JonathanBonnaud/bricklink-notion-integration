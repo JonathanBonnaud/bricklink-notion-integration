{
 "cells": [
  {
   "cell_type": "code",
   "execution_count": 1,
   "id": "initial_id",
   "metadata": {
    "collapsed": true,
    "ExecuteTime": {
     "end_time": "2023-09-04T07:38:12.803194Z",
     "start_time": "2023-09-04T07:38:12.431856Z"
    }
   },
   "outputs": [],
   "source": [
    "import sqlite3\n",
    "import pandas as pd"
   ]
  },
  {
   "cell_type": "code",
   "execution_count": 2,
   "outputs": [],
   "source": [
    "conn = sqlite3.connect('data/lego.db')\n",
    "df = pd.read_sql_query(\"SELECT * FROM minifigs WHERE category = 'Avatar'\", conn)"
   ],
   "metadata": {
    "collapsed": false,
    "ExecuteTime": {
     "end_time": "2023-09-04T07:38:16.355402Z",
     "start_time": "2023-09-04T07:38:16.338607Z"
    }
   },
   "id": "3b1a7c8a60eb4a4b"
  },
  {
   "cell_type": "code",
   "execution_count": 3,
   "outputs": [
    {
     "name": "stdout",
     "output_type": "stream",
     "text": [
      "<class 'pandas.core.frame.DataFrame'>\n",
      "RangeIndex: 27 entries, 0 to 26\n",
      "Data columns (total 10 columns):\n",
      " #   Column         Non-Null Count  Dtype  \n",
      "---  ------         --------------  -----  \n",
      " 0   id             27 non-null     object \n",
      " 1   name           27 non-null     object \n",
      " 2   category       27 non-null     object \n",
      " 3   sub_category   14 non-null     object \n",
      " 4   image          27 non-null     object \n",
      " 5   appears_in     27 non-null     object \n",
      " 6   avg_price_raw  27 non-null     object \n",
      " 7   avg_price_pln  13 non-null     float64\n",
      " 8   bricklink      27 non-null     object \n",
      " 9   release_year   27 non-null     int64  \n",
      "dtypes: float64(1), int64(1), object(8)\n",
      "memory usage: 2.2+ KB\n"
     ]
    }
   ],
   "source": [
    "df.info()"
   ],
   "metadata": {
    "collapsed": false,
    "ExecuteTime": {
     "end_time": "2023-09-04T07:38:20.953050Z",
     "start_time": "2023-09-04T07:38:20.942577Z"
    }
   },
   "id": "9550c132d56a0a6c"
  },
  {
   "cell_type": "code",
   "execution_count": 4,
   "outputs": [
    {
     "data": {
      "text/plain": "        id                                               name category  \\\n0   avt021                                            Ao'nung   Avatar   \n1   avt002                             Colonel Miles Quaritch   Avatar   \n2   avt017                                    Crabsuit Driver   Avatar   \n3   avt007                                Dr. Grace Augustine   Avatar   \n4   avt010                                 Jake Sully - Human   Avatar   \n5   avt013      Jake Sully - Na'vi, Bare Chest, No Face Paint   Avatar   \n6   avt011  Jake Sully - Na'vi, Shoulder Strap, Orange Fac...   Avatar   \n7   avt022   Jake Sully - Na'vi, Shoulder Strap, Utility Belt   Avatar   \n8   avt006                    Jake Sully - Na'vi, Toruk Makto   Avatar   \n9   avt027                                               Kiri   Avatar   \n10  avt020                                              Lo'ak   Avatar   \n11  avt005                                              Mo'at   Avatar   \n12  avt019                                            Neteyam   Avatar   \n13  avt024  Neytiri - Dark Orange Straps and Medium Nougat...   Avatar   \n14  avt004  Neytiri - Lime and Magenta Feather Necklace, C...   Avatar   \n15  avt012  Neytiri - Lime and Magenta Feather Necklace, H...   Avatar   \n16  avt001               Neytiri - Yellow Armor and War Paint   Avatar   \n17  avt009                              Norm Spellman - Na'vi   Avatar   \n18  avt018                               RDA Quaritch - Na'vi   Avatar   \n19  avt026                                              Ronal   Avatar   \n20  avt016                                             Spider   Avatar   \n21  avt023     Tonowari - Reddish Brown Strap and Silver Belt   Avatar   \n22  avt025               Tonowari - Silver Necklace and Beads   Avatar   \n23  avt008                                       Trudy Chacon   Avatar   \n24  avt015                                            Tsireya   Avatar   \n25  avt003                                            Tsu'tey   Avatar   \n26  avt014                                                Tuk   Avatar   \n\n        sub_category                                              image  \\\n0   The Way of Water  https://img.bricklink.com/ItemImage/MN/0/avt02...   \n1               None  https://img.bricklink.com/ItemImage/MN/0/avt00...   \n2   The Way of Water  https://img.bricklink.com/ItemImage/MN/0/avt01...   \n3               None  https://img.bricklink.com/ItemImage/MN/0/avt00...   \n4               None  https://img.bricklink.com/ItemImage/MN/0/avt01...   \n5               None  https://img.bricklink.com/ItemImage/MN/0/avt01...   \n6               None  https://img.bricklink.com/ItemImage/MN/0/avt01...   \n7   The Way of Water  https://img.bricklink.com/ItemImage/MN/0/avt02...   \n8               None  https://img.bricklink.com/ItemImage/MN/0/avt00...   \n9   The Way of Water  https://img.bricklink.com/ItemImage/MN/0/avt02...   \n10  The Way of Water  https://img.bricklink.com/ItemImage/MN/0/avt02...   \n11              None  https://img.bricklink.com/ItemImage/MN/0/avt00...   \n12  The Way of Water  https://img.bricklink.com/ItemImage/MN/0/avt01...   \n13  The Way of Water  https://img.bricklink.com/ItemImage/MN/0/avt02...   \n14              None  https://img.bricklink.com/ItemImage/MN/0/avt00...   \n15              None  https://img.bricklink.com/ItemImage/MN/0/avt01...   \n16              None  https://img.bricklink.com/ItemImage/MN/0/avt00...   \n17              None  https://img.bricklink.com/ItemImage/MN/0/avt00...   \n18  The Way of Water  https://img.bricklink.com/ItemImage/MN/0/avt01...   \n19  The Way of Water  https://img.bricklink.com/ItemImage/MN/0/avt02...   \n20  The Way of Water  https://img.bricklink.com/ItemImage/MN/0/avt01...   \n21  The Way of Water  https://img.bricklink.com/ItemImage/MN/0/avt02...   \n22  The Way of Water  https://img.bricklink.com/ItemImage/MN/0/avt02...   \n23              None  https://img.bricklink.com/ItemImage/MN/0/avt00...   \n24  The Way of Water  https://img.bricklink.com/ItemImage/MN/0/avt01...   \n25              None  https://img.bricklink.com/ItemImage/MN/0/avt00...   \n26  The Way of Water  https://img.bricklink.com/ItemImage/MN/0/avt01...   \n\n                appears_in avg_price_raw  avg_price_pln  \\\n0              ['75577-1']     PLN 57.79          57.79   \n1              ['75571-1']     PLN 24.44          24.44   \n2              ['75579-1']     PLN 82.91          82.91   \n3              ['75573-1']     PLN 40.16          40.16   \n4              ['75573-1']     PLN 38.06          38.06   \n5              ['75572-1']     PLN 34.65          34.65   \n6              ['75573-1']     PLN 63.69          63.69   \n7              ['75576-1']     PLN 44.88          44.88   \n8              ['75574-1']     PLN 41.16          41.16   \n9              ['75578-1']     PLN 66.79          66.79   \n10             ['75579-1']     PLN 62.19          62.19   \n11             ['75574-1']     PLN 31.85          31.85   \n12             ['75577-1']     PLN 45.00          45.00   \n13             ['75578-1']                          NaN   \n14             ['75574-1']                          NaN   \n15             ['75572-1']                          NaN   \n16             ['75571-1']                          NaN   \n17             ['75573-1']                          NaN   \n18             ['75577-1']                          NaN   \n19             ['75578-1']                          NaN   \n20             ['75577-1']                          NaN   \n21             ['75576-1']                          NaN   \n22             ['75578-1']                          NaN   \n23             ['75573-1']                          NaN   \n24  ['75575-1', '75579-1']                          NaN   \n25             ['75574-1']                          NaN   \n26             ['75575-1']                          NaN   \n\n                                            bricklink  release_year  \n0   https://www.bricklink.com/v2/catalog/catalogit...          2023  \n1   https://www.bricklink.com/v2/catalog/catalogit...          2022  \n2   https://www.bricklink.com/v2/catalog/catalogit...          2023  \n3   https://www.bricklink.com/v2/catalog/catalogit...          2022  \n4   https://www.bricklink.com/v2/catalog/catalogit...          2022  \n5   https://www.bricklink.com/v2/catalog/catalogit...          2022  \n6   https://www.bricklink.com/v2/catalog/catalogit...          2022  \n7   https://www.bricklink.com/v2/catalog/catalogit...          2023  \n8   https://www.bricklink.com/v2/catalog/catalogit...          2022  \n9   https://www.bricklink.com/v2/catalog/catalogit...          2023  \n10  https://www.bricklink.com/v2/catalog/catalogit...          2023  \n11  https://www.bricklink.com/v2/catalog/catalogit...          2022  \n12  https://www.bricklink.com/v2/catalog/catalogit...          2023  \n13  https://www.bricklink.com/v2/catalog/catalogit...          2023  \n14  https://www.bricklink.com/v2/catalog/catalogit...          2022  \n15  https://www.bricklink.com/v2/catalog/catalogit...          2022  \n16  https://www.bricklink.com/v2/catalog/catalogit...          2022  \n17  https://www.bricklink.com/v2/catalog/catalogit...          2022  \n18  https://www.bricklink.com/v2/catalog/catalogit...          2023  \n19  https://www.bricklink.com/v2/catalog/catalogit...          2023  \n20  https://www.bricklink.com/v2/catalog/catalogit...          2023  \n21  https://www.bricklink.com/v2/catalog/catalogit...          2023  \n22  https://www.bricklink.com/v2/catalog/catalogit...          2023  \n23  https://www.bricklink.com/v2/catalog/catalogit...          2022  \n24  https://www.bricklink.com/v2/catalog/catalogit...          2023  \n25  https://www.bricklink.com/v2/catalog/catalogit...          2022  \n26  https://www.bricklink.com/v2/catalog/catalogit...          2023  ",
      "text/html": "<div>\n<style scoped>\n    .dataframe tbody tr th:only-of-type {\n        vertical-align: middle;\n    }\n\n    .dataframe tbody tr th {\n        vertical-align: top;\n    }\n\n    .dataframe thead th {\n        text-align: right;\n    }\n</style>\n<table border=\"1\" class=\"dataframe\">\n  <thead>\n    <tr style=\"text-align: right;\">\n      <th></th>\n      <th>id</th>\n      <th>name</th>\n      <th>category</th>\n      <th>sub_category</th>\n      <th>image</th>\n      <th>appears_in</th>\n      <th>avg_price_raw</th>\n      <th>avg_price_pln</th>\n      <th>bricklink</th>\n      <th>release_year</th>\n    </tr>\n  </thead>\n  <tbody>\n    <tr>\n      <th>0</th>\n      <td>avt021</td>\n      <td>Ao'nung</td>\n      <td>Avatar</td>\n      <td>The Way of Water</td>\n      <td>https://img.bricklink.com/ItemImage/MN/0/avt02...</td>\n      <td>['75577-1']</td>\n      <td>PLN 57.79</td>\n      <td>57.79</td>\n      <td>https://www.bricklink.com/v2/catalog/catalogit...</td>\n      <td>2023</td>\n    </tr>\n    <tr>\n      <th>1</th>\n      <td>avt002</td>\n      <td>Colonel Miles Quaritch</td>\n      <td>Avatar</td>\n      <td>None</td>\n      <td>https://img.bricklink.com/ItemImage/MN/0/avt00...</td>\n      <td>['75571-1']</td>\n      <td>PLN 24.44</td>\n      <td>24.44</td>\n      <td>https://www.bricklink.com/v2/catalog/catalogit...</td>\n      <td>2022</td>\n    </tr>\n    <tr>\n      <th>2</th>\n      <td>avt017</td>\n      <td>Crabsuit Driver</td>\n      <td>Avatar</td>\n      <td>The Way of Water</td>\n      <td>https://img.bricklink.com/ItemImage/MN/0/avt01...</td>\n      <td>['75579-1']</td>\n      <td>PLN 82.91</td>\n      <td>82.91</td>\n      <td>https://www.bricklink.com/v2/catalog/catalogit...</td>\n      <td>2023</td>\n    </tr>\n    <tr>\n      <th>3</th>\n      <td>avt007</td>\n      <td>Dr. Grace Augustine</td>\n      <td>Avatar</td>\n      <td>None</td>\n      <td>https://img.bricklink.com/ItemImage/MN/0/avt00...</td>\n      <td>['75573-1']</td>\n      <td>PLN 40.16</td>\n      <td>40.16</td>\n      <td>https://www.bricklink.com/v2/catalog/catalogit...</td>\n      <td>2022</td>\n    </tr>\n    <tr>\n      <th>4</th>\n      <td>avt010</td>\n      <td>Jake Sully - Human</td>\n      <td>Avatar</td>\n      <td>None</td>\n      <td>https://img.bricklink.com/ItemImage/MN/0/avt01...</td>\n      <td>['75573-1']</td>\n      <td>PLN 38.06</td>\n      <td>38.06</td>\n      <td>https://www.bricklink.com/v2/catalog/catalogit...</td>\n      <td>2022</td>\n    </tr>\n    <tr>\n      <th>5</th>\n      <td>avt013</td>\n      <td>Jake Sully - Na'vi, Bare Chest, No Face Paint</td>\n      <td>Avatar</td>\n      <td>None</td>\n      <td>https://img.bricklink.com/ItemImage/MN/0/avt01...</td>\n      <td>['75572-1']</td>\n      <td>PLN 34.65</td>\n      <td>34.65</td>\n      <td>https://www.bricklink.com/v2/catalog/catalogit...</td>\n      <td>2022</td>\n    </tr>\n    <tr>\n      <th>6</th>\n      <td>avt011</td>\n      <td>Jake Sully - Na'vi, Shoulder Strap, Orange Fac...</td>\n      <td>Avatar</td>\n      <td>None</td>\n      <td>https://img.bricklink.com/ItemImage/MN/0/avt01...</td>\n      <td>['75573-1']</td>\n      <td>PLN 63.69</td>\n      <td>63.69</td>\n      <td>https://www.bricklink.com/v2/catalog/catalogit...</td>\n      <td>2022</td>\n    </tr>\n    <tr>\n      <th>7</th>\n      <td>avt022</td>\n      <td>Jake Sully - Na'vi, Shoulder Strap, Utility Belt</td>\n      <td>Avatar</td>\n      <td>The Way of Water</td>\n      <td>https://img.bricklink.com/ItemImage/MN/0/avt02...</td>\n      <td>['75576-1']</td>\n      <td>PLN 44.88</td>\n      <td>44.88</td>\n      <td>https://www.bricklink.com/v2/catalog/catalogit...</td>\n      <td>2023</td>\n    </tr>\n    <tr>\n      <th>8</th>\n      <td>avt006</td>\n      <td>Jake Sully - Na'vi, Toruk Makto</td>\n      <td>Avatar</td>\n      <td>None</td>\n      <td>https://img.bricklink.com/ItemImage/MN/0/avt00...</td>\n      <td>['75574-1']</td>\n      <td>PLN 41.16</td>\n      <td>41.16</td>\n      <td>https://www.bricklink.com/v2/catalog/catalogit...</td>\n      <td>2022</td>\n    </tr>\n    <tr>\n      <th>9</th>\n      <td>avt027</td>\n      <td>Kiri</td>\n      <td>Avatar</td>\n      <td>The Way of Water</td>\n      <td>https://img.bricklink.com/ItemImage/MN/0/avt02...</td>\n      <td>['75578-1']</td>\n      <td>PLN 66.79</td>\n      <td>66.79</td>\n      <td>https://www.bricklink.com/v2/catalog/catalogit...</td>\n      <td>2023</td>\n    </tr>\n    <tr>\n      <th>10</th>\n      <td>avt020</td>\n      <td>Lo'ak</td>\n      <td>Avatar</td>\n      <td>The Way of Water</td>\n      <td>https://img.bricklink.com/ItemImage/MN/0/avt02...</td>\n      <td>['75579-1']</td>\n      <td>PLN 62.19</td>\n      <td>62.19</td>\n      <td>https://www.bricklink.com/v2/catalog/catalogit...</td>\n      <td>2023</td>\n    </tr>\n    <tr>\n      <th>11</th>\n      <td>avt005</td>\n      <td>Mo'at</td>\n      <td>Avatar</td>\n      <td>None</td>\n      <td>https://img.bricklink.com/ItemImage/MN/0/avt00...</td>\n      <td>['75574-1']</td>\n      <td>PLN 31.85</td>\n      <td>31.85</td>\n      <td>https://www.bricklink.com/v2/catalog/catalogit...</td>\n      <td>2022</td>\n    </tr>\n    <tr>\n      <th>12</th>\n      <td>avt019</td>\n      <td>Neteyam</td>\n      <td>Avatar</td>\n      <td>The Way of Water</td>\n      <td>https://img.bricklink.com/ItemImage/MN/0/avt01...</td>\n      <td>['75577-1']</td>\n      <td>PLN 45.00</td>\n      <td>45.00</td>\n      <td>https://www.bricklink.com/v2/catalog/catalogit...</td>\n      <td>2023</td>\n    </tr>\n    <tr>\n      <th>13</th>\n      <td>avt024</td>\n      <td>Neytiri - Dark Orange Straps and Medium Nougat...</td>\n      <td>Avatar</td>\n      <td>The Way of Water</td>\n      <td>https://img.bricklink.com/ItemImage/MN/0/avt02...</td>\n      <td>['75578-1']</td>\n      <td></td>\n      <td>NaN</td>\n      <td>https://www.bricklink.com/v2/catalog/catalogit...</td>\n      <td>2023</td>\n    </tr>\n    <tr>\n      <th>14</th>\n      <td>avt004</td>\n      <td>Neytiri - Lime and Magenta Feather Necklace, C...</td>\n      <td>Avatar</td>\n      <td>None</td>\n      <td>https://img.bricklink.com/ItemImage/MN/0/avt00...</td>\n      <td>['75574-1']</td>\n      <td></td>\n      <td>NaN</td>\n      <td>https://www.bricklink.com/v2/catalog/catalogit...</td>\n      <td>2022</td>\n    </tr>\n    <tr>\n      <th>15</th>\n      <td>avt012</td>\n      <td>Neytiri - Lime and Magenta Feather Necklace, H...</td>\n      <td>Avatar</td>\n      <td>None</td>\n      <td>https://img.bricklink.com/ItemImage/MN/0/avt01...</td>\n      <td>['75572-1']</td>\n      <td></td>\n      <td>NaN</td>\n      <td>https://www.bricklink.com/v2/catalog/catalogit...</td>\n      <td>2022</td>\n    </tr>\n    <tr>\n      <th>16</th>\n      <td>avt001</td>\n      <td>Neytiri - Yellow Armor and War Paint</td>\n      <td>Avatar</td>\n      <td>None</td>\n      <td>https://img.bricklink.com/ItemImage/MN/0/avt00...</td>\n      <td>['75571-1']</td>\n      <td></td>\n      <td>NaN</td>\n      <td>https://www.bricklink.com/v2/catalog/catalogit...</td>\n      <td>2022</td>\n    </tr>\n    <tr>\n      <th>17</th>\n      <td>avt009</td>\n      <td>Norm Spellman - Na'vi</td>\n      <td>Avatar</td>\n      <td>None</td>\n      <td>https://img.bricklink.com/ItemImage/MN/0/avt00...</td>\n      <td>['75573-1']</td>\n      <td></td>\n      <td>NaN</td>\n      <td>https://www.bricklink.com/v2/catalog/catalogit...</td>\n      <td>2022</td>\n    </tr>\n    <tr>\n      <th>18</th>\n      <td>avt018</td>\n      <td>RDA Quaritch - Na'vi</td>\n      <td>Avatar</td>\n      <td>The Way of Water</td>\n      <td>https://img.bricklink.com/ItemImage/MN/0/avt01...</td>\n      <td>['75577-1']</td>\n      <td></td>\n      <td>NaN</td>\n      <td>https://www.bricklink.com/v2/catalog/catalogit...</td>\n      <td>2023</td>\n    </tr>\n    <tr>\n      <th>19</th>\n      <td>avt026</td>\n      <td>Ronal</td>\n      <td>Avatar</td>\n      <td>The Way of Water</td>\n      <td>https://img.bricklink.com/ItemImage/MN/0/avt02...</td>\n      <td>['75578-1']</td>\n      <td></td>\n      <td>NaN</td>\n      <td>https://www.bricklink.com/v2/catalog/catalogit...</td>\n      <td>2023</td>\n    </tr>\n    <tr>\n      <th>20</th>\n      <td>avt016</td>\n      <td>Spider</td>\n      <td>Avatar</td>\n      <td>The Way of Water</td>\n      <td>https://img.bricklink.com/ItemImage/MN/0/avt01...</td>\n      <td>['75577-1']</td>\n      <td></td>\n      <td>NaN</td>\n      <td>https://www.bricklink.com/v2/catalog/catalogit...</td>\n      <td>2023</td>\n    </tr>\n    <tr>\n      <th>21</th>\n      <td>avt023</td>\n      <td>Tonowari - Reddish Brown Strap and Silver Belt</td>\n      <td>Avatar</td>\n      <td>The Way of Water</td>\n      <td>https://img.bricklink.com/ItemImage/MN/0/avt02...</td>\n      <td>['75576-1']</td>\n      <td></td>\n      <td>NaN</td>\n      <td>https://www.bricklink.com/v2/catalog/catalogit...</td>\n      <td>2023</td>\n    </tr>\n    <tr>\n      <th>22</th>\n      <td>avt025</td>\n      <td>Tonowari - Silver Necklace and Beads</td>\n      <td>Avatar</td>\n      <td>The Way of Water</td>\n      <td>https://img.bricklink.com/ItemImage/MN/0/avt02...</td>\n      <td>['75578-1']</td>\n      <td></td>\n      <td>NaN</td>\n      <td>https://www.bricklink.com/v2/catalog/catalogit...</td>\n      <td>2023</td>\n    </tr>\n    <tr>\n      <th>23</th>\n      <td>avt008</td>\n      <td>Trudy Chacon</td>\n      <td>Avatar</td>\n      <td>None</td>\n      <td>https://img.bricklink.com/ItemImage/MN/0/avt00...</td>\n      <td>['75573-1']</td>\n      <td></td>\n      <td>NaN</td>\n      <td>https://www.bricklink.com/v2/catalog/catalogit...</td>\n      <td>2022</td>\n    </tr>\n    <tr>\n      <th>24</th>\n      <td>avt015</td>\n      <td>Tsireya</td>\n      <td>Avatar</td>\n      <td>The Way of Water</td>\n      <td>https://img.bricklink.com/ItemImage/MN/0/avt01...</td>\n      <td>['75575-1', '75579-1']</td>\n      <td></td>\n      <td>NaN</td>\n      <td>https://www.bricklink.com/v2/catalog/catalogit...</td>\n      <td>2023</td>\n    </tr>\n    <tr>\n      <th>25</th>\n      <td>avt003</td>\n      <td>Tsu'tey</td>\n      <td>Avatar</td>\n      <td>None</td>\n      <td>https://img.bricklink.com/ItemImage/MN/0/avt00...</td>\n      <td>['75574-1']</td>\n      <td></td>\n      <td>NaN</td>\n      <td>https://www.bricklink.com/v2/catalog/catalogit...</td>\n      <td>2022</td>\n    </tr>\n    <tr>\n      <th>26</th>\n      <td>avt014</td>\n      <td>Tuk</td>\n      <td>Avatar</td>\n      <td>The Way of Water</td>\n      <td>https://img.bricklink.com/ItemImage/MN/0/avt01...</td>\n      <td>['75575-1']</td>\n      <td></td>\n      <td>NaN</td>\n      <td>https://www.bricklink.com/v2/catalog/catalogit...</td>\n      <td>2023</td>\n    </tr>\n  </tbody>\n</table>\n</div>"
     },
     "execution_count": 4,
     "metadata": {},
     "output_type": "execute_result"
    }
   ],
   "source": [
    "df"
   ],
   "metadata": {
    "collapsed": false,
    "ExecuteTime": {
     "end_time": "2023-09-04T07:38:26.127791Z",
     "start_time": "2023-09-04T07:38:26.088934Z"
    }
   },
   "id": "4f4d833887ac1244"
  },
  {
   "cell_type": "code",
   "execution_count": 30,
   "outputs": [
    {
     "name": "stdout",
     "output_type": "stream",
     "text": [
      "[\"2-1B Medical Droid (Badge with Letter 'T' Pattern)\", '2-1B Medical Droid (Dotted Badge and Peeling Paint Pattern)', '2-1B Medical Droid (Dotted Badge Pattern, Dark Bluish Gray Legs)', '2-1B Medical Droid (Dotted Badge Pattern, Light Bluish Gray Legs)', '4-LOM', 'Aayla Secura', 'Aayla Secura - Large Eyes', 'Admiral (Colonel) Wullf Yularen', 'Admiral Ackbar', 'Admiral Ackbar (Medium Nougat Robe)']\n"
     ]
    }
   ],
   "source": [
    "print(df[\"name\"].tolist())"
   ],
   "metadata": {
    "collapsed": false,
    "ExecuteTime": {
     "end_time": "2023-09-03T17:02:24.555200Z",
     "start_time": "2023-09-03T17:02:24.548161Z"
    }
   },
   "id": "7a4fe3c7d10c9b58"
  },
  {
   "cell_type": "code",
   "execution_count": 31,
   "outputs": [
    {
     "data": {
      "text/plain": "10"
     },
     "execution_count": 31,
     "metadata": {},
     "output_type": "execute_result"
    }
   ],
   "source": [
    "len(df[\"id\"].tolist())"
   ],
   "metadata": {
    "collapsed": false,
    "ExecuteTime": {
     "end_time": "2023-09-03T17:02:25.416633Z",
     "start_time": "2023-09-03T17:02:25.408030Z"
    }
   },
   "id": "79b367cd2bb448ea"
  },
  {
   "cell_type": "code",
   "execution_count": 35,
   "outputs": [
    {
     "name": "stdout",
     "output_type": "stream",
     "text": [
      "['PLN 40.71', 'PLN 158.25', 'PLN 63.56', 'PLN 70.06', 'PLN 28.60', '', '', '', '', '']\n"
     ]
    }
   ],
   "source": [
    "print(df[\"avg_price_raw\"].tolist())"
   ],
   "metadata": {
    "collapsed": false,
    "ExecuteTime": {
     "end_time": "2023-09-03T17:02:53.992103Z",
     "start_time": "2023-09-03T17:02:53.983946Z"
    }
   },
   "id": "7e20c718c9e5b601"
  },
  {
   "cell_type": "code",
   "execution_count": 34,
   "outputs": [
    {
     "name": "stdout",
     "output_type": "stream",
     "text": [
      "[2010, 2018, 2018, 2011, 2017, 2017, 2010, 2015, 2009, 2016]\n"
     ]
    }
   ],
   "source": [
    "print(df[\"release_year\"].tolist())"
   ],
   "metadata": {
    "collapsed": false,
    "ExecuteTime": {
     "end_time": "2023-09-03T17:02:37.743943Z",
     "start_time": "2023-09-03T17:02:37.735709Z"
    }
   },
   "id": "e836f48750d5de04"
  },
  {
   "cell_type": "code",
   "execution_count": null,
   "outputs": [],
   "source": [],
   "metadata": {
    "collapsed": false
   },
   "id": "d6d1d316a578847d"
  }
 ],
 "metadata": {
  "kernelspec": {
   "display_name": "Python 3",
   "language": "python",
   "name": "python3"
  },
  "language_info": {
   "codemirror_mode": {
    "name": "ipython",
    "version": 2
   },
   "file_extension": ".py",
   "mimetype": "text/x-python",
   "name": "python",
   "nbconvert_exporter": "python",
   "pygments_lexer": "ipython2",
   "version": "2.7.6"
  }
 },
 "nbformat": 4,
 "nbformat_minor": 5
}
