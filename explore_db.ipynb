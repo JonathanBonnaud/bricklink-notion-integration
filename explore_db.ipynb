{
 "cells": [
  {
   "cell_type": "code",
   "execution_count": 1,
   "id": "initial_id",
   "metadata": {
    "collapsed": true,
    "ExecuteTime": {
     "end_time": "2023-09-06T09:05:34.081935Z",
     "start_time": "2023-09-06T09:05:31.061636Z"
    }
   },
   "outputs": [],
   "source": [
    "import sqlite3\n",
    "import pandas as pd"
   ]
  },
  {
   "cell_type": "code",
   "execution_count": 64,
   "outputs": [],
   "source": [
    "conn = sqlite3.connect('data/lego.db')\n",
    "df = pd.read_sql_query(\"SELECT * FROM minifigs WHERE category = 'Avatar'\", conn)"
   ],
   "metadata": {
    "collapsed": false,
    "ExecuteTime": {
     "end_time": "2023-09-06T15:09:52.575623Z",
     "start_time": "2023-09-06T15:09:52.564704Z"
    }
   },
   "id": "3b1a7c8a60eb4a4b"
  },
  {
   "cell_type": "code",
   "execution_count": 65,
   "outputs": [
    {
     "name": "stdout",
     "output_type": "stream",
     "text": [
      "<class 'pandas.core.frame.DataFrame'>\n",
      "RangeIndex: 27 entries, 0 to 26\n",
      "Data columns (total 11 columns):\n",
      " #   Column         Non-Null Count  Dtype  \n",
      "---  ------         --------------  -----  \n",
      " 0   id             27 non-null     object \n",
      " 1   name           27 non-null     object \n",
      " 2   category       27 non-null     object \n",
      " 3   sub_category   22 non-null     object \n",
      " 4   image          27 non-null     object \n",
      " 5   appears_in     27 non-null     object \n",
      " 6   avg_price_raw  27 non-null     object \n",
      " 7   avg_price_pln  23 non-null     float64\n",
      " 8   avg_price_eur  23 non-null     float64\n",
      " 9   bricklink      27 non-null     object \n",
      " 10  release_year   27 non-null     int64  \n",
      "dtypes: float64(2), int64(1), object(8)\n",
      "memory usage: 2.4+ KB\n"
     ]
    }
   ],
   "source": [
    "df.info()"
   ],
   "metadata": {
    "collapsed": false,
    "ExecuteTime": {
     "end_time": "2023-09-06T15:09:53.062600Z",
     "start_time": "2023-09-06T15:09:53.051980Z"
    }
   },
   "id": "9550c132d56a0a6c"
  },
  {
   "cell_type": "code",
   "execution_count": 66,
   "outputs": [
    {
     "data": {
      "text/plain": "{'',\n 'EUR 10.78',\n 'EUR 11.30',\n 'EUR 13.00',\n 'EUR 6.88',\n 'EUR 7.17',\n 'EUR 7.23',\n 'EUR 8.54',\n 'PLN 28.03',\n 'PLN 31.24',\n 'PLN 32.04',\n 'PLN 34.89',\n 'PLN 40.51',\n 'PLN 41.14',\n 'PLN 41.42',\n 'PLN 41.58',\n 'PLN 42.45',\n 'PLN 45.41',\n 'PLN 62.83',\n 'PLN 64.21',\n 'PLN 67.16',\n 'PLN 83.78'}"
     },
     "execution_count": 66,
     "metadata": {},
     "output_type": "execute_result"
    }
   ],
   "source": [
    "set(df[\"avg_price_raw\"].values)  #[df[\"release_year\"] == \"?\"]"
   ],
   "metadata": {
    "collapsed": false,
    "ExecuteTime": {
     "end_time": "2023-09-06T15:09:57.000007Z",
     "start_time": "2023-09-06T15:09:56.991899Z"
    }
   },
   "id": "4f4d833887ac1244"
  },
  {
   "cell_type": "code",
   "execution_count": 67,
   "outputs": [
    {
     "data": {
      "text/plain": "Empty DataFrame\nColumns: [id, name, category, sub_category, image, appears_in, avg_price_raw, avg_price_pln, avg_price_eur, bricklink, release_year]\nIndex: []",
      "text/html": "<div>\n<style scoped>\n    .dataframe tbody tr th:only-of-type {\n        vertical-align: middle;\n    }\n\n    .dataframe tbody tr th {\n        vertical-align: top;\n    }\n\n    .dataframe thead th {\n        text-align: right;\n    }\n</style>\n<table border=\"1\" class=\"dataframe\">\n  <thead>\n    <tr style=\"text-align: right;\">\n      <th></th>\n      <th>id</th>\n      <th>name</th>\n      <th>category</th>\n      <th>sub_category</th>\n      <th>image</th>\n      <th>appears_in</th>\n      <th>avg_price_raw</th>\n      <th>avg_price_pln</th>\n      <th>avg_price_eur</th>\n      <th>bricklink</th>\n      <th>release_year</th>\n    </tr>\n  </thead>\n  <tbody>\n  </tbody>\n</table>\n</div>"
     },
     "execution_count": 67,
     "metadata": {},
     "output_type": "execute_result"
    }
   ],
   "source": [
    "df[df[\"avg_price_raw\"] == \"None\"]"
   ],
   "metadata": {
    "collapsed": false,
    "ExecuteTime": {
     "end_time": "2023-09-06T15:10:06.496092Z",
     "start_time": "2023-09-06T15:10:06.490861Z"
    }
   },
   "id": "d7edaf325d096d87"
  },
  {
   "cell_type": "code",
   "execution_count": 8,
   "outputs": [
    {
     "data": {
      "text/plain": "       id                                               name   category  \\\n0  sw0282  2-1B Medical Droid (Badge with Letter 'T' Patt...  Star Wars   \n\n          sub_category                                              image  \\\n0  Star Wars Episode 3  https://img.bricklink.com/ItemImage/MN/0/sw028...   \n\n   appears_in avg_price_raw  avg_price_pln  \\\n0  ['8096-1']     PLN 40.71          40.71   \n\n                                           bricklink release_year  \n0  https://www.bricklink.com/v2/catalog/catalogit...         2010  ",
      "text/html": "<div>\n<style scoped>\n    .dataframe tbody tr th:only-of-type {\n        vertical-align: middle;\n    }\n\n    .dataframe tbody tr th {\n        vertical-align: top;\n    }\n\n    .dataframe thead th {\n        text-align: right;\n    }\n</style>\n<table border=\"1\" class=\"dataframe\">\n  <thead>\n    <tr style=\"text-align: right;\">\n      <th></th>\n      <th>id</th>\n      <th>name</th>\n      <th>category</th>\n      <th>sub_category</th>\n      <th>image</th>\n      <th>appears_in</th>\n      <th>avg_price_raw</th>\n      <th>avg_price_pln</th>\n      <th>bricklink</th>\n      <th>release_year</th>\n    </tr>\n  </thead>\n  <tbody>\n    <tr>\n      <th>0</th>\n      <td>sw0282</td>\n      <td>2-1B Medical Droid (Badge with Letter 'T' Patt...</td>\n      <td>Star Wars</td>\n      <td>Star Wars Episode 3</td>\n      <td>https://img.bricklink.com/ItemImage/MN/0/sw028...</td>\n      <td>['8096-1']</td>\n      <td>PLN 40.71</td>\n      <td>40.71</td>\n      <td>https://www.bricklink.com/v2/catalog/catalogit...</td>\n      <td>2010</td>\n    </tr>\n  </tbody>\n</table>\n</div>"
     },
     "execution_count": 8,
     "metadata": {},
     "output_type": "execute_result"
    }
   ],
   "source": [
    "df[df[\"id\"] == \"sw0282\"]"
   ],
   "metadata": {
    "collapsed": false,
    "ExecuteTime": {
     "end_time": "2023-09-05T08:29:42.847790Z",
     "start_time": "2023-09-05T08:29:42.841520Z"
    }
   },
   "id": "6af773e647d8928d"
  },
  {
   "cell_type": "code",
   "execution_count": 30,
   "outputs": [
    {
     "name": "stdout",
     "output_type": "stream",
     "text": [
      "[\"2-1B Medical Droid (Badge with Letter 'T' Pattern)\", '2-1B Medical Droid (Dotted Badge and Peeling Paint Pattern)', '2-1B Medical Droid (Dotted Badge Pattern, Dark Bluish Gray Legs)', '2-1B Medical Droid (Dotted Badge Pattern, Light Bluish Gray Legs)', '4-LOM', 'Aayla Secura', 'Aayla Secura - Large Eyes', 'Admiral (Colonel) Wullf Yularen', 'Admiral Ackbar', 'Admiral Ackbar (Medium Nougat Robe)']\n"
     ]
    }
   ],
   "source": [
    "print(df[\"name\"].tolist())"
   ],
   "metadata": {
    "collapsed": false,
    "ExecuteTime": {
     "end_time": "2023-09-03T17:02:24.555200Z",
     "start_time": "2023-09-03T17:02:24.548161Z"
    }
   },
   "id": "7a4fe3c7d10c9b58"
  },
  {
   "cell_type": "code",
   "execution_count": 31,
   "outputs": [
    {
     "data": {
      "text/plain": "10"
     },
     "execution_count": 31,
     "metadata": {},
     "output_type": "execute_result"
    }
   ],
   "source": [
    "len(df[\"id\"].tolist())"
   ],
   "metadata": {
    "collapsed": false,
    "ExecuteTime": {
     "end_time": "2023-09-03T17:02:25.416633Z",
     "start_time": "2023-09-03T17:02:25.408030Z"
    }
   },
   "id": "79b367cd2bb448ea"
  },
  {
   "cell_type": "code",
   "execution_count": 35,
   "outputs": [
    {
     "name": "stdout",
     "output_type": "stream",
     "text": [
      "['PLN 40.71', 'PLN 158.25', 'PLN 63.56', 'PLN 70.06', 'PLN 28.60', '', '', '', '', '']\n"
     ]
    }
   ],
   "source": [
    "print(df[\"avg_price_raw\"].tolist())"
   ],
   "metadata": {
    "collapsed": false,
    "ExecuteTime": {
     "end_time": "2023-09-03T17:02:53.992103Z",
     "start_time": "2023-09-03T17:02:53.983946Z"
    }
   },
   "id": "7e20c718c9e5b601"
  },
  {
   "cell_type": "code",
   "execution_count": 34,
   "outputs": [
    {
     "name": "stdout",
     "output_type": "stream",
     "text": [
      "[2010, 2018, 2018, 2011, 2017, 2017, 2010, 2015, 2009, 2016]\n"
     ]
    }
   ],
   "source": [
    "print(df[\"release_year\"].tolist())"
   ],
   "metadata": {
    "collapsed": false,
    "ExecuteTime": {
     "end_time": "2023-09-03T17:02:37.743943Z",
     "start_time": "2023-09-03T17:02:37.735709Z"
    }
   },
   "id": "e836f48750d5de04"
  },
  {
   "cell_type": "code",
   "execution_count": 68,
   "outputs": [],
   "source": [
    "conn = sqlite3.connect('data/lego.db')\n",
    "df = pd.read_sql_query(\"SELECT * FROM notion_mapping\", conn)"
   ],
   "metadata": {
    "collapsed": false,
    "ExecuteTime": {
     "end_time": "2023-09-06T15:12:52.746185Z",
     "start_time": "2023-09-06T15:12:52.734119Z"
    }
   },
   "id": "cec0cbd1a034b2d7"
  },
  {
   "cell_type": "code",
   "execution_count": 69,
   "outputs": [
    {
     "data": {
      "text/plain": "                                   page_id   bl_id\n0     1bea3f87-e54b-4c0f-bdcd-11362c03ebca  sw0002\n1     2cc3703f-76c0-470c-8e1d-6e9385940743  sw0003\n2     f0eb3828-3c82-433a-8135-c1cea506888a  sw0004\n3     c806677c-e290-43af-abcb-fd31df963719  sw0005\n4     68d7f91e-44e5-4eab-b2e0-5d5139b22277  sw0006\n...                                    ...     ...\n1361  fe80cd77-a2f5-4c39-8a65-4050deb2e075  avt023\n1362  316d3fa0-3d16-4638-8cba-85d574ba6d17  avt024\n1363  3ec23aa5-e14e-499d-b6e5-16d034bc8c8e  avt025\n1364  261768b0-5c6a-4e42-abb1-f0b1eb9aca0c  avt026\n1365  c4711f6d-aaed-4c5c-8e0d-d01d93a54f2a  avt027\n\n[1366 rows x 2 columns]",
      "text/html": "<div>\n<style scoped>\n    .dataframe tbody tr th:only-of-type {\n        vertical-align: middle;\n    }\n\n    .dataframe tbody tr th {\n        vertical-align: top;\n    }\n\n    .dataframe thead th {\n        text-align: right;\n    }\n</style>\n<table border=\"1\" class=\"dataframe\">\n  <thead>\n    <tr style=\"text-align: right;\">\n      <th></th>\n      <th>page_id</th>\n      <th>bl_id</th>\n    </tr>\n  </thead>\n  <tbody>\n    <tr>\n      <th>0</th>\n      <td>1bea3f87-e54b-4c0f-bdcd-11362c03ebca</td>\n      <td>sw0002</td>\n    </tr>\n    <tr>\n      <th>1</th>\n      <td>2cc3703f-76c0-470c-8e1d-6e9385940743</td>\n      <td>sw0003</td>\n    </tr>\n    <tr>\n      <th>2</th>\n      <td>f0eb3828-3c82-433a-8135-c1cea506888a</td>\n      <td>sw0004</td>\n    </tr>\n    <tr>\n      <th>3</th>\n      <td>c806677c-e290-43af-abcb-fd31df963719</td>\n      <td>sw0005</td>\n    </tr>\n    <tr>\n      <th>4</th>\n      <td>68d7f91e-44e5-4eab-b2e0-5d5139b22277</td>\n      <td>sw0006</td>\n    </tr>\n    <tr>\n      <th>...</th>\n      <td>...</td>\n      <td>...</td>\n    </tr>\n    <tr>\n      <th>1361</th>\n      <td>fe80cd77-a2f5-4c39-8a65-4050deb2e075</td>\n      <td>avt023</td>\n    </tr>\n    <tr>\n      <th>1362</th>\n      <td>316d3fa0-3d16-4638-8cba-85d574ba6d17</td>\n      <td>avt024</td>\n    </tr>\n    <tr>\n      <th>1363</th>\n      <td>3ec23aa5-e14e-499d-b6e5-16d034bc8c8e</td>\n      <td>avt025</td>\n    </tr>\n    <tr>\n      <th>1364</th>\n      <td>261768b0-5c6a-4e42-abb1-f0b1eb9aca0c</td>\n      <td>avt026</td>\n    </tr>\n    <tr>\n      <th>1365</th>\n      <td>c4711f6d-aaed-4c5c-8e0d-d01d93a54f2a</td>\n      <td>avt027</td>\n    </tr>\n  </tbody>\n</table>\n<p>1366 rows × 2 columns</p>\n</div>"
     },
     "execution_count": 69,
     "metadata": {},
     "output_type": "execute_result"
    }
   ],
   "source": [
    "df"
   ],
   "metadata": {
    "collapsed": false,
    "ExecuteTime": {
     "end_time": "2023-09-06T15:12:53.436051Z",
     "start_time": "2023-09-06T15:12:53.428090Z"
    }
   },
   "id": "9f4cd73aaff9a31"
  },
  {
   "cell_type": "code",
   "execution_count": 71,
   "outputs": [
    {
     "data": {
      "text/plain": "1366"
     },
     "execution_count": 71,
     "metadata": {},
     "output_type": "execute_result"
    }
   ],
   "source": [
    "len(set(df[\"bl_id\"].values))"
   ],
   "metadata": {
    "collapsed": false,
    "ExecuteTime": {
     "end_time": "2023-09-06T15:13:49.912180Z",
     "start_time": "2023-09-06T15:13:49.904218Z"
    }
   },
   "id": "b8b61afad442acae"
  },
  {
   "cell_type": "code",
   "execution_count": null,
   "outputs": [],
   "source": [],
   "metadata": {
    "collapsed": false
   },
   "id": "bbcd42414d5e3ec9"
  }
 ],
 "metadata": {
  "kernelspec": {
   "display_name": "Python 3",
   "language": "python",
   "name": "python3"
  },
  "language_info": {
   "codemirror_mode": {
    "name": "ipython",
    "version": 2
   },
   "file_extension": ".py",
   "mimetype": "text/x-python",
   "name": "python",
   "nbconvert_exporter": "python",
   "pygments_lexer": "ipython2",
   "version": "2.7.6"
  }
 },
 "nbformat": 4,
 "nbformat_minor": 5
}
